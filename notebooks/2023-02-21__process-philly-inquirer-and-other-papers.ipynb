{
 "cells": [
  {
   "cell_type": "code",
   "execution_count": 838,
   "id": "2bd2f300",
   "metadata": {},
   "outputs": [],
   "source": [
    "from importlib import reload\n",
    "import glob\n",
    "import sys\n",
    "sys.path.insert(0, '../scripts/')\n",
    "import get_bounding_boxes_from_html as bb\n",
    "import os \n",
    "from playwright.async_api import async_playwright\n",
    "import scrape_using_wget as s\n",
    "import math\n",
    "from tqdm.auto import tqdm\n",
    "import pandas as pd\n",
    "import seaborn as sns\n",
    "import numpy as np \n",
    "import matplotlib.pyplot as plt \n",
    "here = os.getcwd()"
   ]
  },
  {
   "cell_type": "code",
   "execution_count": 839,
   "id": "0df14fab",
   "metadata": {},
   "outputs": [],
   "source": [
    "wayback_scrape_dir = '../data/web.archive.org/'\n",
    "inquirer_files = glob.glob(\n",
    "    wayback_scrape_dir + '/web/*[!_]/inquirer.com/*'\n",
    ")\n",
    "\n",
    "inquirer_files = sorted(inquirer_files, key=lambda x: x.split('/')[-3])\n",
    "# bounding_box_dfs, all_height_width = await bb.get_bounding_boxes_for_files(\n",
    "#     nyt_files, here=here, headless=True\n",
    "# )"
   ]
  },
  {
   "cell_type": "code",
   "execution_count": 840,
   "id": "4396eadd",
   "metadata": {},
   "outputs": [
    {
     "name": "stderr",
     "output_type": "stream",
     "text": [
      "/Users/spangher/Projects/usc-research/newsworthiness/notebooks/../scripts/get_bounding_boxes_from_html.py:486: RuntimeWarning: coroutine 'Browser.new_context' was never awaited\n",
      "  browser.new_context(screen={'width': 860, 'height': 2040})\n",
      "RuntimeWarning: Enable tracemalloc to get the object allocation traceback\n"
     ]
    }
   ],
   "source": [
    "page, browser, playwright = await bb.instantiate_new_page_object(headless=False, block_external_files=False)"
   ]
  },
  {
   "cell_type": "code",
   "execution_count": 95,
   "id": "982768b0",
   "metadata": {},
   "outputs": [
    {
     "data": {
      "text/plain": [
       "<Response url='file:///Users/spangher/Projects/usc-research/newsworthiness/data/web.archive.org//web/20221201001539/inquirer.com/index.html' request=<Request url='file:///Users/spangher/Projects/usc-research/newsworthiness/data/web.archive.org//web/20221201001539/inquirer.com/index.html' method='GET'>>"
      ]
     },
     "execution_count": 95,
     "metadata": {},
     "output_type": "execute_result"
    }
   ],
   "source": [
    "one_file = inquirer_files[0]\n",
    "fp = os.path.join(here, one_file)\n",
    "file = f'file://{fp}'\n",
    "\n",
    "await page.goto(file, timeout=0)"
   ]
  },
  {
   "cell_type": "code",
   "execution_count": 96,
   "id": "3141b26a",
   "metadata": {},
   "outputs": [
    {
     "data": {
      "application/vnd.jupyter.widget-view+json": {
       "model_id": "3c1f2f37c4bf4b6883572abe05643c44",
       "version_major": 2,
       "version_minor": 0
      },
      "text/plain": [
       "  0%|          | 0/569 [00:00<?, ?it/s]"
      ]
     },
     "metadata": {},
     "output_type": "display_data"
    }
   ],
   "source": [
    "bounding_boxes, _ = await bb.get_bounding_boxes_for_files(\n",
    "    inquirer_files, \n",
    ")"
   ]
  },
  {
   "cell_type": "code",
   "execution_count": 97,
   "id": "d0dabb67",
   "metadata": {},
   "outputs": [],
   "source": [
    "bounding_boxes = list(filter(lambda x: len(x) > 0, bounding_boxes))"
   ]
  },
  {
   "cell_type": "code",
   "execution_count": 108,
   "id": "fe0ec626",
   "metadata": {},
   "outputs": [],
   "source": [
    "idx = 6\n",
    "merged_bb, bb_1, bb_2 = bb.merge_and_dedupe_bbs(bounding_boxes[idx], bounding_boxes[idx+1])"
   ]
  },
  {
   "cell_type": "code",
   "execution_count": null,
   "id": "2e714d14",
   "metadata": {},
   "outputs": [],
   "source": []
  },
  {
   "cell_type": "code",
   "execution_count": null,
   "id": "ff1cd1cb",
   "metadata": {},
   "outputs": [],
   "source": [
    "# resize by bands"
   ]
  },
  {
   "cell_type": "code",
   "execution_count": null,
   "id": "e0c90798",
   "metadata": {},
   "outputs": [],
   "source": [
    "band_start_stops = []\n",
    "for bb_df in tqdm(bounding_boxes[len(band_start_stops):]):\n",
    "    try:\n",
    "        bb_df['bands'] = bb_df.pipe(bb.get_bands_for_each_article)\n",
    "        one_df_start_stop = bb.get_min_max_height_for_each_band(bb_df)\n",
    "        band_start_stops.append(one_df_start_stop)\n",
    "    except Exception as e:\n",
    "        print(f'failed on {str(e)}')\n",
    "        continue"
   ]
  },
  {
   "cell_type": "code",
   "execution_count": null,
   "id": "977252a8",
   "metadata": {},
   "outputs": [],
   "source": [
    "num_banding_patterns = list(set(map(lambda x: x.shape[0], band_start_stops)))\n",
    "pd.Series(map(lambda x: x.shape[0], band_start_stops)).value_counts()"
   ]
  },
  {
   "cell_type": "code",
   "execution_count": 140,
   "id": "678a7bef",
   "metadata": {},
   "outputs": [],
   "source": [
    "mean_start_stops = {\n",
    "    i: bb.get_mean_start_stops_shifted(i, band_start_stops) \n",
    "    for i in num_banding_patterns\n",
    "}"
   ]
  },
  {
   "cell_type": "code",
   "execution_count": 143,
   "id": "e351ddae",
   "metadata": {},
   "outputs": [
    {
     "data": {
      "application/vnd.jupyter.widget-view+json": {
       "model_id": "38f70d3a905d403b9394f3bfa704976a",
       "version_major": 2,
       "version_minor": 0
      },
      "text/plain": [
       "  0%|          | 0/558 [00:00<?, ?it/s]"
      ]
     },
     "metadata": {},
     "output_type": "display_data"
    },
    {
     "name": "stderr",
     "output_type": "stream",
     "text": [
      "/Users/spangher/Projects/usc-research/newsworthiness/notebooks/../scripts/get_bounding_boxes_from_html.py:668: RuntimeWarning: invalid value encountered in double_scalars\n",
      "  x_bins = np.arange(0, max_width + x_step, x_step)\n"
     ]
    }
   ],
   "source": [
    "squeezed_bb_dfs = []\n",
    "for bb_df in tqdm(bounding_boxes):\n",
    "    try:\n",
    "        if 'bands' not in bb_df:\n",
    "            bb_df['bands'] = bb.get_bands_for_each_article(bb_df)\n",
    "        t = bb.resize_bb_df_by_bands(bb_df, mean_start_stops)\n",
    "        squeezed_bb_dfs.append(t)\n",
    "    except Exception as e:\n",
    "        print( f'failed on {str(e)}')\n",
    "        continue"
   ]
  },
  {
   "cell_type": "code",
   "execution_count": 369,
   "id": "573fef92",
   "metadata": {},
   "outputs": [],
   "source": [
    "df_list = bounding_boxes\n",
    "idx = 5\n",
    "merged_bb, bb_1, bb_2 = bb.merge_and_dedupe_bbs(df_list[idx], df_list[idx+1])"
   ]
  },
  {
   "cell_type": "code",
   "execution_count": 456,
   "id": "725efdf8",
   "metadata": {
    "scrolled": true
   },
   "outputs": [],
   "source": [
    "merged_bb = (\n",
    "    merged_bb\n",
    "    .assign(delta_y=lambda df: df['midpoint_y_y'] - df['midpoint_y_x'])\n",
    "    .assign(delta_y_adj = np.nan)\n",
    ")\n",
    "\n",
    "global_min_x_bin, global_max_x_bin = 0, 4\n",
    "global_min_y_bin, global_max_y_bin = 0, 10\n",
    "\n",
    "for idx in merged_bb.index:\n",
    "    bin_x_x = merged_bb.loc[idx, 'bin_x_x']\n",
    "    bin_y_x = merged_bb.loc[idx, 'bin_y_x']\n",
    "\n",
    "    min_x_bin, max_x_bin = max( bin_x_x - 1, global_min_x_bin), min( bin_x_x + 1, global_max_x_bin)\n",
    "    min_y_bin, max_y_bin = max( bin_y_x - 1, global_min_y_bin), min( bin_y_x + 1, global_max_y_bin)\n",
    "\n",
    "\n",
    "    y_corrective = (merged_bb\n",
    "         .loc[lambda df: (df['bin_x_x'] >= min_x_bin) & (df['bin_x_x'] <= max_x_bin)]\n",
    "         .loc[lambda df: (df['bin_y_x'] >= min_y_bin) & (df['bin_y_x'] <= max_y_bin)] \n",
    "         ['delta_y']\n",
    "         .quantile([.1, .2, .3, .4, .5, .6, .7, .8, .9]).mean()\n",
    "    )\n",
    "\n",
    "    direction = math.copysign(1, y_corrective)\n",
    "    thresholded_val = min(abs(y_corrective), merged_bb['page_height_x'].iloc[0] / 10)\n",
    "    y_corrective = direction * thresholded_val\n",
    "\n",
    "    merged_bb.at[idx, 'delta_y_adj'] = merged_bb.loc[idx, 'delta_y'] - y_corrective"
   ]
  },
  {
   "cell_type": "code",
   "execution_count": 478,
   "id": "b6f2c4a9",
   "metadata": {},
   "outputs": [],
   "source": [
    "up, down = bb.get_upwards_and_downwards_articles_one_df(merged_bb, movement_threshold=.05)"
   ]
  },
  {
   "cell_type": "code",
   "execution_count": 458,
   "id": "ca577dda",
   "metadata": {},
   "outputs": [
    {
     "data": {
      "image/png": "[encoded data removed]",
      "text/plain": [
       "<Figure size 864x1728 with 2 Axes>"
      ]
     },
     "metadata": {
      "needs_background": "light"
     },
     "output_type": "display_data"
    }
   ],
   "source": [
    "bb.plot_merged_df(merged_bb, bb_1, bb_2)"
   ]
  },
  {
   "cell_type": "code",
   "execution_count": 226,
   "id": "8ae72eb7",
   "metadata": {},
   "outputs": [],
   "source": [
    "width_steps = np.arange(0, page_width, step=int(page_width / 4)).astype(int)\n",
    "height_steps = np.arange(0, page_height, step=int(page_height / 10)).astype(int)"
   ]
  },
  {
   "cell_type": "code",
   "execution_count": 230,
   "id": "4efbeded",
   "metadata": {},
   "outputs": [
    {
     "data": {
      "image/png": "[encoded data removed]",
      "text/plain": [
       "<Figure size 216x576 with 1 Axes>"
      ]
     },
     "metadata": {
      "needs_background": "light"
     },
     "output_type": "display_data"
    }
   ],
   "source": [
    "_, ax = plt.subplots(1, 1, figsize=(3, 8))\n",
    "bb.plot_bounding_box_df(bb_1, clip_right=True, ax= ax)\n",
    "\n",
    "xmin, xmax = ax.get_xlim()\n",
    "ymin, ymax = ax.get_ylim()\n",
    "\n",
    "for yline in height_steps:\n",
    "    ax.hlines(yline, xmin, xmax)\n",
    "for xline in width_steps:\n",
    "    ax.vlines(xline, ymin, ymax)"
   ]
  },
  {
   "cell_type": "code",
   "execution_count": 388,
   "id": "1c9da7fa",
   "metadata": {},
   "outputs": [
    {
     "data": {
      "application/vnd.jupyter.widget-view+json": {
       "model_id": "b9eef775466041228f781a39886d45ca",
       "version_major": 2,
       "version_minor": 0
      },
      "text/plain": [
       "  0%|          | 0/558 [00:00<?, ?it/s]"
      ]
     },
     "metadata": {},
     "output_type": "display_data"
    }
   ],
   "source": [
    "homepage_grids = []\n",
    "for bb_df in tqdm(bounding_boxes):\n",
    "    g = bb.get_coarsified_layout_grid(\n",
    "        bb_df, clip_x=True, use_perc=True, max_count=1\n",
    "    )\n",
    "    homepage_grids.append(g)"
   ]
  },
  {
   "cell_type": "code",
   "execution_count": 433,
   "id": "8204ab05",
   "metadata": {},
   "outputs": [],
   "source": [
    "mean_homepage_grids = sum(homepage_grids) / len(homepage_grids)\n",
    "\n",
    "add_del_bb_dfs, all_merged_bb_dfs = bb.get_pairwise_add_del_and_merge_dfs(bounding_boxes)\n",
    "added_grids, deleted_grids = bb.get_added_and_deleted_grids(add_del_bb_dfs)"
   ]
  },
  {
   "cell_type": "code",
   "execution_count": 481,
   "id": "23617dca",
   "metadata": {},
   "outputs": [
    {
     "data": {
      "application/vnd.jupyter.widget-view+json": {
       "model_id": "7c71f137219642e983ced89617959838",
       "version_major": 2,
       "version_minor": 0
      },
      "text/plain": [
       "  0%|          | 0/557 [00:00<?, ?it/s]"
      ]
     },
     "metadata": {},
     "output_type": "display_data"
    },
    {
     "data": {
      "application/vnd.jupyter.widget-view+json": {
       "model_id": "06a5984a72a545679bd3201b2b041ec5",
       "version_major": 2,
       "version_minor": 0
      },
      "text/plain": [
       "  0%|          | 0/79 [00:00<?, ?it/s]"
      ]
     },
     "metadata": {},
     "output_type": "display_data"
    },
    {
     "data": {
      "application/vnd.jupyter.widget-view+json": {
       "model_id": "2f764ada0f4c41c2b87f68b72e5e6164",
       "version_major": 2,
       "version_minor": 0
      },
      "text/plain": [
       "  0%|          | 0/106 [00:00<?, ?it/s]"
      ]
     },
     "metadata": {},
     "output_type": "display_data"
    }
   ],
   "source": [
    "all_upwards_boxes, all_downwards_boxes = bb.get_upwards_and_downwards_articles(\n",
    "    all_merged_bb_dfs, use_width_in_df=False, use_height_in_df=False, move_threshold=.05\n",
    ")\n",
    "upwards_grids, downwards_grids = bb.get_upwards_and_downwards_grids(all_upwards_boxes, all_downwards_boxes)"
   ]
  },
  {
   "cell_type": "code",
   "execution_count": 482,
   "id": "9195e282",
   "metadata": {},
   "outputs": [],
   "source": [
    "mean_added = sum(added_grids) / len(added_grids)\n",
    "mean_deleted = sum(deleted_grids) / len(deleted_grids)"
   ]
  },
  {
   "cell_type": "code",
   "execution_count": 483,
   "id": "44f9b8d2",
   "metadata": {},
   "outputs": [],
   "source": [
    "mean_upwards = sum(upwards_grids) / len(upwards_grids)\n",
    "mean_downwards = sum(downwards_grids) / len(downwards_grids)"
   ]
  },
  {
   "cell_type": "code",
   "execution_count": 485,
   "id": "70f6af42",
   "metadata": {},
   "outputs": [
    {
     "data": {
      "image/png": "[encoded data removed]",
      "text/plain": [
       "<Figure size 1080x576 with 10 Axes>"
      ]
     },
     "metadata": {
      "needs_background": "light"
     },
     "output_type": "display_data"
    }
   ],
   "source": [
    "_, axarr = plt.subplots(1, 5, figsize=(15, 8))\n",
    "\n",
    "ax = sns.heatmap(mean_homepage_grids, ax=axarr[0])\n",
    "ax.set_xticks([]), ax.set_yticks([])\n",
    "ax.set_title('Mean Placement Overall');\n",
    "\n",
    "ax = sns.heatmap(mean_added, vmax=.05, ax=axarr[1])\n",
    "ax.set_xticks([]), ax.set_yticks([])\n",
    "ax.set_title('Added Positions') ;\n",
    "\n",
    "ax = sns.heatmap(mean_deleted, ax=axarr[2], vmax=.05)\n",
    "ax.set_xticks([]), ax.set_yticks([])\n",
    "ax.set_title('Deleted Positions') ;\n",
    "\n",
    "ax = sns.heatmap(mean_upwards, ax=axarr[3], vmax=.25)\n",
    "ax.set_xticks([]), ax.set_yticks([])\n",
    "ax.set_title('Upwards Movement') ;\n",
    "\n",
    "ax = sns.heatmap(mean_downwards, ax=axarr[4], vmax=.25)\n",
    "ax.set_xticks([]), ax.set_yticks([])\n",
    "ax.set_title('Downwards Movement') ;\n",
    "\n",
    "plt.tight_layout()"
   ]
  },
  {
   "cell_type": "code",
   "execution_count": 531,
   "id": "91ae59f6",
   "metadata": {},
   "outputs": [],
   "source": [
    "def all_consecutive_lens(arr):\n",
    "    output = []\n",
    "    curr_count = 0\n",
    "    for i in arr:\n",
    "        if i:\n",
    "            curr_count += 1\n",
    "        else:\n",
    "            output.append(curr_count)\n",
    "            curr_count = 0\n",
    "    return output"
   ]
  },
  {
   "cell_type": "code",
   "execution_count": 487,
   "id": "80047b74",
   "metadata": {},
   "outputs": [
    {
     "data": {
      "application/vnd.jupyter.widget-view+json": {
       "model_id": "d47e6b23daa644098a808a9f447c8257",
       "version_major": 2,
       "version_minor": 0
      },
      "text/plain": [
       "  0%|          | 0/558 [00:00<?, ?it/s]"
      ]
     },
     "metadata": {},
     "output_type": "display_data"
    }
   ],
   "source": [
    "homepage_url_grids = []\n",
    "for bb_df in tqdm(bounding_boxes):\n",
    "    g = bb.get_coarsified_layout_grid(\n",
    "        bb_df, clip_x=True, use_perc=True, fill_with_ones=False\n",
    "    )\n",
    "    homepage_url_grids.append(g)"
   ]
  },
  {
   "cell_type": "code",
   "execution_count": 573,
   "id": "6f4c16b5",
   "metadata": {},
   "outputs": [],
   "source": [
    "pairwise_matching = []\n",
    "for h_x, h_y in zip(homepage_url_grids[:-1], homepage_url_grids[1:]):\n",
    "    pairwise_matching.append(h_x == h_y)"
   ]
  },
  {
   "cell_type": "code",
   "execution_count": 574,
   "id": "8c4545a9",
   "metadata": {},
   "outputs": [],
   "source": [
    "mean_pairwise_matching = sum(pairwise_matching) / len(pairwise_matching)\n",
    "\n",
    "consecutive_article_lengths = (\n",
    "    pd.concat(pairwise_matching)\n",
    "         .groupby(level=0)\n",
    "         .aggregate(list)\n",
    "         .applymap(all_consecutive_lens)\n",
    ")\n",
    "\n",
    "mean_consecutive_article = consecutive_article_lengths.applymap(lambda x: sum(x) / len(x))"
   ]
  },
  {
   "cell_type": "code",
   "execution_count": 577,
   "id": "8a46bb64",
   "metadata": {},
   "outputs": [
    {
     "data": {
      "image/png": "[encoded data removed]",
      "text/plain": [
       "<Figure size 432x576 with 4 Axes>"
      ]
     },
     "metadata": {
      "needs_background": "light"
     },
     "output_type": "display_data"
    }
   ],
   "source": [
    "_, axarr = plt.subplots(1, 2, figsize=(6, 8))\n",
    "ax = sns.heatmap(mean_pairwise_matching, ax=axarr[0], )\n",
    "ax.set_xticks([]), ax.set_yticks([])\n",
    "ax.set_title('Likelihood of Staying the Same') ;\n",
    "\n",
    "ax = sns.heatmap(mean_consecutive_article * .5, ax=axarr[1], vmax=2.3)\n",
    "ax.set_xticks([]), ax.set_yticks([])\n",
    "ax.set_title('Mean Length of Stay (Hrs)') ;\n",
    "plt.tight_layout()"
   ]
  },
  {
   "cell_type": "code",
   "execution_count": 582,
   "id": "7efee9a1",
   "metadata": {},
   "outputs": [],
   "source": [
    "t = bounding_boxes[0]['href'][0]"
   ]
  },
  {
   "cell_type": "code",
   "execution_count": 589,
   "id": "9b61a161",
   "metadata": {},
   "outputs": [],
   "source": [
    "all_inquirer_urls = pd.concat(bounding_boxes)['href'].value_counts()"
   ]
  },
  {
   "cell_type": "code",
   "execution_count": 597,
   "id": "a98f88ab",
   "metadata": {},
   "outputs": [],
   "source": [
    "unique_inquirer_urls = (all_inquirer_urls\n",
    " .pipe(lambda s: s/len(bounding_boxes))\n",
    " .loc[lambda s: s<.5]\n",
    " .index.tolist()\n",
    ")"
   ]
  },
  {
   "cell_type": "code",
   "execution_count": 602,
   "id": "1427b8e5",
   "metadata": {},
   "outputs": [
    {
     "data": {
      "application/vnd.jupyter.widget-view+json": {
       "model_id": "45253ac6ee424a72ba1cfcbe116c7625",
       "version_major": 2,
       "version_minor": 0
      },
      "text/plain": [
       "  0%|          | 0/1073 [00:00<?, ?it/s]"
      ]
     },
     "metadata": {},
     "output_type": "display_data"
    }
   ],
   "source": [
    "wayback_urls = {}\n",
    "for url in tqdm(unique_inquirer_urls):\n",
    "    num_entries_in_wayback = ! waybackpack $url  --list\n",
    "    wayback_urls[url] = num_entries_in_wayback"
   ]
  },
  {
   "cell_type": "code",
   "execution_count": 606,
   "id": "11f15d32",
   "metadata": {
    "scrolled": true
   },
   "outputs": [
    {
     "data": {
      "text/plain": [
       "1      102\n",
       "2      356\n",
       "3      212\n",
       "4      101\n",
       "5       63\n",
       "6       57\n",
       "7       34\n",
       "8       41\n",
       "9       17\n",
       "10      24\n",
       "11       7\n",
       "12       7\n",
       "13      15\n",
       "14       3\n",
       "15       3\n",
       "16       3\n",
       "17       1\n",
       "18       1\n",
       "19       4\n",
       "20       2\n",
       "21       3\n",
       "22       1\n",
       "24       1\n",
       "27       2\n",
       "28       1\n",
       "30       2\n",
       "32       2\n",
       "34       1\n",
       "35       1\n",
       "44       1\n",
       "45       1\n",
       "50       1\n",
       "57       1\n",
       "62       1\n",
       "256      1\n",
       "dtype: int64"
      ]
     },
     "execution_count": 606,
     "metadata": {},
     "output_type": "execute_result"
    }
   ],
   "source": [
    "pd.Series(wayback_urls).str.len().value_counts().sort_index()"
   ]
  },
  {
   "cell_type": "code",
   "execution_count": 623,
   "id": "e1d17c33",
   "metadata": {},
   "outputs": [
    {
     "data": {
      "text/plain": [
       "'https://web.archive.org/web/20230214071943/https://www.inquirer.com/politics/pennsylvania/josh-shapiro-pa-governor-bipartisanship-20221226.html'"
      ]
     },
     "execution_count": 623,
     "metadata": {},
     "output_type": "execute_result"
    }
   ],
   "source": [
    "pd.Series(wayback_urls).str.get(-1)[0]"
   ]
  },
  {
   "cell_type": "code",
   "execution_count": 624,
   "id": "c2bba91e",
   "metadata": {},
   "outputs": [],
   "source": [
    "import newspaper"
   ]
  },
  {
   "cell_type": "code",
   "execution_count": 627,
   "id": "0f879fc9",
   "metadata": {},
   "outputs": [],
   "source": [
    "from newspaper import Article\n",
    "\n",
    "url = 'http://fox13now.com/2013/12/30/new-year-new-laws-obamacare-pot-guns-and-drones/'\n",
    "article = Article(url)"
   ]
  },
  {
   "cell_type": "code",
   "execution_count": 629,
   "id": "3acd84e7",
   "metadata": {},
   "outputs": [],
   "source": [
    "article = Article(unique_inquirer_urls[0])"
   ]
  },
  {
   "cell_type": "code",
   "execution_count": 630,
   "id": "99051037",
   "metadata": {},
   "outputs": [],
   "source": [
    "article.download()"
   ]
  },
  {
   "cell_type": "code",
   "execution_count": 638,
   "id": "5bee7255",
   "metadata": {},
   "outputs": [],
   "source": [
    "article.parse()"
   ]
  },
  {
   "cell_type": "code",
   "execution_count": null,
   "id": "cd3c334d",
   "metadata": {},
   "outputs": [],
   "source": []
  },
  {
   "cell_type": "code",
   "execution_count": null,
   "id": "d4ef3ccc",
   "metadata": {},
   "outputs": [],
   "source": []
  },
  {
   "cell_type": "code",
   "execution_count": null,
   "id": "ddaa0132",
   "metadata": {},
   "outputs": [],
   "source": []
  },
  {
   "cell_type": "code",
   "execution_count": null,
   "id": "25ddb5e2",
   "metadata": {},
   "outputs": [],
   "source": []
  },
  {
   "cell_type": "code",
   "execution_count": null,
   "id": "3b3bf49d",
   "metadata": {},
   "outputs": [],
   "source": []
  },
  {
   "cell_type": "code",
   "execution_count": null,
   "id": "cdb7a17c",
   "metadata": {},
   "outputs": [],
   "source": []
  },
  {
   "cell_type": "markdown",
   "id": "5018903f",
   "metadata": {},
   "source": [
    "# LATimes"
   ]
  },
  {
   "cell_type": "code",
   "execution_count": 673,
   "id": "b46fd469",
   "metadata": {},
   "outputs": [],
   "source": [
    "wayback_scrape_dir = '../data/web.archive.org'\n",
    "latimes_files = glob.glob(\n",
    "    wayback_scrape_dir + '/web/*[!_]/latimes.com/*'\n",
    ")\n",
    "\n",
    "\n",
    "latimes_files = sorted(latimes_files, key=lambda x: x.split('/')[-3])\n",
    "# bounding_box_dfs, all_height_width = await bb.get_bounding_boxes_for_files(\n",
    "#     nyt_files, here=here, headless=True\n",
    "# )"
   ]
  },
  {
   "cell_type": "code",
   "execution_count": 714,
   "id": "3332462c",
   "metadata": {},
   "outputs": [
    {
     "name": "stderr",
     "output_type": "stream",
     "text": [
      "/Users/spangher/Projects/usc-research/newsworthiness/notebooks/../scripts/get_bounding_boxes_from_html.py:481: RuntimeWarning: coroutine 'Browser.new_context' was never awaited\n",
      "  browser.new_context(screen={'width': 860, 'height': 2040})\n",
      "RuntimeWarning: Enable tracemalloc to get the object allocation traceback\n"
     ]
    }
   ],
   "source": [
    "page, browser, playwright = await bb.instantiate_new_page_object(headless=False, block_external_files=False)"
   ]
  },
  {
   "cell_type": "code",
   "execution_count": 730,
   "id": "0da9f2f7",
   "metadata": {},
   "outputs": [
    {
     "data": {
      "text/plain": [
       "<Response url='file:///Users/spangher/Projects/usc-research/newsworthiness/data/web.archive.org/web/20221201073457/latimes.com/index.html' request=<Request url='file:///Users/spangher/Projects/usc-research/newsworthiness/data/web.archive.org/web/20221201073457/latimes.com/index.html' method='GET'>>"
      ]
     },
     "execution_count": 730,
     "metadata": {},
     "output_type": "execute_result"
    }
   ],
   "source": [
    "one_file = latimes_files[10]\n",
    "fp = os.path.join(here, one_file)\n",
    "file = f'file://{fp}'\n",
    "\n",
    "await page.goto(file, timeout=0)"
   ]
  },
  {
   "cell_type": "code",
   "execution_count": 731,
   "id": "081228d3",
   "metadata": {},
   "outputs": [],
   "source": [
    "await bb.draw_visual_bounding_boxes_on_page(page)"
   ]
  },
  {
   "cell_type": "code",
   "execution_count": 718,
   "id": "2bde6de0",
   "metadata": {},
   "outputs": [],
   "source": [
    "await bb.get_bounding_box_one_file(page, file)\n",
    "await bb.draw_visual_bounding_boxes_on_page(page)"
   ]
  },
  {
   "cell_type": "code",
   "execution_count": null,
   "id": "f8f49fd1",
   "metadata": {},
   "outputs": [],
   "source": [
    "latimes_bounding_boxes, _ = await bb.get_bounding_boxes_for_files(\n",
    "    latimes_files[:500]\n",
    ")"
   ]
  },
  {
   "cell_type": "code",
   "execution_count": null,
   "id": "00bfd39f",
   "metadata": {},
   "outputs": [],
   "source": [
    "# todo: simple algorithm for determining horizontal bands of whitespace that can be removed \n",
    "# ----> maybe can be expressed as a accumulating shift upwards ?\n",
    "# ----> optionally, put a threshold for how far along the screen the band has to go \n",
    "#       ( > 66%, or something, to cover a 3-column layout?)"
   ]
  },
  {
   "cell_type": "code",
   "execution_count": 729,
   "id": "4371db5d",
   "metadata": {
    "scrolled": false
   },
   "outputs": [
    {
     "name": "stderr",
     "output_type": "stream",
     "text": [
      "Future exception was never retrieved\n",
      "future: <Future finished exception=Error('Target closed')>\n",
      "playwright._impl._api_types.Error: Target closed\n"
     ]
    },
    {
     "data": {
      "text/plain": [
       "(1152.0, 10196.09375, 1280, 10840)"
      ]
     },
     "execution_count": 729,
     "metadata": {},
     "output_type": "execute_result"
    },
    {
     "data": {
      "image/png": "[encoded data removed]",
      "text/plain": [
       "<Figure size 216x864 with 1 Axes>"
      ]
     },
     "metadata": {
      "needs_background": "light"
     },
     "output_type": "display_data"
    }
   ],
   "source": [
    "bb.plot_bounding_box_df(latimes_bounding_boxes[10], clip_right=True, figsize=(3,12))"
   ]
  },
  {
   "cell_type": "code",
   "execution_count": null,
   "id": "237ad15d",
   "metadata": {},
   "outputs": [],
   "source": [
    "squeezed_latimes_bbs = bb.resize_all_bb_df_by_bands_end_to_end(latimes_bounding_boxes)"
   ]
  },
  {
   "cell_type": "code",
   "execution_count": 702,
   "id": "64ca76bc",
   "metadata": {},
   "outputs": [
    {
     "data": {
      "text/plain": [
       "(1152.0, 10082.195749314531, 1280, 10840)"
      ]
     },
     "execution_count": 702,
     "metadata": {},
     "output_type": "execute_result"
    },
    {
     "data": {
      "image/png": "[encoded data removed]",
      "text/plain": [
       "<Figure size 216x864 with 1 Axes>"
      ]
     },
     "metadata": {
      "needs_background": "light"
     },
     "output_type": "display_data"
    }
   ],
   "source": [
    "bb.plot_bounding_box_df(squeezed_latimes_bbs[10], clip_right=True, figsize=(3,12))"
   ]
  },
  {
   "cell_type": "code",
   "execution_count": null,
   "id": "4deb1c83",
   "metadata": {},
   "outputs": [],
   "source": []
  },
  {
   "cell_type": "code",
   "execution_count": null,
   "id": "e04089d1",
   "metadata": {},
   "outputs": [],
   "source": []
  },
  {
   "cell_type": "code",
   "execution_count": null,
   "id": "54462d0f",
   "metadata": {},
   "outputs": [],
   "source": []
  },
  {
   "cell_type": "code",
   "execution_count": 65,
   "id": "4a8e053d",
   "metadata": {},
   "outputs": [],
   "source": [
    "wayback_scrape_dir = '../data/web-archive-latimes-singlefile/tmp-latimes/web.archive.org'\n",
    "latimes_files = glob.glob(\n",
    "    wayback_scrape_dir + '/web/*[!_]/latimes.com/*'\n",
    ")\n",
    "\n",
    "latimes_files = sorted(latimes_files, key=lambda x: x.split('/')[-3])\n",
    "# bounding_box_dfs, all_height_width = await bb.get_bounding_boxes_for_files(\n",
    "#     nyt_files, here=here, headless=True\n",
    "# )"
   ]
  },
  {
   "cell_type": "code",
   "execution_count": 291,
   "id": "29783494",
   "metadata": {},
   "outputs": [
    {
     "name": "stderr",
     "output_type": "stream",
     "text": [
      "/Users/spangher/Projects/usc-research/newsworthiness/notebooks/../scripts/get_bounding_boxes_from_html.py:480: RuntimeWarning: coroutine 'Browser.new_context' was never awaited\n",
      "  browser.new_context(screen={'width': 860, 'height': 2040})\n",
      "RuntimeWarning: Enable tracemalloc to get the object allocation traceback\n"
     ]
    }
   ],
   "source": [
    "page, browser, playwright = await bb.instantiate_new_page_object(headless=False)"
   ]
  },
  {
   "cell_type": "code",
   "execution_count": null,
   "id": "93cb51e4",
   "metadata": {},
   "outputs": [],
   "source": [
    "one_file = latimes_files[0]\n",
    "fp = os.path.join(here, one_file)\n",
    "file = f'file://{fp}'\n",
    "\n",
    "await page.goto(file, timeout=0)"
   ]
  },
  {
   "cell_type": "code",
   "execution_count": 294,
   "id": "93e25d07",
   "metadata": {},
   "outputs": [
    {
     "data": {
      "application/vnd.jupyter.widget-view+json": {
       "model_id": "2a299011036a46cca94774b2caafe761",
       "version_major": 2,
       "version_minor": 0
      },
      "text/plain": [
       "  0%|          | 0/5 [00:00<?, ?it/s]"
      ]
     },
     "metadata": {},
     "output_type": "display_data"
    }
   ],
   "source": [
    "latimes_bounding_boxes, _ = await bb.get_bounding_boxes_for_files(latimes_files)"
   ]
  },
  {
   "cell_type": "code",
   "execution_count": 295,
   "id": "ab5b24b3",
   "metadata": {
    "scrolled": true
   },
   "outputs": [
    {
     "data": {
      "text/plain": [
       "(1152.0, 10057.203125, 1280, 10701)"
      ]
     },
     "execution_count": 295,
     "metadata": {},
     "output_type": "execute_result"
    },
    {
     "data": {
      "image/png": "[encoded data removed]",
      "text/plain": [
       "<Figure size 216x864 with 1 Axes>"
      ]
     },
     "metadata": {
      "needs_background": "light"
     },
     "output_type": "display_data"
    }
   ],
   "source": [
    "bb.plot_bounding_box_df(latimes_bounding_boxes[0], clip_right=True, figsize=(3,12))"
   ]
  },
  {
   "cell_type": "code",
   "execution_count": null,
   "id": "6e77559c",
   "metadata": {},
   "outputs": [],
   "source": []
  },
  {
   "cell_type": "code",
   "execution_count": null,
   "id": "c890ae32",
   "metadata": {},
   "outputs": [],
   "source": []
  },
  {
   "cell_type": "code",
   "execution_count": null,
   "id": "486633f7",
   "metadata": {},
   "outputs": [],
   "source": []
  },
  {
   "cell_type": "code",
   "execution_count": 307,
   "id": "c09e3d57",
   "metadata": {},
   "outputs": [],
   "source": [
    "proj_dir = '/Users/spangher/Projects/usc-research/newsworthiness'"
   ]
  },
  {
   "cell_type": "code",
   "execution_count": 309,
   "id": "c286546b",
   "metadata": {},
   "outputs": [
    {
     "name": "stdout",
     "output_type": "stream",
     "text": [
      "../scripts/index.html\r\n"
     ]
    }
   ],
   "source": [
    "ls ../scripts/index.html"
   ]
  },
  {
   "cell_type": "code",
   "execution_count": 312,
   "id": "6c29ba36",
   "metadata": {},
   "outputs": [
    {
     "data": {
      "text/plain": [
       "<Response url='file:///Users/spangher/Projects/usc-research/newsworthiness/scripts/index.html' request=<Request url='file:///Users/spangher/Projects/usc-research/newsworthiness/scripts/index.html' method='GET'>>"
      ]
     },
     "execution_count": 312,
     "metadata": {},
     "output_type": "execute_result"
    }
   ],
   "source": [
    "await page.goto(f'file://{proj_dir}/scripts/index.html')"
   ]
  },
  {
   "cell_type": "code",
   "execution_count": 3,
   "id": "b9b38739",
   "metadata": {},
   "outputs": [],
   "source": [
    "async def get_browser_and_page(headless, scraping_approach):\n",
    "    p = await async_playwright().start()\n",
    "    browser = await p.chromium.launch(\n",
    "        channel=\"chrome\",\n",
    "        headless=headless,\n",
    "    )\n",
    "    context = await browser.new_context(\n",
    "        screen={'width': 860, 'height': 2040},\n",
    "        user_agent=s.USER_AGENT\n",
    "    )\n",
    "    page = await context.new_page()\n",
    "    await page.route(\"**/*\", lambda route: route.abort() if route.request.resource_type == \"image\" else route.continue_())\n",
    "    if scraping_approach == 'wget':\n",
    "        await page.route(\"https://web.archive.org*/*\", lambda route: route.abort())\n",
    "    return browser, page"
   ]
  },
  {
   "cell_type": "code",
   "execution_count": 16,
   "id": "e70ac9cd",
   "metadata": {},
   "outputs": [],
   "source": [
    "url = 'https://web.archive.org/web/20221201093526/latimes.com'"
   ]
  },
  {
   "cell_type": "code",
   "execution_count": 17,
   "id": "1894b0d7",
   "metadata": {},
   "outputs": [
    {
     "name": "stdout",
     "output_type": "stream",
     "text": [
      "running wget on https://web.archive.org/web/20221201093526/latimes.com...\n",
      "wget -U 'Mozilla/5.0 (Macintosh; Intel Mac OS X 10_15_7) AppleWebKit/537.36 (KHTML, like Gecko) Chrome/109.0.0.0 Safari/537.36' --no-clobber --page-requisites --convert-links --timestamping --reject '*.css,*.js,*.ttf,*.woff2,*.woff,*.ico,*.txt,*.gif,*.jpg,*.jpeg,*.png,*.mp3,*.pdf,*.tgz,*.flv,*.avi,*.mpeg,*.iso' --ignore-tags=img --domains web.archive.org --no-parent https://web.archive.org/web/20221201093526/latimes.com -P /Users/spangher/Projects/usc-research/newsworthiness/notebooks/../scripts/tmp-latimes.com\n"
     ]
    }
   ],
   "source": [
    "s.use_wget('latimes.com', url)"
   ]
  },
  {
   "cell_type": "code",
   "execution_count": 18,
   "id": "2d1386f6",
   "metadata": {},
   "outputs": [],
   "source": [
    "file_on_disk = os.path.join(\n",
    "    here, \n",
    "    '../scripts',\n",
    "    'tmp-latimes.com',\n",
    "    url.replace('https://', '')\n",
    ")"
   ]
  },
  {
   "cell_type": "code",
   "execution_count": 49,
   "id": "954c65e1",
   "metadata": {},
   "outputs": [],
   "source": [
    "browser, page = await get_browser_and_page(False, 'combined')"
   ]
  },
  {
   "cell_type": "code",
   "execution_count": 19,
   "id": "7d6d1e37",
   "metadata": {},
   "outputs": [],
   "source": [
    "import os, shutil\n",
    "file_on_disk = s.rename_files_for_playwright(file_on_disk)"
   ]
  },
  {
   "cell_type": "code",
   "execution_count": null,
   "id": "fc0a444a",
   "metadata": {},
   "outputs": [],
   "source": [
    "_ = await use_playwright_singlefile(file, page, 'test-index.html')"
   ]
  },
  {
   "cell_type": "code",
   "execution_count": 37,
   "id": "16cb1198",
   "metadata": {},
   "outputs": [],
   "source": [
    "! open test-index.html"
   ]
  },
  {
   "cell_type": "code",
   "execution_count": 56,
   "id": "3f1c53d8",
   "metadata": {
    "scrolled": true
   },
   "outputs": [
    {
     "name": "stdout",
     "output_type": "stream",
     "text": [
      "hitting file:///Users/spangher/Projects/usc-research/newsworthiness/notebooks/../scripts/tmp-latimes.com/web.archive.org/web/20221201093526/latimes.com/index.html in playwright...\n"
     ]
    }
   ],
   "source": [
    "import typing\n",
    "_ = await use_playwright_singlefile('file://' + file_on_disk, page, 'test-index.html')"
   ]
  },
  {
   "cell_type": "code",
   "execution_count": 57,
   "id": "6b85949d",
   "metadata": {},
   "outputs": [],
   "source": [
    "! open test-index.html"
   ]
  },
  {
   "cell_type": "code",
   "execution_count": 90,
   "id": "90361619",
   "metadata": {},
   "outputs": [],
   "source": [
    "from pathlib import Path\n",
    "import time\n",
    "\n",
    "async def use_playwright_singlefile(url, page, output_file, scroll_to_bottom=True):\n",
    "    def _read_script_from_file(filename: typing.Union[str, Path]) -> str:\n",
    "        \"\"\"Read and return Javascript code from a file. Convenience function.\"\"\"\n",
    "        ext_dir = Path('../scripts') / Path(\"js\")\n",
    "        with open(ext_dir / filename) as f:\n",
    "            return f.read()\n",
    "\n",
    "    await page.goto(url, timeout=120_000)\n",
    "        \n",
    "    single_file_pre_load_extensions = [\n",
    "        \"single-file-bootstrap.js\",\n",
    "        \"single-file-hooks-frames.js\",\n",
    "        \"single-file-frames.js\",\n",
    "    ]\n",
    "    for f in single_file_pre_load_extensions:\n",
    "        await page.evaluate(_read_script_from_file(f))\n",
    "\n",
    "    await page.evaluate(_read_script_from_file(\"single-file.js\"))\n",
    "    wait_seconds = 5\n",
    "    print(f'hitting {url} in playwright...')\n",
    "    time.sleep(wait_seconds)\n",
    "\n",
    "    # get singlefile\n",
    "    page_content = await page.evaluate(\n",
    "        \"\"\"\n",
    "            () => singlefile.getPageData({\n",
    "                  removeHiddenElements: true,\n",
    "                  removeUnusedStyles: true,\n",
    "                  removeUnusedFonts: true,\n",
    "                  removeImports: true,\n",
    "                  blockScripts: true,\n",
    "                  blockAudios: true,\n",
    "                  blockVideos: true,\n",
    "                  compressHTML: true,\n",
    "                  removeAlternativeFonts: true,\n",
    "                  removeAlternativeMedias: true,\n",
    "                  removeAlternativeImages: true,\n",
    "                  groupDuplicateImages: true\n",
    "                });\n",
    "        \"\"\"\n",
    "    )\n",
    "    page_html_content = page_content.get(\"content\")\n",
    "    output_dir = os.path.dirname(output_file)\n",
    "    if output_dir != '':\n",
    "        os.makedirs(output_dir, exist_ok=True)\n",
    "    with open(output_file, 'w') as f:\n",
    "        f.write(page_html_content)\n",
    "    return page_content"
   ]
  },
  {
   "cell_type": "code",
   "execution_count": null,
   "id": "57564061",
   "metadata": {},
   "outputs": [],
   "source": []
  },
  {
   "cell_type": "code",
   "execution_count": null,
   "id": "d05d967f",
   "metadata": {},
   "outputs": [],
   "source": []
  },
  {
   "cell_type": "code",
   "execution_count": null,
   "id": "8fa5a966",
   "metadata": {},
   "outputs": [],
   "source": []
  },
  {
   "cell_type": "markdown",
   "id": "7fa1dc08",
   "metadata": {},
   "source": [
    "# SF Chronicle"
   ]
  },
  {
   "cell_type": "code",
   "execution_count": 189,
   "id": "c9fed6ba",
   "metadata": {},
   "outputs": [
    {
     "name": "stdout",
     "output_type": "stream",
     "text": [
      "\u001b[34mgold-html-492893687\u001b[m\u001b[m/                 web-archive-inquirer-one-day.zip\r\n",
      "gold-nytimes-html.zip                web-archive-inquirer-singlefile.zip\r\n",
      "html-492893687.zip                   web-archive-one-day.zip\r\n",
      "latimes-one-day.zip                  web-archive-two-months.zip\r\n",
      "\u001b[34mtmp-latimes\u001b[m\u001b[m/                         \u001b[34mweb.archive.org\u001b[m\u001b[m/\r\n",
      "\u001b[34mweb-archive-inquirer\u001b[m\u001b[m/\r\n"
     ]
    }
   ],
   "source": [
    "ls ../data"
   ]
  },
  {
   "cell_type": "code",
   "execution_count": 653,
   "id": "420df753",
   "metadata": {},
   "outputs": [
    {
     "name": "stdout",
     "output_type": "stream",
     "text": [
      "\u001b[34m20221206012220\u001b[m\u001b[m/ \u001b[34m20221206015530\u001b[m\u001b[m/ \u001b[34m20221206023338\u001b[m\u001b[m/\r\n"
     ]
    }
   ],
   "source": [
    "ls ../scripts/data/tmp-sfchronicle-with-js/web.archive.org/web/"
   ]
  },
  {
   "cell_type": "code",
   "execution_count": 664,
   "id": "9117063e",
   "metadata": {},
   "outputs": [],
   "source": [
    "# wayback_scrape_dir = '../scripts/data/tmp-sfchronicle.com/web.archive.org'\n",
    "# wayback_scrape_dir = '../scripts/tmp-sfchronicle/web.archive.org'\n",
    "# wayback_scrape_dir = '../scripts/tmp-sfchronicle.com/web.archive.org'\n",
    "# wayback_scrape_dir = '../data/tmp-sfchron-combined/tmp-sfchronicle-combined/web.archive.org/'\n",
    "wayback_scrape_dir = '../scripts/data/tmp-sfchronicle-sans-css/web.archive.org/'\n",
    "sfchron_files = glob.glob(\n",
    "    wayback_scrape_dir + '/web/*[!_]/sfchronicle.com/*'\n",
    ")\n",
    "\n",
    "sfchron_files = sorted(sfchron_files, key=lambda x: x.split('/')[-3])\n",
    "# bounding_box_dfs, all_height_width = await bb.get_bounding_boxes_for_files(\n",
    "#     nyt_files, here=here, headless=True\n",
    "# )"
   ]
  },
  {
   "cell_type": "code",
   "execution_count": 668,
   "id": "5c082310",
   "metadata": {},
   "outputs": [],
   "source": [
    "page, browser, playwright = await bb.instantiate_new_page_object(\n",
    "    headless=False, block_images=True, block_external_files=False\n",
    ")"
   ]
  },
  {
   "cell_type": "code",
   "execution_count": 669,
   "id": "761b25de",
   "metadata": {
    "scrolled": true
   },
   "outputs": [],
   "source": [
    "# for one_file in sfchron_files:\n",
    "one_file = sfchron_files[0]\n",
    "# one_file = '/Users/spangher/Projects/usc-research/newsworthiness/scripts/tmp-sfchronicle.com/web.archive.org/web/20221206034948/https%3A/www.sfchronicle.com/index.html'\n",
    "# fp = one_file\n",
    "fp = os.path.join(here, one_file)\n",
    "file = f'file://{fp}'\n",
    "\n",
    "# await page.goto(file, timeout=0)"
   ]
  },
  {
   "cell_type": "code",
   "execution_count": null,
   "id": "c0bdaa52",
   "metadata": {},
   "outputs": [],
   "source": [
    "_ = await use_playwright_singlefile(file, page, 'test-index.html')"
   ]
  },
  {
   "cell_type": "code",
   "execution_count": null,
   "id": "b8fb55d9",
   "metadata": {},
   "outputs": [],
   "source": [
    "! open test-index.html"
   ]
  },
  {
   "cell_type": "code",
   "execution_count": null,
   "id": "47e409ee",
   "metadata": {},
   "outputs": [],
   "source": []
  },
  {
   "cell_type": "code",
   "execution_count": null,
   "id": "d5f4de42",
   "metadata": {},
   "outputs": [],
   "source": []
  },
  {
   "cell_type": "markdown",
   "id": "a6221c1a",
   "metadata": {},
   "source": [
    "# Slosh"
   ]
  },
  {
   "cell_type": "code",
   "execution_count": 8,
   "id": "1740babe",
   "metadata": {},
   "outputs": [],
   "source": [
    "imgs = await page.query_selector_all('img')\n",
    "img = imgs[0]\n",
    "\n",
    "output = {}\n",
    "output['img_position'] = await img.bounding_box()\n",
    "output['img_src'] = await img.evaluate('''node => node.src''')\n",
    "output['img_text'] = await img.evaluate('''node=> node.alt.trim()''')"
   ]
  },
  {
   "cell_type": "code",
   "execution_count": 14,
   "id": "11df70ef",
   "metadata": {},
   "outputs": [
    {
     "data": {
      "text/plain": [
       "{'x': 48, 'y': 929, 'width': 760, 'height': 507}"
      ]
     },
     "execution_count": 14,
     "metadata": {},
     "output_type": "execute_result"
    }
   ],
   "source": [
    "output['img_position']"
   ]
  },
  {
   "cell_type": "code",
   "execution_count": 20,
   "id": "5ba2d2c9",
   "metadata": {},
   "outputs": [
    {
     "data": {
      "text/plain": [
       "<Response url='https://www.nytimes.com/' request=<Request url='https://www.nytimes.com/' method='GET'>>"
      ]
     },
     "execution_count": 20,
     "metadata": {},
     "output_type": "execute_result"
    }
   ],
   "source": [
    "await page.goto('https://nytimes.com')"
   ]
  },
  {
   "cell_type": "code",
   "execution_count": 21,
   "id": "f26ab489",
   "metadata": {},
   "outputs": [],
   "source": [
    "output_img_data = []\n",
    "imgs = await page.query_selector_all('img')\n",
    "for img in imgs:\n",
    "    output = {}\n",
    "    output['img_position'] = await img.bounding_box()\n",
    "    output['img_src'] = await img.evaluate('''node => node.src''')\n",
    "    output['img_text'] = await img.evaluate('''node=> node.alt.trim()''')\n",
    "    output_img_data.append(output)"
   ]
  },
  {
   "cell_type": "code",
   "execution_count": 24,
   "id": "456b5495",
   "metadata": {},
   "outputs": [
    {
     "data": {
      "text/plain": [
       "{'x': 1149.6875, 'y': 8233.09375, 'width': 90.3125, 'height': 0}"
      ]
     },
     "execution_count": 24,
     "metadata": {},
     "output_type": "execute_result"
    }
   ],
   "source": [
    "await img.bounding_box()"
   ]
  },
  {
   "cell_type": "code",
   "execution_count": null,
   "id": "52a3732d",
   "metadata": {},
   "outputs": [],
   "source": []
  },
  {
   "cell_type": "code",
   "execution_count": null,
   "id": "4ecda0f6",
   "metadata": {},
   "outputs": [],
   "source": []
  }
 ],
 "metadata": {
  "kernelspec": {
   "display_name": "Python 3 (ipykernel)",
   "language": "python",
   "name": "python3"
  },
  "language_info": {
   "codemirror_mode": {
    "name": "ipython",
    "version": 3
   },
   "file_extension": ".py",
   "mimetype": "text/x-python",
   "name": "python",
   "nbconvert_exporter": "python",
   "pygments_lexer": "ipython3",
   "version": "3.9.12"
  }
 },
 "nbformat": 4,
 "nbformat_minor": 5
}
