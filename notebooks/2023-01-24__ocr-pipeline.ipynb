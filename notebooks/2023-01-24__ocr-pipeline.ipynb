{
 "cells": [
  {
   "cell_type": "code",
   "execution_count": null,
   "id": "f2bdd9c6",
   "metadata": {},
   "outputs": [],
   "source": [
    "### project steps \n",
    "\n",
    "################## get position on homepages\n",
    "# step 1. layout detection to get bounding boxes \n",
    "# step 2. OCR the derived boxes and get text from the boxes\n",
    "# step 3. filter out all ocred text that doesn't match text extracted in `links.json`\n",
    "# step 4. draw a distance matrix from ocr'ed text to link text in `links.json`\n",
    "# step 5. use hungarian matching algorithm to draw the min-cost bipartite graph between ocr'ed text and links\n",
    "\n",
    "################## classifiers \n",
    "# step 6. now, we have x,y,w,h for each link and block of text on the homepage\n",
    "# step 7. use common crawl to get article text for each link json \n",
    "# step 8. train classifiers to predict x,y,w,h for each text for each homepage\n",
    "\n",
    "################## analysis\n",
    "# step 9. analyze agreement between different outlets \n",
    "# step 10. analyze rank-ordering for unlabeled corpora\n",
    "# step 11. get journalists to give feedback on which rank-orderings work best for them"
   ]
  }
 ],
 "metadata": {
  "hide_input": false,
  "kernelspec": {
   "display_name": "Python 3 (ipykernel)",
   "language": "python",
   "name": "python3"
  },
  "language_info": {
   "codemirror_mode": {
    "name": "ipython",
    "version": 3
   },
   "file_extension": ".py",
   "mimetype": "text/x-python",
   "name": "python",
   "nbconvert_exporter": "python",
   "pygments_lexer": "ipython3",
   "version": "3.10.9"
  }
 },
 "nbformat": 4,
 "nbformat_minor": 5
}
