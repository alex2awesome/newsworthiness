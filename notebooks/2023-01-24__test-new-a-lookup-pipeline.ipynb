{
 "cells": [
  {
   "cell_type": "code",
   "execution_count": 1,
   "id": "f2bdd9c6",
   "metadata": {},
   "outputs": [],
   "source": [
    "### project steps \n",
    "\n",
    "################## get position on homepages\n",
    "# step 1. layout detection to get bounding boxes \n",
    "# step 2. OCR the derived boxes and get text from the boxes\n",
    "# step 3. filter out all ocred text that doesn't match text extracted in `links.json`\n",
    "# step 4. draw a distance matrix from ocr'ed text to link text in `links.json`\n",
    "# step 5. use hungarian matching algorithm to draw the min-cost bipartite graph between ocr'ed text and links\n",
    "\n",
    "################## classifiers \n",
    "# step 6. now, we have x,y,w,h for each link and block of text on the homepage\n",
    "# step 7. use common crawl to get article text for each link json \n",
    "# step 8. train classifiers to predict x,y,w,h for each text for each homepage\n",
    "\n",
    "################## analysis\n",
    "# step 9. analyze agreement between different outlets \n",
    "# step 10. analyze rank-ordering for unlabeled corpora\n",
    "# step 11. get journalists to give feedback on which rank-orderings work best for them"
   ]
  },
  {
   "cell_type": "code",
   "execution_count": 149,
   "id": "2d9b6dc5",
   "metadata": {},
   "outputs": [],
   "source": [
    "# exists a heuristic for parsing a URL to determine if it is an article?"
   ]
  },
  {
   "cell_type": "code",
   "execution_count": 157,
   "id": "7b8d711e",
   "metadata": {},
   "outputs": [],
   "source": [
    "training_data = '../bin/storysniffer/_notebooks/input/labeled.csv'"
   ]
  },
  {
   "cell_type": "code",
   "execution_count": 172,
   "id": "8210f61b",
   "metadata": {},
   "outputs": [],
   "source": [
    "is_article_df = pd.read_csv(training_data)"
   ]
  },
  {
   "cell_type": "code",
   "execution_count": 234,
   "id": "5fc5ad21",
   "metadata": {},
   "outputs": [],
   "source": [
    "from urllib.parse import urlparse\n",
    "import re\n",
    "from sklearn.metrics import f1_score\n",
    "from sklearn.feature_extraction.text import CountVectorizer\n",
    "import tldextract\n",
    "from sklearn.pipeline import Pipeline\n",
    "from sklearn.linear_model import LogisticRegressionCV, LogisticRegression\n",
    "from sklearn.model_selection import train_test_split"
   ]
  },
  {
   "cell_type": "code",
   "execution_count": 235,
   "id": "b6fbedd6",
   "metadata": {},
   "outputs": [],
   "source": [
    "is_article_df = (\n",
    "    is_article_df[['url', 'is_story']]\n",
    "     .assign(domain = lambda df: df['url'].apply(lambda x: tldextract.extract(x).domain))\n",
    "     .assign(subdomain = lambda df: df['url'].apply(lambda x: tldextract.extract(x).subdomain))\n",
    "     .assign(path = lambda df: df['url'].apply(lambda x: urlparse(x).path))\n",
    "     .assign(num_url_parts = lambda df: \n",
    "                     df['path']\n",
    "                         .apply(lambda x: re.split( '/|-', x))\n",
    "                         .apply(lambda x: len(list(filter(lambda y: y != '', x))))\n",
    "            )\n",
    ")"
   ]
  },
  {
   "cell_type": "code",
   "execution_count": 244,
   "id": "403aec62",
   "metadata": {},
   "outputs": [],
   "source": [
    "DOMAIN_BLACKLIST = (\n",
    "    \"google\",\n",
    "    \"twitter\",\n",
    "    \"facebook\",\n",
    "    \"doubleclick\",\n",
    "    \"eventbrite\",\n",
    "    \"youtube\",\n",
    "    \"vimeo\",\n",
    "    \"instagram\",\n",
    "    \"ceros\",\n",
    ")\n",
    "\n",
    "SUBDOMAIN_BLACKLIST = (\n",
    "    \"careers\",\n",
    "    \"mail\",\n",
    "    \"account\",\n",
    "    \"events\",\n",
    ")"
   ]
  },
  {
   "cell_type": "code",
   "execution_count": 248,
   "id": "24c7d6d3",
   "metadata": {},
   "outputs": [
    {
     "data": {
      "text/html": [
       "<div>\n",
       "<style scoped>\n",
       "    .dataframe tbody tr th:only-of-type {\n",
       "        vertical-align: middle;\n",
       "    }\n",
       "\n",
       "    .dataframe tbody tr th {\n",
       "        vertical-align: top;\n",
       "    }\n",
       "\n",
       "    .dataframe thead th {\n",
       "        text-align: right;\n",
       "    }\n",
       "</style>\n",
       "<table border=\"1\" class=\"dataframe\">\n",
       "  <thead>\n",
       "    <tr style=\"text-align: right;\">\n",
       "      <th></th>\n",
       "      <th>url</th>\n",
       "      <th>is_story</th>\n",
       "      <th>domain</th>\n",
       "      <th>subdomain</th>\n",
       "      <th>path</th>\n",
       "      <th>num_url_parts</th>\n",
       "    </tr>\n",
       "  </thead>\n",
       "  <tbody>\n",
       "    <tr>\n",
       "      <th>197</th>\n",
       "      <td>https://account.amestrib.com/</td>\n",
       "      <td>False</td>\n",
       "      <td>amestrib</td>\n",
       "      <td>account</td>\n",
       "      <td>/</td>\n",
       "      <td>0</td>\n",
       "    </tr>\n",
       "    <tr>\n",
       "      <th>474</th>\n",
       "      <td>https://careers.bleacherreport.com/</td>\n",
       "      <td>False</td>\n",
       "      <td>bleacherreport</td>\n",
       "      <td>careers</td>\n",
       "      <td>/</td>\n",
       "      <td>0</td>\n",
       "    </tr>\n",
       "  </tbody>\n",
       "</table>\n",
       "</div>"
      ],
      "text/plain": [
       "                                     url  is_story          domain subdomain  \\\n",
       "197        https://account.amestrib.com/     False        amestrib   account   \n",
       "474  https://careers.bleacherreport.com/     False  bleacherreport   careers   \n",
       "\n",
       "    path  num_url_parts  \n",
       "197    /              0  \n",
       "474    /              0  "
      ]
     },
     "execution_count": 248,
     "metadata": {},
     "output_type": "execute_result"
    }
   ],
   "source": [
    "(is_article_df\n",
    "#  .loc[lambda df: df['path'].apply(lambda x: any(map(lambda y: y in x, SUBDOMAIN_BLACKLIST)))]\n",
    "  .loc[lambda df: df['subdomain'].isin(SUBDOMAIN_BLACKLIST)]\n",
    " .head(2)\n",
    ")"
   ]
  },
  {
   "cell_type": "code",
   "execution_count": 247,
   "id": "ba6ff75a",
   "metadata": {},
   "outputs": [
    {
     "data": {
      "text/html": [
       "<div>\n",
       "<style scoped>\n",
       "    .dataframe tbody tr th:only-of-type {\n",
       "        vertical-align: middle;\n",
       "    }\n",
       "\n",
       "    .dataframe tbody tr th {\n",
       "        vertical-align: top;\n",
       "    }\n",
       "\n",
       "    .dataframe thead th {\n",
       "        text-align: right;\n",
       "    }\n",
       "</style>\n",
       "<table border=\"1\" class=\"dataframe\">\n",
       "  <thead>\n",
       "    <tr style=\"text-align: right;\">\n",
       "      <th></th>\n",
       "      <th>url</th>\n",
       "      <th>is_story</th>\n",
       "      <th>domain</th>\n",
       "      <th>subdomain</th>\n",
       "      <th>path</th>\n",
       "      <th>num_url_parts</th>\n",
       "    </tr>\n",
       "  </thead>\n",
       "  <tbody>\n",
       "    <tr>\n",
       "      <th>51</th>\n",
       "      <td>/events</td>\n",
       "      <td>False</td>\n",
       "      <td></td>\n",
       "      <td></td>\n",
       "      <td>/events</td>\n",
       "      <td>1</td>\n",
       "    </tr>\n",
       "    <tr>\n",
       "      <th>401</th>\n",
       "      <td>/events/</td>\n",
       "      <td>False</td>\n",
       "      <td></td>\n",
       "      <td></td>\n",
       "      <td>/events/</td>\n",
       "      <td>1</td>\n",
       "    </tr>\n",
       "  </tbody>\n",
       "</table>\n",
       "</div>"
      ],
      "text/plain": [
       "          url  is_story domain subdomain      path  num_url_parts\n",
       "51    /events     False                    /events              1\n",
       "401  /events/     False                   /events/              1"
      ]
     },
     "execution_count": 247,
     "metadata": {},
     "output_type": "execute_result"
    }
   ],
   "source": [
    "(is_article_df\n",
    "#  .loc[lambda df: df['path'].apply(lambda x: any(map(lambda y: y in x, SUBDOMAIN_BLACKLIST)))]\n",
    "  .loc[lambda df: df['path'].str.replace('/', '').isin(SUBDOMAIN_BLACKLIST)]\n",
    " .head(2)\n",
    ")"
   ]
  },
  {
   "cell_type": "code",
   "execution_count": 249,
   "id": "8816ea91",
   "metadata": {},
   "outputs": [
    {
     "data": {
      "text/plain": [
       "0.5831903945111492"
      ]
     },
     "execution_count": 249,
     "metadata": {},
     "output_type": "execute_result"
    }
   ],
   "source": [
    "is_article_df.assign(label=True).pipe(lambda df: f1_score(df['is_story'], df['label']))"
   ]
  },
  {
   "cell_type": "code",
   "execution_count": 255,
   "id": "5fb71259",
   "metadata": {},
   "outputs": [
    {
     "data": {
      "text/plain": [
       "0.8839736127279781"
      ]
     },
     "execution_count": 255,
     "metadata": {},
     "output_type": "execute_result"
    }
   ],
   "source": [
    "(is_article_df\n",
    " .assign(label=lambda df: df['num_url_parts'] > 3).pipe(lambda df: f1_score(df['is_story'], df['label']))\n",
    ")"
   ]
  },
  {
   "cell_type": "code",
   "execution_count": 256,
   "id": "2d4dc292",
   "metadata": {},
   "outputs": [
    {
     "data": {
      "text/plain": [
       "0.8952213941253836"
      ]
     },
     "execution_count": 256,
     "metadata": {},
     "output_type": "execute_result"
    }
   ],
   "source": [
    "(is_article_df\n",
    " .assign(label=lambda df: df['num_url_parts'] > 5)\n",
    " .pipe(lambda df: f1_score(df['is_story'], df['label']))\n",
    ")"
   ]
  },
  {
   "cell_type": "code",
   "execution_count": 193,
   "id": "178b23f3",
   "metadata": {},
   "outputs": [
    {
     "data": {
      "text/plain": [
       "0.7784145176695321"
      ]
     },
     "execution_count": 193,
     "metadata": {},
     "output_type": "execute_result"
    }
   ],
   "source": [
    "(t_is_article_df\n",
    " .assign(has_date=lambda df: df['url_path'].apply(lambda x: re.search('\\d{2,4}\\d+', x) is not None))\n",
    " .pipe(lambda df: f1_score(df['is_story'], df['has_date']))\n",
    ")"
   ]
  },
  {
   "cell_type": "code",
   "execution_count": 326,
   "id": "9ba74a54",
   "metadata": {},
   "outputs": [],
   "source": [
    "is_article_df = (is_article_df\n",
    " .assign(path_words=lambda df: \n",
    "         df['path'].apply(lambda x: re.split('-|/|#|%|@', x))\n",
    "                   .apply(lambda x: list(filter(lambda y: y != '', x)))\n",
    "                   .apply(lambda x: list(map(lambda y: '#' if y.isdigit() else y, x)))\n",
    "                   .apply(lambda x: ' '.join(x))\n",
    "        )\n",
    ")"
   ]
  },
  {
   "cell_type": "code",
   "execution_count": 366,
   "id": "2dd8f2be",
   "metadata": {},
   "outputs": [],
   "source": [
    "train_df, test_df = train_test_split(is_article_df, train_size=.9)"
   ]
  },
  {
   "cell_type": "code",
   "execution_count": 431,
   "id": "0f0361fc",
   "metadata": {},
   "outputs": [],
   "source": [
    "char_pipe = Pipeline([\n",
    "    ('cv', CountVectorizer(min_df=0.01, max_df=0.5, ngram_range=(1, 5), analyzer=\"char\")),\n",
    "    ('lr', LogisticRegressionCV(max_iter=5000))\n",
    "])"
   ]
  },
  {
   "cell_type": "code",
   "execution_count": 432,
   "id": "d9281434",
   "metadata": {},
   "outputs": [
    {
     "data": {
      "text/html": [
       "<style>#sk-container-id-37 {color: black;background-color: white;}#sk-container-id-37 pre{padding: 0;}#sk-container-id-37 div.sk-toggleable {background-color: white;}#sk-container-id-37 label.sk-toggleable__label {cursor: pointer;display: block;width: 100%;margin-bottom: 0;padding: 0.3em;box-sizing: border-box;text-align: center;}#sk-container-id-37 label.sk-toggleable__label-arrow:before {content: \"▸\";float: left;margin-right: 0.25em;color: #696969;}#sk-container-id-37 label.sk-toggleable__label-arrow:hover:before {color: black;}#sk-container-id-37 div.sk-estimator:hover label.sk-toggleable__label-arrow:before {color: black;}#sk-container-id-37 div.sk-toggleable__content {max-height: 0;max-width: 0;overflow: hidden;text-align: left;background-color: #f0f8ff;}#sk-container-id-37 div.sk-toggleable__content pre {margin: 0.2em;color: black;border-radius: 0.25em;background-color: #f0f8ff;}#sk-container-id-37 input.sk-toggleable__control:checked~div.sk-toggleable__content {max-height: 200px;max-width: 100%;overflow: auto;}#sk-container-id-37 input.sk-toggleable__control:checked~label.sk-toggleable__label-arrow:before {content: \"▾\";}#sk-container-id-37 div.sk-estimator input.sk-toggleable__control:checked~label.sk-toggleable__label {background-color: #d4ebff;}#sk-container-id-37 div.sk-label input.sk-toggleable__control:checked~label.sk-toggleable__label {background-color: #d4ebff;}#sk-container-id-37 input.sk-hidden--visually {border: 0;clip: rect(1px 1px 1px 1px);clip: rect(1px, 1px, 1px, 1px);height: 1px;margin: -1px;overflow: hidden;padding: 0;position: absolute;width: 1px;}#sk-container-id-37 div.sk-estimator {font-family: monospace;background-color: #f0f8ff;border: 1px dotted black;border-radius: 0.25em;box-sizing: border-box;margin-bottom: 0.5em;}#sk-container-id-37 div.sk-estimator:hover {background-color: #d4ebff;}#sk-container-id-37 div.sk-parallel-item::after {content: \"\";width: 100%;border-bottom: 1px solid gray;flex-grow: 1;}#sk-container-id-37 div.sk-label:hover label.sk-toggleable__label {background-color: #d4ebff;}#sk-container-id-37 div.sk-serial::before {content: \"\";position: absolute;border-left: 1px solid gray;box-sizing: border-box;top: 0;bottom: 0;left: 50%;z-index: 0;}#sk-container-id-37 div.sk-serial {display: flex;flex-direction: column;align-items: center;background-color: white;padding-right: 0.2em;padding-left: 0.2em;position: relative;}#sk-container-id-37 div.sk-item {position: relative;z-index: 1;}#sk-container-id-37 div.sk-parallel {display: flex;align-items: stretch;justify-content: center;background-color: white;position: relative;}#sk-container-id-37 div.sk-item::before, #sk-container-id-37 div.sk-parallel-item::before {content: \"\";position: absolute;border-left: 1px solid gray;box-sizing: border-box;top: 0;bottom: 0;left: 50%;z-index: -1;}#sk-container-id-37 div.sk-parallel-item {display: flex;flex-direction: column;z-index: 1;position: relative;background-color: white;}#sk-container-id-37 div.sk-parallel-item:first-child::after {align-self: flex-end;width: 50%;}#sk-container-id-37 div.sk-parallel-item:last-child::after {align-self: flex-start;width: 50%;}#sk-container-id-37 div.sk-parallel-item:only-child::after {width: 0;}#sk-container-id-37 div.sk-dashed-wrapped {border: 1px dashed gray;margin: 0 0.4em 0.5em 0.4em;box-sizing: border-box;padding-bottom: 0.4em;background-color: white;}#sk-container-id-37 div.sk-label label {font-family: monospace;font-weight: bold;display: inline-block;line-height: 1.2em;}#sk-container-id-37 div.sk-label-container {text-align: center;}#sk-container-id-37 div.sk-container {/* jupyter's `normalize.less` sets `[hidden] { display: none; }` but bootstrap.min.css set `[hidden] { display: none !important; }` so we also need the `!important` here to be able to override the default hidden behavior on the sphinx rendered scikit-learn.org. See: https://github.com/scikit-learn/scikit-learn/issues/21755 */display: inline-block !important;position: relative;}#sk-container-id-37 div.sk-text-repr-fallback {display: none;}</style><div id=\"sk-container-id-37\" class=\"sk-top-container\"><div class=\"sk-text-repr-fallback\"><pre>Pipeline(steps=[(&#x27;cv&#x27;,\n",
       "                 CountVectorizer(analyzer=&#x27;char&#x27;, max_df=0.5, min_df=0.01,\n",
       "                                 ngram_range=(1, 5))),\n",
       "                (&#x27;lr&#x27;, LogisticRegressionCV(max_iter=5000))])</pre><b>In a Jupyter environment, please rerun this cell to show the HTML representation or trust the notebook. <br />On GitHub, the HTML representation is unable to render, please try loading this page with nbviewer.org.</b></div><div class=\"sk-container\" hidden><div class=\"sk-item sk-dashed-wrapped\"><div class=\"sk-label-container\"><div class=\"sk-label sk-toggleable\"><input class=\"sk-toggleable__control sk-hidden--visually\" id=\"sk-estimator-id-101\" type=\"checkbox\" ><label for=\"sk-estimator-id-101\" class=\"sk-toggleable__label sk-toggleable__label-arrow\">Pipeline</label><div class=\"sk-toggleable__content\"><pre>Pipeline(steps=[(&#x27;cv&#x27;,\n",
       "                 CountVectorizer(analyzer=&#x27;char&#x27;, max_df=0.5, min_df=0.01,\n",
       "                                 ngram_range=(1, 5))),\n",
       "                (&#x27;lr&#x27;, LogisticRegressionCV(max_iter=5000))])</pre></div></div></div><div class=\"sk-serial\"><div class=\"sk-item\"><div class=\"sk-estimator sk-toggleable\"><input class=\"sk-toggleable__control sk-hidden--visually\" id=\"sk-estimator-id-102\" type=\"checkbox\" ><label for=\"sk-estimator-id-102\" class=\"sk-toggleable__label sk-toggleable__label-arrow\">CountVectorizer</label><div class=\"sk-toggleable__content\"><pre>CountVectorizer(analyzer=&#x27;char&#x27;, max_df=0.5, min_df=0.01, ngram_range=(1, 5))</pre></div></div></div><div class=\"sk-item\"><div class=\"sk-estimator sk-toggleable\"><input class=\"sk-toggleable__control sk-hidden--visually\" id=\"sk-estimator-id-103\" type=\"checkbox\" ><label for=\"sk-estimator-id-103\" class=\"sk-toggleable__label sk-toggleable__label-arrow\">LogisticRegressionCV</label><div class=\"sk-toggleable__content\"><pre>LogisticRegressionCV(max_iter=5000)</pre></div></div></div></div></div></div></div>"
      ],
      "text/plain": [
       "Pipeline(steps=[('cv',\n",
       "                 CountVectorizer(analyzer='char', max_df=0.5, min_df=0.01,\n",
       "                                 ngram_range=(1, 5))),\n",
       "                ('lr', LogisticRegressionCV(max_iter=5000))])"
      ]
     },
     "execution_count": 432,
     "metadata": {},
     "output_type": "execute_result"
    }
   ],
   "source": [
    "char_pipe.fit(X=train_df['path'] , y=train_df['is_story'])"
   ]
  },
  {
   "cell_type": "code",
   "execution_count": 477,
   "id": "31a0de30",
   "metadata": {},
   "outputs": [],
   "source": [
    "labels = char_pipe.predict(test_df['path'])"
   ]
  },
  {
   "cell_type": "code",
   "execution_count": 478,
   "id": "89e7bd77",
   "metadata": {},
   "outputs": [
    {
     "data": {
      "text/plain": [
       "0.9451476793248945"
      ]
     },
     "execution_count": 478,
     "metadata": {},
     "output_type": "execute_result"
    }
   ],
   "source": [
    "f1_score(test_df['is_story'], labels)"
   ]
  },
  {
   "cell_type": "code",
   "execution_count": 612,
   "id": "906864a8",
   "metadata": {},
   "outputs": [],
   "source": [
    "class Modeling():\n",
    "    def __init__(self, *args, **kwargs):\n",
    "        self.cv = None\n",
    "        self.lr = None\n",
    "\n",
    "    def training(self, X_train, y_train):\n",
    "        self.cv = CountVectorizer(min_df=0.01, max_df=0.5, ngram_range=(1, 5), analyzer=\"char\")\n",
    "        self.lr = LogisticRegressionCV(max_iter=5000)\n",
    "        x_mat_train = self.cv.fit_transform(X_train)\n",
    "        self.lr.fit(x_mat_train, y_train)\n",
    "\n",
    "    def get_predictions(self, candidate_url_list):\n",
    "        assert not (self.cv is None or self.lr is None), 'Train first...'\n",
    "        if not isinstance(candidate_url_list, list):\n",
    "            candidate_url_list = [candidate_url_list]\n",
    "            \n",
    "        clean_str = list(map(lambda x: urlparse(x).path, candidate_url_list))\n",
    "        cand_mat = self.cv.transform(clean_str)\n",
    "        cand_probas = self.lr.predict_proba(cand_mat)\n",
    "        # rules \n",
    "        \n",
    "        return cand_probas        \n",
    "        \n",
    "    def to_json(self):\n",
    "        model_output = {}\n",
    "        model_output['lr_coef'] = self.lr.coef_.tolist()\n",
    "        model_output['lr_intercept'] = self.lr.intercept_.tolist()\n",
    "        model_output['vocab'] = self.cv.vocabulary_\n",
    "        model_output['classes'] = self.lr.classes_.tolist()\n",
    "        model_output['ngram_range'] = self.cv.ngram_range\n",
    "        model_output['cv_analyzer'] = self.cv.analyzer\n",
    "        return model_output\n",
    "\n",
    "    @classmethod\n",
    "    def from_json(cls, json_obj):\n",
    "        model = cls(desired_keys=json_obj['classes'], cache_test_data=False)\n",
    "        cv = CountVectorizer(\n",
    "            vocabulary=json_obj['vocab'],\n",
    "            analyzer=json_obj['cv_analyzer'],\n",
    "            ngram_range=json_obj['ngram_range']\n",
    "        )\n",
    "        lr = LogisticRegression()\n",
    "        lr.coef_ = np.array(json_obj['lr_coef'])\n",
    "        lr.intercept_ = np.array(json_obj['lr_intercept'])\n",
    "        lr.classes_ = np.array(json_obj['classes'])\n",
    "        model.classes = json_obj['classes']\n",
    "        model.lr = lr\n",
    "        model.cv = cv\n",
    "        return model"
   ]
  },
  {
   "cell_type": "code",
   "execution_count": 613,
   "id": "ce4730dd",
   "metadata": {},
   "outputs": [],
   "source": [
    "m = Modeling()"
   ]
  },
  {
   "cell_type": "code",
   "execution_count": 616,
   "id": "84dedb66",
   "metadata": {},
   "outputs": [],
   "source": [
    "m.training(is_article_df['path'], is_article_df['is_story'])"
   ]
  },
  {
   "cell_type": "code",
   "execution_count": 617,
   "id": "8c832460",
   "metadata": {},
   "outputs": [],
   "source": [
    "j = m.to_json()"
   ]
  },
  {
   "cell_type": "code",
   "execution_count": 634,
   "id": "db4a8ee6",
   "metadata": {},
   "outputs": [],
   "source": [
    "with open('../bin/news-homepages/newshomepages/bin/model_files/trained_lr_obj.json', 'w') as f:\n",
    "    json.dump(j, f)"
   ]
  },
  {
   "cell_type": "code",
   "execution_count": 572,
   "id": "34906721",
   "metadata": {},
   "outputs": [],
   "source": [
    "_white_spaces = re.compile(r\"\\s\\s+\")\n",
    "ngram_range = (1, 5)\n",
    "\n",
    "def _char_ngrams(text_document):\n",
    "    \"\"\"Tokenize text_document into a sequence of character n-grams\"\"\"\n",
    "    # normalize white spaces\n",
    "    text_document = _white_spaces.sub(\" \", text_document)\n",
    "\n",
    "    text_len = len(text_document)\n",
    "    min_n, max_n = ngram_range\n",
    "    if min_n == 1:\n",
    "        # no need to do any slicing for unigrams\n",
    "        # iterate through the string\n",
    "        ngrams = list(text_document)\n",
    "        min_n += 1\n",
    "    else:\n",
    "        ngrams = []\n",
    "\n",
    "    # bind method outside of loop to reduce overhead\n",
    "    ngrams_append = ngrams.append\n",
    "\n",
    "    for n in range(min_n, min(max_n + 1, text_len + 1)):\n",
    "        for i in range(text_len - n + 1):\n",
    "            ngrams_append(text_document[i : i + n])\n",
    "    return ngrams"
   ]
  },
  {
   "cell_type": "code",
   "execution_count": 580,
   "id": "3955d1e1",
   "metadata": {},
   "outputs": [],
   "source": [
    "n = _char_ngrams(test_df['path'].iloc[0])"
   ]
  },
  {
   "cell_type": "code",
   "execution_count": 591,
   "id": "34038a0b",
   "metadata": {},
   "outputs": [],
   "source": [
    "t2 = m.cv.transform([test_df['path'].iloc[0]]).toarray()[0]"
   ]
  },
  {
   "cell_type": "code",
   "execution_count": 605,
   "id": "70d832a4",
   "metadata": {
    "scrolled": true
   },
   "outputs": [
    {
     "data": {
      "text/plain": [
       "[1418,\n",
       " 1870,\n",
       " 1096,\n",
       " 707,\n",
       " 707,\n",
       " 1846,\n",
       " 290,\n",
       " 1438,\n",
       " 1388,\n",
       " 1653,\n",
       " 1765,\n",
       " 1585,\n",
       " 218,\n",
       " 526,\n",
       " 1131,\n",
       " 884,\n",
       " 1871,\n",
       " 98,\n",
       " 1099,\n",
       " 1345,\n",
       " 1258,\n",
       " 857,\n",
       " 1555,\n",
       " 41,\n",
       " 689,\n",
       " 1549,\n",
       " 1810,\n",
       " 1604,\n",
       " 506,\n",
       " 724,\n",
       " 839,\n",
       " 1468,\n",
       " 19,\n",
       " 540,\n",
       " 1250,\n",
       " 708,\n",
       " 41,\n",
       " 665,\n",
       " 1159,\n",
       " 1413,\n",
       " 1858,\n",
       " 1237,\n",
       " 293,\n",
       " 1446,\n",
       " 1391,\n",
       " 1667,\n",
       " 1767,\n",
       " 1589,\n",
       " 222,\n",
       " 530,\n",
       " 99,\n",
       " 1351,\n",
       " 1261,\n",
       " 858,\n",
       " 1559,\n",
       " 56,\n",
       " 1550,\n",
       " 508,\n",
       " 730,\n",
       " 840,\n",
       " 1469,\n",
       " 25,\n",
       " 545,\n",
       " 1251,\n",
       " 712,\n",
       " 48,\n",
       " 1415,\n",
       " 1668,\n",
       " 731,\n",
       " 841,\n",
       " 26,\n",
       " 546,\n",
       " 27]"
      ]
     },
     "execution_count": 605,
     "metadata": {},
     "output_type": "execute_result"
    }
   ],
   "source": [
    "list(filter(lambda x: x is not None, list(map(lambda n_i: m.cv.vocabulary_.get(n_i) , n))))"
   ]
  },
  {
   "cell_type": "code",
   "execution_count": null,
   "id": "3f32ccd7",
   "metadata": {},
   "outputs": [],
   "source": []
  },
  {
   "cell_type": "code",
   "execution_count": null,
   "id": "de7b8687",
   "metadata": {},
   "outputs": [],
   "source": []
  },
  {
   "cell_type": "code",
   "execution_count": null,
   "id": "20f44d64",
   "metadata": {},
   "outputs": [],
   "source": []
  },
  {
   "cell_type": "code",
   "execution_count": null,
   "id": "880f6424",
   "metadata": {},
   "outputs": [],
   "source": []
  },
  {
   "cell_type": "code",
   "execution_count": null,
   "id": "855bbef9",
   "metadata": {},
   "outputs": [],
   "source": []
  },
  {
   "cell_type": "code",
   "execution_count": null,
   "id": "9cb16ed9",
   "metadata": {},
   "outputs": [],
   "source": []
  },
  {
   "cell_type": "code",
   "execution_count": null,
   "id": "0d00de9b",
   "metadata": {},
   "outputs": [],
   "source": []
  },
  {
   "cell_type": "code",
   "execution_count": null,
   "id": "d9ad2f88",
   "metadata": {},
   "outputs": [],
   "source": []
  },
  {
   "cell_type": "code",
   "execution_count": null,
   "id": "59526612",
   "metadata": {},
   "outputs": [],
   "source": []
  },
  {
   "cell_type": "code",
   "execution_count": null,
   "id": "2ab83ee2",
   "metadata": {},
   "outputs": [],
   "source": []
  },
  {
   "cell_type": "code",
   "execution_count": 566,
   "id": "04d95483",
   "metadata": {},
   "outputs": [],
   "source": [
    "word_pipe = Pipeline([\n",
    "    ('cv', CountVectorizer(min_df=0.001, max_df=0.9, ngram_range=(1, 4), analyzer=\"char_wb\")),\n",
    "    ('lr', LogisticRegressionCV(max_iter=5000))\n",
    "])"
   ]
  },
  {
   "cell_type": "code",
   "execution_count": 567,
   "id": "b474e409",
   "metadata": {},
   "outputs": [
    {
     "data": {
      "text/html": [
       "<style>#sk-container-id-44 {color: black;background-color: white;}#sk-container-id-44 pre{padding: 0;}#sk-container-id-44 div.sk-toggleable {background-color: white;}#sk-container-id-44 label.sk-toggleable__label {cursor: pointer;display: block;width: 100%;margin-bottom: 0;padding: 0.3em;box-sizing: border-box;text-align: center;}#sk-container-id-44 label.sk-toggleable__label-arrow:before {content: \"▸\";float: left;margin-right: 0.25em;color: #696969;}#sk-container-id-44 label.sk-toggleable__label-arrow:hover:before {color: black;}#sk-container-id-44 div.sk-estimator:hover label.sk-toggleable__label-arrow:before {color: black;}#sk-container-id-44 div.sk-toggleable__content {max-height: 0;max-width: 0;overflow: hidden;text-align: left;background-color: #f0f8ff;}#sk-container-id-44 div.sk-toggleable__content pre {margin: 0.2em;color: black;border-radius: 0.25em;background-color: #f0f8ff;}#sk-container-id-44 input.sk-toggleable__control:checked~div.sk-toggleable__content {max-height: 200px;max-width: 100%;overflow: auto;}#sk-container-id-44 input.sk-toggleable__control:checked~label.sk-toggleable__label-arrow:before {content: \"▾\";}#sk-container-id-44 div.sk-estimator input.sk-toggleable__control:checked~label.sk-toggleable__label {background-color: #d4ebff;}#sk-container-id-44 div.sk-label input.sk-toggleable__control:checked~label.sk-toggleable__label {background-color: #d4ebff;}#sk-container-id-44 input.sk-hidden--visually {border: 0;clip: rect(1px 1px 1px 1px);clip: rect(1px, 1px, 1px, 1px);height: 1px;margin: -1px;overflow: hidden;padding: 0;position: absolute;width: 1px;}#sk-container-id-44 div.sk-estimator {font-family: monospace;background-color: #f0f8ff;border: 1px dotted black;border-radius: 0.25em;box-sizing: border-box;margin-bottom: 0.5em;}#sk-container-id-44 div.sk-estimator:hover {background-color: #d4ebff;}#sk-container-id-44 div.sk-parallel-item::after {content: \"\";width: 100%;border-bottom: 1px solid gray;flex-grow: 1;}#sk-container-id-44 div.sk-label:hover label.sk-toggleable__label {background-color: #d4ebff;}#sk-container-id-44 div.sk-serial::before {content: \"\";position: absolute;border-left: 1px solid gray;box-sizing: border-box;top: 0;bottom: 0;left: 50%;z-index: 0;}#sk-container-id-44 div.sk-serial {display: flex;flex-direction: column;align-items: center;background-color: white;padding-right: 0.2em;padding-left: 0.2em;position: relative;}#sk-container-id-44 div.sk-item {position: relative;z-index: 1;}#sk-container-id-44 div.sk-parallel {display: flex;align-items: stretch;justify-content: center;background-color: white;position: relative;}#sk-container-id-44 div.sk-item::before, #sk-container-id-44 div.sk-parallel-item::before {content: \"\";position: absolute;border-left: 1px solid gray;box-sizing: border-box;top: 0;bottom: 0;left: 50%;z-index: -1;}#sk-container-id-44 div.sk-parallel-item {display: flex;flex-direction: column;z-index: 1;position: relative;background-color: white;}#sk-container-id-44 div.sk-parallel-item:first-child::after {align-self: flex-end;width: 50%;}#sk-container-id-44 div.sk-parallel-item:last-child::after {align-self: flex-start;width: 50%;}#sk-container-id-44 div.sk-parallel-item:only-child::after {width: 0;}#sk-container-id-44 div.sk-dashed-wrapped {border: 1px dashed gray;margin: 0 0.4em 0.5em 0.4em;box-sizing: border-box;padding-bottom: 0.4em;background-color: white;}#sk-container-id-44 div.sk-label label {font-family: monospace;font-weight: bold;display: inline-block;line-height: 1.2em;}#sk-container-id-44 div.sk-label-container {text-align: center;}#sk-container-id-44 div.sk-container {/* jupyter's `normalize.less` sets `[hidden] { display: none; }` but bootstrap.min.css set `[hidden] { display: none !important; }` so we also need the `!important` here to be able to override the default hidden behavior on the sphinx rendered scikit-learn.org. See: https://github.com/scikit-learn/scikit-learn/issues/21755 */display: inline-block !important;position: relative;}#sk-container-id-44 div.sk-text-repr-fallback {display: none;}</style><div id=\"sk-container-id-44\" class=\"sk-top-container\"><div class=\"sk-text-repr-fallback\"><pre>Pipeline(steps=[(&#x27;cv&#x27;,\n",
       "                 CountVectorizer(analyzer=&#x27;char_wb&#x27;, max_df=0.9, min_df=0.001,\n",
       "                                 ngram_range=(1, 4))),\n",
       "                (&#x27;lr&#x27;, LogisticRegressionCV(max_iter=5000))])</pre><b>In a Jupyter environment, please rerun this cell to show the HTML representation or trust the notebook. <br />On GitHub, the HTML representation is unable to render, please try loading this page with nbviewer.org.</b></div><div class=\"sk-container\" hidden><div class=\"sk-item sk-dashed-wrapped\"><div class=\"sk-label-container\"><div class=\"sk-label sk-toggleable\"><input class=\"sk-toggleable__control sk-hidden--visually\" id=\"sk-estimator-id-114\" type=\"checkbox\" ><label for=\"sk-estimator-id-114\" class=\"sk-toggleable__label sk-toggleable__label-arrow\">Pipeline</label><div class=\"sk-toggleable__content\"><pre>Pipeline(steps=[(&#x27;cv&#x27;,\n",
       "                 CountVectorizer(analyzer=&#x27;char_wb&#x27;, max_df=0.9, min_df=0.001,\n",
       "                                 ngram_range=(1, 4))),\n",
       "                (&#x27;lr&#x27;, LogisticRegressionCV(max_iter=5000))])</pre></div></div></div><div class=\"sk-serial\"><div class=\"sk-item\"><div class=\"sk-estimator sk-toggleable\"><input class=\"sk-toggleable__control sk-hidden--visually\" id=\"sk-estimator-id-115\" type=\"checkbox\" ><label for=\"sk-estimator-id-115\" class=\"sk-toggleable__label sk-toggleable__label-arrow\">CountVectorizer</label><div class=\"sk-toggleable__content\"><pre>CountVectorizer(analyzer=&#x27;char_wb&#x27;, max_df=0.9, min_df=0.001,\n",
       "                ngram_range=(1, 4))</pre></div></div></div><div class=\"sk-item\"><div class=\"sk-estimator sk-toggleable\"><input class=\"sk-toggleable__control sk-hidden--visually\" id=\"sk-estimator-id-116\" type=\"checkbox\" ><label for=\"sk-estimator-id-116\" class=\"sk-toggleable__label sk-toggleable__label-arrow\">LogisticRegressionCV</label><div class=\"sk-toggleable__content\"><pre>LogisticRegressionCV(max_iter=5000)</pre></div></div></div></div></div></div></div>"
      ],
      "text/plain": [
       "Pipeline(steps=[('cv',\n",
       "                 CountVectorizer(analyzer='char_wb', max_df=0.9, min_df=0.001,\n",
       "                                 ngram_range=(1, 4))),\n",
       "                ('lr', LogisticRegressionCV(max_iter=5000))])"
      ]
     },
     "execution_count": 567,
     "metadata": {},
     "output_type": "execute_result"
    }
   ],
   "source": [
    "word_pipe.fit(X=train_df['path_words'], y=train_df['is_story'])"
   ]
  },
  {
   "cell_type": "code",
   "execution_count": 568,
   "id": "4d9c7a71",
   "metadata": {},
   "outputs": [],
   "source": [
    "labels = word_pipe.predict(test_df['path_words'])"
   ]
  },
  {
   "cell_type": "code",
   "execution_count": 569,
   "id": "06d91b0d",
   "metadata": {},
   "outputs": [
    {
     "data": {
      "text/plain": [
       "0.9145299145299146"
      ]
     },
     "execution_count": 569,
     "metadata": {},
     "output_type": "execute_result"
    }
   ],
   "source": [
    "f1_score(test_df['is_story'], labels)"
   ]
  },
  {
   "cell_type": "code",
   "execution_count": null,
   "id": "2b82ad89",
   "metadata": {},
   "outputs": [],
   "source": []
  },
  {
   "cell_type": "code",
   "execution_count": null,
   "id": "f1047c55",
   "metadata": {},
   "outputs": [],
   "source": []
  },
  {
   "cell_type": "code",
   "execution_count": 776,
   "id": "f3863157",
   "metadata": {},
   "outputs": [],
   "source": [
    "function_js = '''\n",
    "get_parents = function (node) {\n",
    "  var nodes = [node]\n",
    "  for (; node; node = node.parentNode) {\n",
    "    nodes.unshift(node)\n",
    "  }\n",
    "  return nodes\n",
    "}\n",
    "\n",
    "function get_common_parent(node1, node2, return_common) {\n",
    "  if (return_common === undefined)\n",
    "    return_common = true\n",
    "\n",
    "  var parents1 = get_parents(node1)\n",
    "  var parents2 = get_parents(node2)\n",
    "\n",
    "  if (parents1[0] != parents2[0]){\n",
    "      throw \"No common ancestor!\"\n",
    "    }\n",
    "\n",
    "  // parents are in order of top -> bottom\n",
    "  for (var i = 0; i < parents1.length; i++) {\n",
    "    if (parents1[i] != parents2[i]){\n",
    "      if (return_common)\n",
    "        return parents1[i - 1] \n",
    "      else\n",
    "        return parents1[i]\n",
    "    }\n",
    "  }\n",
    "}\n",
    "\n",
    "function is_smaller_child(child_candidate, parent_candidate){\n",
    "    var child_parents = get_parents(child_candidate)\n",
    "    var parent_parents = get_parents(parent_candidate)\n",
    "    return child_parents.length > parent_parents.length\n",
    "}\n",
    "\n",
    "function get_most_parent_with_joining(a_href, as, a_counts){\n",
    "    var same_links = a_counts[a_href]\n",
    "    if (same_links.length == 1){\n",
    "        // If this is the only time this link appears, get the uppermost parent\n",
    "        // that isn't also the parent of any other link.\n",
    "        var i = same_links[0]\n",
    "        var a = as[i]\n",
    "        var curr_parent = document\n",
    "        for (j = 0; j < as.length; j++){\n",
    "          if (i != j){\n",
    "            var common_not_parent = get_common_parent(a, as[j], return_common=false)\n",
    "            if (is_smaller_child(common_not_parent, curr_parent)){\n",
    "              curr_parent = common_not_parent  \n",
    "            }\n",
    "          }\n",
    "        }\n",
    "    } else {\n",
    "        // Otherwise, get the greatest common parent for all the links.\n",
    "        var all_instances_of_a = []\n",
    "        a_counts[a_href].forEach(function(i){ all_instances_of_a.push(as[i]) })\n",
    "        var curr_parent = all_instances_of_a[0]\n",
    "        for (i=1; i < all_instances_of_a.length; i++){\n",
    "            curr_parent = get_common_parent(curr_parent, all_instances_of_a[i])\n",
    "        }\n",
    "    }\n",
    "    return curr_parent    \n",
    "}\n",
    "\n",
    "function get_highest_singular_parent(i, as, a_counts){\n",
    "    var a = as[i]\n",
    "    var curr_parent = document\n",
    "    for (j = 0; j < as.length; j++){\n",
    "      if ((i != j) & (as[i].href != as[j].href)) {\n",
    "        var common_not_parent = get_common_parent(a, as[j], return_common=false)\n",
    "        if (is_smaller_child(common_not_parent, curr_parent)){\n",
    "          curr_parent = common_not_parent  \n",
    "        }\n",
    "      }\n",
    "    }\n",
    "    return curr_parent  \n",
    "}\n",
    "\n",
    "function get_url_parts(url){\n",
    "    url = new URL(url)\n",
    "    var path = url.pathname\n",
    "    path = path.split(/[-/:.]/).filter(function(d){return d != ''})\n",
    "    return path.length\n",
    "}\n",
    "\n",
    "function get_text_of_node(node){\n",
    "    var iter = document.createNodeIterator(node, NodeFilter.SHOW_TEXT)\n",
    "    var textnode;\n",
    "    var output_text = ''\n",
    "\n",
    "    // print all text nodes\n",
    "    while (textnode = iter.nextNode()) {\n",
    "      output_text = output_text + ' ' + textnode.textContent\n",
    "    }\n",
    "    return output_text.trim()\n",
    "}\n",
    "'''\n",
    "executable_js = '''\n",
    "var as = document.querySelectorAll('a')\n",
    "as = Array.from(as).filter(function(a) { return a.href !== ''}).filter(function(a){return a.href !== undefined; })\n",
    "// as = as.filter(function(a){return get_url_parts(a.href) > 4})\n",
    "\n",
    "var a_counts = {}\n",
    "as.forEach(function(a, i){\n",
    "    a_counts[a.href] = a_counts[a.href] || []\n",
    "    a_counts[a.href].push(i)\n",
    "})\n",
    "\n",
    "var a_top_nodes = as.map(function(a, i){ \n",
    "    return get_highest_singular_parent(i, as, a_counts) \n",
    "    // return get_most_parent_with_joining(a, as, a_counts)\n",
    "})\n",
    "a_top_nodes.forEach(function(node){\n",
    "    node.setAttribute('style', 'border: 4px dotted blue !important;')\n",
    "})\n",
    "'''"
   ]
  },
  {
   "cell_type": "code",
   "execution_count": 777,
   "id": "b52fc003",
   "metadata": {},
   "outputs": [],
   "source": [
    "sites = pd.read_csv('../bin/news-homepages/newshomepages/sources/sites.csv')"
   ]
  },
  {
   "cell_type": "code",
   "execution_count": 760,
   "id": "449d660c",
   "metadata": {},
   "outputs": [],
   "source": [
    "model_utils_js = open('../bin/news-homepages/newshomepages/bin/js/model_utils.js').read()\n",
    "lr_obj = open('../bin/news-homepages/newshomepages/bin/model_files/trained_lr_obj.json').read()"
   ]
  },
  {
   "cell_type": "code",
   "execution_count": 761,
   "id": "98a16016",
   "metadata": {},
   "outputs": [
    {
     "data": {
      "text/plain": [
       "0.5"
      ]
     },
     "execution_count": 761,
     "metadata": {},
     "output_type": "execute_result"
    }
   ],
   "source": [
    "await page.evaluate(model_utils_js)"
   ]
  },
  {
   "cell_type": "code",
   "execution_count": 762,
   "id": "b434e815",
   "metadata": {},
   "outputs": [
    {
     "data": {
      "text/plain": [
       "False"
      ]
     },
     "execution_count": 762,
     "metadata": {},
     "output_type": "execute_result"
    }
   ],
   "source": [
    "await page.evaluate('const lr = new LRPathPredictor(%s)' % lr_obj)\n",
    "\n",
    "t = \"https://abcnews.go.com/US/42-magnitude-earthquake-strikes-malibu/story?id=96655478\"\n",
    "t = \"https://abcnews.go.com/US/gunviolence\"\n",
    "await page.evaluate('lr.get_predictions(\"%s\")' % t)"
   ]
  },
  {
   "cell_type": "code",
   "execution_count": null,
   "id": "a2f07121",
   "metadata": {},
   "outputs": [],
   "source": []
  },
  {
   "cell_type": "code",
   "execution_count": 778,
   "id": "a9e5e37e",
   "metadata": {},
   "outputs": [],
   "source": [
    "import json \n",
    "from playwright.async_api import async_playwright\n",
    "import glob\n",
    "import os "
   ]
  },
  {
   "cell_type": "code",
   "execution_count": 779,
   "id": "016cd10a",
   "metadata": {},
   "outputs": [],
   "source": [
    "playwright = await async_playwright().start()\n",
    "browser = await playwright.chromium.launch(headless = False)"
   ]
  },
  {
   "cell_type": "code",
   "execution_count": 780,
   "id": "d5cf6129",
   "metadata": {},
   "outputs": [],
   "source": [
    "page = await browser.new_page()"
   ]
  },
  {
   "cell_type": "code",
   "execution_count": 764,
   "id": "71328cb8",
   "metadata": {},
   "outputs": [],
   "source": [
    "await page.close()"
   ]
  },
  {
   "cell_type": "code",
   "execution_count": 781,
   "id": "c53568b3",
   "metadata": {},
   "outputs": [],
   "source": [
    "html_files = glob.glob('../layout-parsing/data/test-html/*')"
   ]
  },
  {
   "cell_type": "code",
   "execution_count": 782,
   "id": "ab79fbe4",
   "metadata": {},
   "outputs": [],
   "source": [
    "pwd = os.getcwd()\n",
    "fp = os.path.join(pwd, html_files[1])"
   ]
  },
  {
   "cell_type": "code",
   "execution_count": 905,
   "id": "9e54a558",
   "metadata": {},
   "outputs": [
    {
     "data": {
      "text/plain": [
       "<Response url='https://www.nytimes.com/' request=<Request url='https://www.nytimes.com/' method='GET'>>"
      ]
     },
     "execution_count": 905,
     "metadata": {},
     "output_type": "execute_result"
    }
   ],
   "source": [
    "# await page.goto(f\"file://{fp}\")\n",
    "await page.goto(f\"https://nytimes.com\")"
   ]
  },
  {
   "cell_type": "code",
   "execution_count": 906,
   "id": "52039b3c",
   "metadata": {
    "scrolled": true
   },
   "outputs": [],
   "source": [
    "await page.evaluate(function_js + executable_js)"
   ]
  },
  {
   "cell_type": "code",
   "execution_count": 908,
   "id": "b78045d0",
   "metadata": {},
   "outputs": [],
   "source": [
    "async def get_bounding_box_info():\n",
    "    bounding_boxes = await page.evaluate('''\n",
    "        function () {\n",
    "            var all_links = []\n",
    "            a_top_nodes.forEach(function(node){\n",
    "                var links = Array.from(node.querySelectorAll('a')).map(function(a){ return a })\n",
    "                if ((links.length == 0) & (node.nodeName === 'A')){\n",
    "                    links = [node]\n",
    "                }\n",
    "                links = links.map(function(a){return {'url': a.href, 'link_text': get_text_of_node(a)}})\n",
    "\n",
    "                links.forEach(function(a){\n",
    "                    var b = node.getBoundingClientRect()\n",
    "                    a['x'] = b['x']\n",
    "                    a['y'] = b['y']\n",
    "                    a['width'] = b['width']\n",
    "                    a['height'] = b['height']\n",
    "                    a['all_text'] = get_text_of_node(node)\n",
    "                    all_links.push(a)\n",
    "                })\n",
    "            })\n",
    "            return all_links\n",
    "        }\n",
    "    ''')\n",
    "\n",
    "    width = await page.evaluate('''\n",
    "        Math.max(\n",
    "            document.documentElement[\"clientWidth\"],\n",
    "            document.body[\"scrollWidth\"],\n",
    "            document.documentElement[\"scrollWidth\"],\n",
    "            document.body[\"offsetWidth\"],\n",
    "            document.documentElement[\"offsetWidth\"]\n",
    "        );\n",
    "    ''')\n",
    "\n",
    "    height = await page.evaluate('''Math.max(\n",
    "        document.documentElement[\"clientHeight\"],\n",
    "        document.body[\"scrollHeight\"],\n",
    "        document.documentElement[\"scrollHeight\"],\n",
    "        document.body[\"offsetHeight\"],\n",
    "        document.documentElement[\"offsetHeight\"]\n",
    "    );''')\n",
    "    \n",
    "    return bounding_boxes, width, height"
   ]
  },
  {
   "cell_type": "code",
   "execution_count": 909,
   "id": "12d138d4",
   "metadata": {},
   "outputs": [],
   "source": [
    "await page.evaluate('scroll(0, 000)')"
   ]
  },
  {
   "cell_type": "code",
   "execution_count": 912,
   "id": "cbcaee64",
   "metadata": {},
   "outputs": [
    {
     "data": {
      "text/plain": [
       "[[],\n",
       " [],\n",
       " [],\n",
       " [],\n",
       " [],\n",
       " [],\n",
       " [],\n",
       " [],\n",
       " [],\n",
       " [],\n",
       " [],\n",
       " [],\n",
       " [],\n",
       " [],\n",
       " [],\n",
       " [],\n",
       " [],\n",
       " [],\n",
       " [],\n",
       " [],\n",
       " [],\n",
       " [],\n",
       " [],\n",
       " [],\n",
       " [],\n",
       " [],\n",
       " [],\n",
       " [],\n",
       " [],\n",
       " [],\n",
       " [],\n",
       " [],\n",
       " [],\n",
       " [],\n",
       " [],\n",
       " [],\n",
       " [],\n",
       " [],\n",
       " [],\n",
       " [],\n",
       " [],\n",
       " [],\n",
       " [],\n",
       " [],\n",
       " [],\n",
       " [],\n",
       " [],\n",
       " [],\n",
       " [],\n",
       " [],\n",
       " [],\n",
       " [],\n",
       " [],\n",
       " [],\n",
       " [],\n",
       " [],\n",
       " [],\n",
       " [],\n",
       " [],\n",
       " [],\n",
       " [],\n",
       " [{'src': 'https://static01.nyt.com/images/2023/02/01/business/fed-rate-promo/fed-rate-promo-threeByTwoMediumAt2X-v5.png?format=pjpg&quality=75&auto=webp&disable=upscale',\n",
       "   'alt': '',\n",
       "   'x': 352.234375,\n",
       "   'y': 529.59375,\n",
       "   'width': 513.859375,\n",
       "   'height': 342.5625}],\n",
       " [],\n",
       " [],\n",
       " [],\n",
       " [],\n",
       " [{'src': 'https://static01.nyt.com/images/2023/02/01/multimedia/01tyre-nichols-funeral-carousel-06-bjtc/01tyre-nichols-funeral-carousel-06-bjtc-square640-v2.jpg?quality=75&auto=webp',\n",
       "   'alt': '',\n",
       "   'x': 866.09375,\n",
       "   'y': 1059.734375,\n",
       "   'width': 516.703125,\n",
       "   'height': 344.46875}],\n",
       " [{'src': 'https://static01.nyt.com/images/2023/02/01/multimedia/01tyre-nichols-funeral-carousel-06-bjtc/01tyre-nichols-funeral-carousel-06-bjtc-square640-v2.jpg?quality=75&auto=webp',\n",
       "   'alt': '',\n",
       "   'x': 866.09375,\n",
       "   'y': 1059.734375,\n",
       "   'width': 516.703125,\n",
       "   'height': 344.46875}],\n",
       " [{'src': 'https://static01.nyt.com/images/2023/02/01/multimedia/01NAT-COLLEGEBOARD-HFO-qtkh/01NAT-COLLEGEBOARD-HFO-qtkh-threeByTwoSmallAt2X.jpg?format=pjpg&quality=75&auto=webp&disable=upscale',\n",
       "   'alt': 'Gov. Ron DeSantis stands behind a podium that has a sign saying Higher Education Reform.',\n",
       "   'x': 349.390625,\n",
       "   'y': 1500.203125,\n",
       "   'width': 272.390625,\n",
       "   'height': 181.59375}],\n",
       " [],\n",
       " [],\n",
       " [{'src': 'https://static01.nyt.com/images/2023/01/30/multimedia/00dc-spending-01-fmpl/00dc-spending-01-fmpl-threeByTwoMediumAt2X.jpg?format=pjpg&quality=75&auto=webp&disable=upscale',\n",
       "   'alt': 'A portrait of the five women leading budget negotiations in the Senate Appropriations Committee room on Capitol Hill.',\n",
       "   'x': 352.234375,\n",
       "   'y': 1734.796875,\n",
       "   'width': 513.859375,\n",
       "   'height': 342.5625}],\n",
       " [],\n",
       " [],\n",
       " [],\n",
       " [{'src': 'https://static01.nyt.com/images/2023/02/05/magazine/05mag-menopause-02-hp/05mag-menopause-02-threeByTwoMediumAt2X.jpg?format=pjpg&quality=75&auto=webp&disable=upscale',\n",
       "   'alt': 'A posed photograph of a middle-aged woman, cropped tightly to show her ear and part of her face, with drops of sweat visible on her face.',\n",
       "   'x': 349.390625,\n",
       "   'y': 2678.234375,\n",
       "   'width': 516.703125,\n",
       "   'height': 344.46875}],\n",
       " [{'src': 'https://static01.nyt.com/images/2023/01/27/multimedia/00nj-arson_1-qhwb/00nj-arson_1-qhwb-threeByTwoMediumAt2X.jpg?format=pjpg&quality=75&auto=webp&disable=upscale',\n",
       "   'alt': 'A girl walks past a boarded-up suburban home in New Jersey.',\n",
       "   'x': 349.390625,\n",
       "   'y': 3114.28125,\n",
       "   'width': 516.703125,\n",
       "   'height': 344.46875}],\n",
       " [{'src': 'https://static01.nyt.com/images/2023/02/01/multimedia/01pol-gop-field-lfvm/01pol-gop-field-lfvm-threeByTwoMediumAt2X.jpg?format=pjpg&quality=75&auto=webp&disable=upscale',\n",
       "   'alt': 'Nikki Haley, wearing a white jacket, speaks into a microphone at a campaign event.',\n",
       "   'x': 349.390625,\n",
       "   'y': 3547.140625,\n",
       "   'width': 516.703125,\n",
       "   'height': 0}],\n",
       " [{'src': 'https://static01.nyt.com/images/2023/02/01/multimedia/01franco-vgpc/01franco-vgpc-threeByTwoMediumAt2X.jpg?format=pjpg&quality=75&auto=webp&disable=upscale',\n",
       "   'alt': 'A bearded man in a fur-collared coat sits at a table flanked by guards.',\n",
       "   'x': 349.390625,\n",
       "   'y': 3964,\n",
       "   'width': 516.703125,\n",
       "   'height': 0}],\n",
       " [],\n",
       " [],\n",
       " [],\n",
       " [{'src': 'https://static01.nyt.com/images/2023/02/01/multimedia/01brady-assess-glpb/01brady-assess-glpb-threeByTwoMediumAt2X.jpg?format=pjpg&quality=75&auto=webp&disable=upscale',\n",
       "   'alt': 'Tom Brady holds a football near his chest as he looks to pass to an open receiver. Buccaneers teammates block Packers defenders in front of him.',\n",
       "   'x': 352.234375,\n",
       "   'y': 4380.859375,\n",
       "   'width': 513.859375,\n",
       "   'height': 0}],\n",
       " [{'src': 'https://static01.nyt.com/images/2023/02/01/multimedia/01-zambia-safari-04-hlbg/01-zambia-safari-04-hlbg-threeByTwoMediumAt2X.jpg?format=pjpg&quality=75&auto=webp&disable=upscale',\n",
       "   'alt': 'A lone hippopotamus grazes in the center of the photograph. It stands on a muddy bank, with a wall of greenery behind it, beneath a cloud-filled sky. ',\n",
       "   'x': 907.09375,\n",
       "   'y': 529.59375,\n",
       "   'width': 328.90625,\n",
       "   'height': 219.265625}],\n",
       " [{'src': 'https://static01.nyt.com/images/2023/02/01/multimedia/30GRAMMYS-RAITT-01-wlvb/30GRAMMYS-RAITT-01-wlvb-threeByTwoSmallAt2X.jpg?format=pjpg&quality=75&auto=webp&disable=upscale',\n",
       "   'alt': 'Bonnie Raitt, wearing a black buttoned shirt and black pants, stands in a doorway with the lush greenery of a garden behind her.',\n",
       "   'x': 907.09375,\n",
       "   'y': 926.34375,\n",
       "   'width': 143.953125,\n",
       "   'height': 95.96875}],\n",
       " [{'src': 'https://static01.nyt.com/images/2023/01/27/multimedia/quitting-assessments-illo-03/quitting-assessments-illo-03-threeByTwoSmallAt2X.png?format=pjpg&quality=75&auto=webp&disable=upscale',\n",
       "   'alt': 'Illustration of a stack of corporate employee assessment forms with a happy face, neutral face and sad face on them. The stack sits atop a group of office workers who are being flattened by the stack. ',\n",
       "   'x': 1092.046875,\n",
       "   'y': 926.34375,\n",
       "   'width': 143.953125,\n",
       "   'height': 95.96875}],\n",
       " [],\n",
       " [{'src': 'https://static01.nyt.com/images/2018/04/02/opinion/thomas-b-edsall/thomas-b-edsall-thumbLarge-v2.png?format=pjpg&quality=75&auto=webp&disable=upscale',\n",
       "   'alt': 'Thomas B. Edsall',\n",
       "   'x': 1196,\n",
       "   'y': 1242.125,\n",
       "   'width': 40,\n",
       "   'height': 40}],\n",
       " [{'src': 'https://static01.nyt.com/images/2023/02/02/opinion/02verhovek2/02verhovek2-square320.jpg?format=pjpg&quality=75&auto=webp&disable=upscale',\n",
       "   'alt': 'Front of a 747 jumbo jet.',\n",
       "   'x': 1087.546875,\n",
       "   'y': 1364.46875,\n",
       "   'width': 148.453125,\n",
       "   'height': 148.453125}],\n",
       " [{'src': 'https://static01.nyt.com/images/2021/11/09/opinion/Jessica_Grose_newsletter/Jessica_Grose_newsletter-thumbLarge.png?format=pjpg&quality=75&auto=webp&disable=upscale',\n",
       "   'alt': 'Jessica Grose',\n",
       "   'x': 1196,\n",
       "   'y': 1553.921875,\n",
       "   'width': 40,\n",
       "   'height': 40}],\n",
       " [{'src': 'https://static01.nyt.com/images/2018/04/03/opinion/ross-douthat/ross-douthat-thumbLarge-v2.png?format=pjpg&quality=75&auto=webp&disable=upscale',\n",
       "   'alt': 'Ross Douthat',\n",
       "   'x': 1196,\n",
       "   'y': 1676.265625,\n",
       "   'width': 40,\n",
       "   'height': 40}],\n",
       " [{'src': 'https://static01.nyt.com/images/2023/02/01/opinion/01gerstell/01gerstell-square320.jpg?format=pjpg&quality=75&auto=webp&disable=upscale',\n",
       "   'alt': '',\n",
       "   'x': 1087.546875,\n",
       "   'y': 1798.609375,\n",
       "   'width': 148.453125,\n",
       "   'height': 148.453125}],\n",
       " [{'src': 'https://static01.nyt.com/images/2022/02/27/opinion/Peter_Coy_Final/Peter_Coy_Final-thumbLarge.png?format=pjpg&quality=75&auto=webp&disable=upscale',\n",
       "   'alt': 'Peter Coy',\n",
       "   'x': 1196,\n",
       "   'y': 1988.0625,\n",
       "   'width': 40,\n",
       "   'height': 40}],\n",
       " [],\n",
       " [],\n",
       " [],\n",
       " [],\n",
       " [],\n",
       " [],\n",
       " [],\n",
       " [],\n",
       " [],\n",
       " [],\n",
       " [{'src': 'https://static01.nyt.com/images/2023/02/05/multimedia/05cronenberg-ratings-01-jphm/05cronenberg-ratings-01-jphm-mediumSquare149.jpg?quality=75&auto=webp',\n",
       "   'alt': 'A portrait of Ethan Noble shows him in a dark jacket and blue-checked, open-necked shirt. He’s standing outside an abandoned movie theater in New Jersey and looking at the camera with a neutral expression.',\n",
       "   'x': 3476.34375,\n",
       "   'y': 2676.1875,\n",
       "   'width': 91,\n",
       "   'height': 91}],\n",
       " [{'src': 'https://static01.nyt.com/images/2023/02/05/multimedia/05cronenberg-ratings-01-jphm/05cronenberg-ratings-01-jphm-mediumSquare149.jpg?quality=75&auto=webp',\n",
       "   'alt': 'A portrait of Ethan Noble shows him in a dark jacket and blue-checked, open-necked shirt. He’s standing outside an abandoned movie theater in New Jersey and looking at the camera with a neutral expression.',\n",
       "   'x': 3476.34375,\n",
       "   'y': 2676.1875,\n",
       "   'width': 91,\n",
       "   'height': 91}],\n",
       " [{'src': 'https://static01.nyt.com/images/2023/01/25/multimedia/infinity1-mgvl/infinity1-mgvl-mediumSquare149.jpg?quality=75&auto=webp',\n",
       "   'alt': 'Two people sitting in the back of a convertible, wearing disfigured masks.',\n",
       "   'x': 3476.34375,\n",
       "   'y': 2807.1875,\n",
       "   'width': 91,\n",
       "   'height': 91}],\n",
       " [{'src': 'https://static01.nyt.com/images/2023/01/25/multimedia/infinity1-mgvl/infinity1-mgvl-mediumSquare149.jpg?quality=75&auto=webp',\n",
       "   'alt': 'Two people sitting in the back of a convertible, wearing disfigured masks.',\n",
       "   'x': 3476.34375,\n",
       "   'y': 2807.1875,\n",
       "   'width': 91,\n",
       "   'height': 91}],\n",
       " [],\n",
       " [{'src': 'https://static01.nyt.com/images/2019/11/08/briefing/xxbriefingicons-slide-6F6C/xxbriefingicons-slide-6F6C-square320.jpg?format=pjpg&quality=75&auto=webp&disable=upscale',\n",
       "   'alt': '',\n",
       "   'x': 224.140625,\n",
       "   'y': 5174.078125,\n",
       "   'width': 87.109375,\n",
       "   'height': 0}],\n",
       " [{'src': 'https://static01.nyt.com/images/2023/01/30/multimedia/30up-seuss1-lzgw/30up-seuss1-lzgw-square320.jpg?format=pjpg&quality=75&auto=webp&disable=upscale',\n",
       "   'alt': '“On Beyond Zebra!” is among the Dr. Seuss books that will no longer be published, a fact many Republicans are aware of. ',\n",
       "   'x': 532.390625,\n",
       "   'y': 5174.078125,\n",
       "   'width': 87.109375,\n",
       "   'height': 0}],\n",
       " [{'src': 'https://static01.nyt.com/images/2023/01/30/multimedia/as-roasted-cauliflower-with-parmesan1-mbvg-copy/as-roasted-cauliflower-with-parmesan1-mbvg-square320-v2.jpg?format=pjpg&quality=75&auto=webp&disable=upscale',\n",
       "   'alt': '',\n",
       "   'x': 840.640625,\n",
       "   'y': 5174.078125,\n",
       "   'width': 87.109375,\n",
       "   'height': 0}],\n",
       " [{'src': 'https://static01.nyt.com/images/2021/07/15/theater/oakImage-1626374852380/oakImage-1626374852380-square320-v2.jpg?format=pjpg&quality=75&auto=webp&disable=upscale',\n",
       "   'alt': '',\n",
       "   'x': 1148.890625,\n",
       "   'y': 5174.078125,\n",
       "   'width': 87.109375,\n",
       "   'height': 0}],\n",
       " [],\n",
       " [],\n",
       " [],\n",
       " [{'src': 'https://static01.nyt.com/images/2023/01/31/multimedia/31msg-permit-hwkg/31msg-permit-hwkg-threeByTwoMediumAt2X.jpg?format=pjpg&quality=75&auto=webp&disable=upscale',\n",
       "   'alt': 'Passers-by outside the Seventh Avenue entrance of Madison Square Garden on a warm day.',\n",
       "   'x': 352.234375,\n",
       "   'y': 5381.140625,\n",
       "   'width': 513.859375,\n",
       "   'height': 0}],\n",
       " [],\n",
       " [],\n",
       " [],\n",
       " [],\n",
       " [],\n",
       " [],\n",
       " [],\n",
       " [{'src': 'https://static01.nyt.com/newsgraphics/2021/coronavirus-tracking/images/svg/timeseries/USA/USA-cases-two-weeks.svg',\n",
       "   'alt': '',\n",
       "   'x': 303.328125,\n",
       "   'y': 6010.390625,\n",
       "   'width': 30,\n",
       "   'height': 19},\n",
       "  {'src': 'https://static01.nyt.com/newsgraphics/2021/coronavirus-tracking/images/svg/timeseries/USA/USA-deaths-two-weeks.svg',\n",
       "   'alt': '',\n",
       "   'x': 303.328125,\n",
       "   'y': 6042.390625,\n",
       "   'width': 30,\n",
       "   'height': 19}],\n",
       " [{'src': 'https://static01.nyt.com/newsgraphics/2021/coronavirus-tracking/images/svg/timeseries/NYT-World/NYT-World-cases-two-weeks.svg',\n",
       "   'alt': '',\n",
       "   'x': 509.34375,\n",
       "   'y': 6010.390625,\n",
       "   'width': 30,\n",
       "   'height': 19},\n",
       "  {'src': 'https://static01.nyt.com/newsgraphics/2021/coronavirus-tracking/images/svg/timeseries/NYT-World/NYT-World-deaths-two-weeks.svg',\n",
       "   'alt': '',\n",
       "   'x': 509.34375,\n",
       "   'y': 6042.390625,\n",
       "   'width': 30,\n",
       "   'height': 19}],\n",
       " [{'src': 'https://static01.nyt.com/newsgraphics/2021/coronavirus-tracking/images/maps/USA/hotspots-state.png',\n",
       "   'alt': 'US coronavirus cases',\n",
       "   'x': 595.65625,\n",
       "   'y': 5987.578125,\n",
       "   'width': 0,\n",
       "   'height': 0}],\n",
       " [{'src': 'https://static01.nytimes.com/newsgraphics/2020/12/09/vaccine-distribution-tracker/assets/scoop-vaccine-distribution-tracker-threeByTwoSmallAt2X.png',\n",
       "   'alt': 'Where states are reporting vaccines given',\n",
       "   'x': 748.953125,\n",
       "   'y': 5983.078125,\n",
       "   'width': 0,\n",
       "   'height': 0}],\n",
       " [{'src': 'https://static01.nyt.com/newsgraphics/2021/coronavirus-tracking/images/maps/NYT-World/hotspots.png',\n",
       "   'alt': 'Global coronavirus cases',\n",
       "   'x': 891.84375,\n",
       "   'y': 5987.578125,\n",
       "   'width': 150.59375,\n",
       "   'height': 75}],\n",
       " [],\n",
       " [],\n",
       " [],\n",
       " [],\n",
       " [{'src': 'https://static01.nyt.com/images/2023/01/31/multimedia/31ASKWELL-MELATONIN-HP-PROMO/31ASKWELL-MELATONIN-HP-PROMO-threeByTwoSmallAt2X-v2.jpg?format=pjpg&quality=75&auto=webp&disable=upscale',\n",
       "   'alt': 'A bottle of wine, a glass half full of wine, a gray sleep mask and two pills on a table.',\n",
       "   'x': 44,\n",
       "   'y': 6510.578125,\n",
       "   'width': 205.390625,\n",
       "   'height': 0}],\n",
       " [{'src': 'https://static01.nyt.com/images/2022/12/06/well/24Well-Male-Friendship/24Well-Male-Friendship-threeByTwoSmallAt2X.jpg?format=pjpg&quality=75&auto=webp&disable=upscale',\n",
       "   'alt': 'An illustration of two men with their backs turned, standing far apart. Their shadows seem to be talking to each other.',\n",
       "   'x': 290.390625,\n",
       "   'y': 6510.578125,\n",
       "   'width': 205.390625,\n",
       "   'height': 0}],\n",
       " [{'src': 'https://static01.nyt.com/images/2021/01/25/well/oowell-bruxism/oowell-bruxism-threeByTwoSmallAt2X.jpg?format=pjpg&quality=75&auto=webp&disable=upscale',\n",
       "   'alt': '',\n",
       "   'x': 536.78125,\n",
       "   'y': 6510.578125,\n",
       "   'width': 205.390625,\n",
       "   'height': 0}],\n",
       " [{'src': 'https://static01.nyt.com/images/2023/01/24/well/10Well-Clutter-image/10Well-Clutter-image-threeByTwoSmallAt2X.jpg?format=pjpg&quality=75&auto=webp&disable=upscale',\n",
       "   'alt': 'A still life photo of a marble surface covered in clutter and mess such as leftover food and drinks, crumpled papers, electronics wires and more. ',\n",
       "   'x': 783.171875,\n",
       "   'y': 6510.578125,\n",
       "   'width': 205.390625,\n",
       "   'height': 0}],\n",
       " [{'src': 'https://static01.nyt.com/images/2022/08/31/multimedia/24WELL-CONNECT-TEEN3/24WELL-CONNECT-TEEN3-threeByTwoSmallAt2X.jpg?format=pjpg&quality=75&auto=webp&disable=upscale',\n",
       "   'alt': 'When the pandemic began, Antoinette Taft felt unable to connect with her son Noah.',\n",
       "   'x': 1029.5625,\n",
       "   'y': 6510.578125,\n",
       "   'width': 205.390625,\n",
       "   'height': 0}],\n",
       " [{'src': 'https://static01.nyt.com/images/2023/01/31/multimedia/31COPFASHION-sub-khqt/31COPFASHION-sub-khqt-threeByTwoMediumAt2X.jpg?format=pjpg&quality=75&auto=webp&disable=upscale',\n",
       "   'alt': 'Ganni’s spring/summer 2023 fashion show. The brand is one of more than two dozen that must meet strict sustainability standards to participate in Copenhagen Fashion Week. ',\n",
       "   'x': 44,\n",
       "   'y': 6810.0625,\n",
       "   'width': 822.09375,\n",
       "   'height': 0}],\n",
       " [{'src': 'https://static01.nyt.com/images/2023/02/02/multimedia/01rock-hall-hvcm/01rock-hall-hvcm-threeByTwoSmallAt2X.jpg?format=pjpg&quality=75&auto=webp&disable=upscale',\n",
       "   'alt': 'Onstage photos of Missy Elliott holding a microphone, and Sheryl Crow and Willie Nelson, both playing guitars.',\n",
       "   'x': 907.09375,\n",
       "   'y': 6810.0625,\n",
       "   'width': 143.953125,\n",
       "   'height': 0}],\n",
       " [{'src': 'https://static01.nyt.com/images/2023/02/01/multimedia/01nba-lebron-keepingscore-1-htwv/01nba-lebron-keepingscore-1-htwv-threeByTwoSmallAt2X.jpg?format=pjpg&quality=75&auto=webp&disable=upscale',\n",
       "   'alt': 'A close-up of LeBron James during a game.',\n",
       "   'x': 1092.046875,\n",
       "   'y': 6810.0625,\n",
       "   'width': 143.953125,\n",
       "   'height': 0}],\n",
       " [{'src': 'https://static01.nyt.com/images/2023/02/02/multimedia/01beyonce-item-lmcz/01beyonce-item-lmcz-threeByTwoSmallAt2X.jpg?format=pjpg&quality=75&auto=webp&disable=upscale',\n",
       "   'alt': 'Beyoncé smiles widely at the Grammys podium, wearing a black dress with a plunging neckline.',\n",
       "   'x': 907.09375,\n",
       "   'y': 7090.09375,\n",
       "   'width': 143.953125,\n",
       "   'height': 0}],\n",
       " [{'src': 'https://static01.nyt.com/images/2023/02/02/multimedia/01purlie-hkwf/01purlie-hkwf-threeByTwoSmallAt2X-v2.jpg?format=pjpg&quality=75&auto=webp&disable=upscale',\n",
       "   'alt': 'A portrait of Leslie Odom Jr., who is wearing pearls and a very pale green-blue suit.',\n",
       "   'x': 1092.046875,\n",
       "   'y': 7090.09375,\n",
       "   'width': 143.953125,\n",
       "   'height': 0}],\n",
       " [],\n",
       " [],\n",
       " [],\n",
       " [{'src': 'https://static01.nyt.com/images/2023/02/01/multimedia/tamc-020123-twolves-nba-security-A1/tamc-020123-twolves-nba-security-A1-threeByTwoSmallAt2X-v2.jpg?format=pjpg&quality=75&auto=webp&disable=upscale',\n",
       "   'alt': '',\n",
       "   'x': 352.234375,\n",
       "   'y': 7597.5625,\n",
       "   'width': 267.25,\n",
       "   'height': 0}],\n",
       " [],\n",
       " [],\n",
       " [],\n",
       " [],\n",
       " [],\n",
       " [],\n",
       " [],\n",
       " [{'src': 'https://static01.nyt.com/images/2022/03/02/crosswords/alpha-wordle-icon-new/alpha-wordle-icon-new-square320-v3.png?format=pjpg&quality=75&auto=webp&disable=upscale',\n",
       "   'alt': '',\n",
       "   'x': 346.53125,\n",
       "   'y': 8999.78125,\n",
       "   'width': 88.015625,\n",
       "   'height': 0}],\n",
       " [{'src': 'https://static01.nyt.com/images/2022/08/25/crosswords/wordle-top/wordle-top-square320.jpg?format=pjpg&quality=75&auto=webp&disable=upscale',\n",
       "   'alt': 'Wordle gives players six tries to guess the daily word. Only a small number of people go in with a plan.',\n",
       "   'x': 778.078125,\n",
       "   'y': 8999.78125,\n",
       "   'width': 88.015625,\n",
       "   'height': 0}],\n",
       " [{'src': 'https://static01.nyt.com/images/2019/04/18/homepage/spelling-bee-logo-bulletin/spelling-bee-logo-bulletin-square320-v5.png?format=pjpg&quality=75&auto=webp&disable=upscale',\n",
       "   'alt': '',\n",
       "   'x': 1148.359375,\n",
       "   'y': 8999.78125,\n",
       "   'width': 87.640625,\n",
       "   'height': 0}],\n",
       " [{'src': 'https://static01.nyt.com/images/2020/03/23/crosswords/crossword-logo-nytgames-hires/crossword-logo-nytgames-hires-square320-v3.png?format=pjpg&quality=75&auto=webp&disable=upscale',\n",
       "   'alt': '',\n",
       "   'x': 346.53125,\n",
       "   'y': 9128.796875,\n",
       "   'width': 88.015625,\n",
       "   'height': 0}],\n",
       " [{'src': 'https://static01.nyt.com/images/2021/05/27/multimedia/alpha-letterboxed-promo-1622145789727/alpha-letterboxed-promo-1622145789727-square320.png?format=pjpg&quality=75&auto=webp&disable=upscale',\n",
       "   'alt': '',\n",
       "   'x': 778.078125,\n",
       "   'y': 9128.796875,\n",
       "   'width': 88.015625,\n",
       "   'height': 0}],\n",
       " [{'src': 'https://static01.nyt.com/images/2020/03/23/crosswords/tiles-logo-nytgames-hi-res/tiles-logo-nytgames-hi-res-square320-v4.png?format=pjpg&quality=75&auto=webp&disable=upscale',\n",
       "   'alt': '',\n",
       "   'x': 1148.359375,\n",
       "   'y': 9128.796875,\n",
       "   'width': 87.640625,\n",
       "   'height': 0}],\n",
       " [],\n",
       " [],\n",
       " [],\n",
       " [],\n",
       " [],\n",
       " [],\n",
       " [],\n",
       " [],\n",
       " [],\n",
       " [],\n",
       " [],\n",
       " [],\n",
       " [],\n",
       " [],\n",
       " [],\n",
       " [],\n",
       " [],\n",
       " [],\n",
       " []]"
      ]
     },
     "execution_count": 912,
     "metadata": {},
     "output_type": "execute_result"
    }
   ],
   "source": [
    "await page.evaluate('''a_top_nodes.map(function(a) {\n",
    "    return Array.from(a.querySelectorAll('img')).map(function(img){\n",
    "        var img_bb = img.getBoundingClientRect()\n",
    "        return {\n",
    "        'src': img.src, \n",
    "        'alt': img.alt,\n",
    "        'x': img_bb['x'],\n",
    "        'y': img_bb['y'],\n",
    "        'width': img_bb['width'],\n",
    "        'height': img_bb['height']        \n",
    "        }\n",
    "    })\n",
    "} )''')"
   ]
  },
  {
   "cell_type": "code",
   "execution_count": 799,
   "id": "43ea75de",
   "metadata": {},
   "outputs": [],
   "source": [
    "import sys"
   ]
  },
  {
   "cell_type": "code",
   "execution_count": 800,
   "id": "794f65c0",
   "metadata": {},
   "outputs": [],
   "source": [
    "sys.path.insert(0,'../bin/news-homepages/newshomepages/')"
   ]
  },
  {
   "cell_type": "code",
   "execution_count": 802,
   "id": "744d94b6",
   "metadata": {},
   "outputs": [],
   "source": [
    "import hyperlinks_with_bounding_boxes as bb"
   ]
  },
  {
   "cell_type": "code",
   "execution_count": 804,
   "id": "7d6a8689",
   "metadata": {},
   "outputs": [],
   "source": [
    "from importlib import reload"
   ]
  },
  {
   "cell_type": "code",
   "execution_count": 861,
   "id": "a16229aa",
   "metadata": {},
   "outputs": [],
   "source": [
    "psl_js = open('../bin/news-homepages/newshomepages/bin/js/psl.min.js').read()\n",
    "util_js = open('../bin/news-homepages/newshomepages/bin/js/utils.js').read()"
   ]
  },
  {
   "cell_type": "code",
   "execution_count": 862,
   "id": "628c3497",
   "metadata": {},
   "outputs": [
    {
     "data": {
      "text/plain": [
       "[None]"
      ]
     },
     "execution_count": 862,
     "metadata": {},
     "output_type": "execute_result"
    }
   ],
   "source": [
    "await page.evaluate(psl_js)\n",
    "await page.evaluate(util_js)"
   ]
  },
  {
   "cell_type": "code",
   "execution_count": 897,
   "id": "357e84c0",
   "metadata": {},
   "outputs": [
    {
     "data": {
      "text/plain": [
       "<module 'hyperlinks_with_bounding_boxes' from '/Users/alex/Projects/usc-research/newsworthiness/notebooks/../bin/news-homepages/newshomepages/hyperlinks_with_bounding_boxes.py'>"
      ]
     },
     "execution_count": 897,
     "metadata": {},
     "output_type": "execute_result"
    }
   ],
   "source": [
    "reload(bb)"
   ]
  },
  {
   "cell_type": "code",
   "execution_count": 857,
   "id": "f01b83b8",
   "metadata": {},
   "outputs": [
    {
     "data": {
      "text/plain": [
       "True"
      ]
     },
     "execution_count": 857,
     "metadata": {},
     "output_type": "execute_result"
    }
   ],
   "source": [
    "await page.evaluate('get_url_parts(\"https://nytimes.com/hello-there-there-there-there-there\")')"
   ]
  },
  {
   "cell_type": "code",
   "execution_count": 864,
   "id": "f8a738af",
   "metadata": {},
   "outputs": [
    {
     "name": "stdout",
     "output_type": "stream",
     "text": [
      "\n",
      "    var as = document.querySelectorAll('a')\n",
      "    as = Array.from(as)\n",
      "            .filter(function(a) { return a.href !== ''}).filter(function(a){return a.href !== undefined; })\n",
      "            .map(function(a) {return {'node': a, 'href': a.href, 'is_long': get_url_parts(a.href) }} )\n",
      "    \n",
      "    var a_counts = {}\n",
      "    as.forEach(function(a, i){\n",
      "        a_counts[a.href] = a_counts[a.href] || []\n",
      "        a_counts[a.href].push(i)\n",
      "    })\n",
      "    \n",
      "    var a_top_nodes = as.map(function(a, i){ \n",
      "        return get_highest_singular_parent(i, as)\n",
      "    })\n",
      "\n"
     ]
    }
   ],
   "source": [
    "print(bb.get_link_divs_js)"
   ]
  },
  {
   "cell_type": "code",
   "execution_count": 867,
   "id": "ea377855",
   "metadata": {},
   "outputs": [],
   "source": [
    "await page.evaluate(bb.get_link_divs_js)"
   ]
  },
  {
   "cell_type": "code",
   "execution_count": 870,
   "id": "f1150e53",
   "metadata": {},
   "outputs": [],
   "source": [
    "await page.evaluate(bb.js_to_spotcheck)"
   ]
  },
  {
   "cell_type": "code",
   "execution_count": 898,
   "id": "312a5cda",
   "metadata": {},
   "outputs": [],
   "source": [
    "t = await bb.get_bounding_box_info(page)"
   ]
  },
  {
   "cell_type": "code",
   "execution_count": null,
   "id": "2da16000",
   "metadata": {},
   "outputs": [],
   "source": []
  },
  {
   "cell_type": "code",
   "execution_count": null,
   "id": "1d9757f0",
   "metadata": {},
   "outputs": [],
   "source": []
  },
  {
   "cell_type": "code",
   "execution_count": null,
   "id": "f8897055",
   "metadata": {},
   "outputs": [],
   "source": []
  }
 ],
 "metadata": {
  "hide_input": false,
  "kernelspec": {
   "display_name": "Python 3 (ipykernel)",
   "language": "python",
   "name": "python3"
  },
  "language_info": {
   "codemirror_mode": {
    "name": "ipython",
    "version": 3
   },
   "file_extension": ".py",
   "mimetype": "text/x-python",
   "name": "python",
   "nbconvert_exporter": "python",
   "pygments_lexer": "ipython3",
   "version": "3.10.9"
  }
 },
 "nbformat": 4,
 "nbformat_minor": 5
}
