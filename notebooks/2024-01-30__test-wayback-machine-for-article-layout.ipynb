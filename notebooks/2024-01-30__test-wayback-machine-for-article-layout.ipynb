{
 "cells": [
  {
   "cell_type": "markdown",
   "id": "a69ad16d",
   "metadata": {},
   "source": [
    "# See how often WaybackMachine Collects these homepages"
   ]
  },
  {
   "cell_type": "code",
   "execution_count": 35,
   "id": "6ab6c95b",
   "metadata": {},
   "outputs": [],
   "source": [
    "from tqdm.auto import tqdm"
   ]
  },
  {
   "cell_type": "code",
   "execution_count": 37,
   "id": "c311da60",
   "metadata": {},
   "outputs": [],
   "source": [
    "import pandas as pd \n",
    "from subprocess import Popen, PIPE, check_call\n",
    "\n",
    "sites_df = pd.read_csv('../bin/news-homepages/newshomepages/sources/sites.csv')"
   ]
  },
  {
   "cell_type": "code",
   "execution_count": null,
   "id": "29f320f1",
   "metadata": {
    "scrolled": true
   },
   "outputs": [],
   "source": [
    "all_output = []\n",
    "for url in tqdm(sites_df['url']):\n",
    "    p = Popen([\n",
    "            \"waybackpack\", url,\n",
    "            \"--from-date\",\n",
    "            '20221201',\n",
    "            \"--to-date\",\n",
    "            '20221202',\n",
    "            \"--list\"\n",
    "    ], stdin=PIPE, stdout=PIPE, stderr=PIPE)\n",
    "    output, err = p.communicate()\n",
    "    \n",
    "    all_output.append({'site': url, 'output': output.decode(), 'err': err.decode()})"
   ]
  },
  {
   "cell_type": "code",
   "execution_count": 52,
   "id": "a3ac68ae",
   "metadata": {},
   "outputs": [],
   "source": [
    "all_output_df = pd.DataFrame(all_output)"
   ]
  },
  {
   "cell_type": "code",
   "execution_count": 57,
   "id": "70b753e1",
   "metadata": {},
   "outputs": [
    {
     "data": {
      "text/plain": [
       "(49,)"
      ]
     },
     "execution_count": 57,
     "metadata": {},
     "output_type": "execute_result"
    }
   ],
   "source": [
    "all_output_df['err'].loc[lambda df: df != ''].shape "
   ]
  },
  {
   "cell_type": "code",
   "execution_count": 60,
   "id": "2a4d6fe4",
   "metadata": {},
   "outputs": [],
   "source": [
    "all_output_df = all_output_df.loc[lambda df: df['err'] == '']"
   ]
  },
  {
   "cell_type": "code",
   "execution_count": 70,
   "id": "dbd32f17",
   "metadata": {},
   "outputs": [],
   "source": [
    "import re\n",
    "from datetime import datetime"
   ]
  },
  {
   "cell_type": "code",
   "execution_count": null,
   "id": "e14e2ca7",
   "metadata": {},
   "outputs": [],
   "source": [
    "all_output_df['page_snapshot_times'] = (all_output_df['output']\n",
    " .apply(lambda x: re.findall('\\d{14}', x))\n",
    " .apply(lambda x: list(map(lambda y: datetime.strptime(y, '%Y%m%d%H%M%S'), x)))\n",
    ")"
   ]
  },
  {
   "cell_type": "code",
   "execution_count": 97,
   "id": "53262795",
   "metadata": {},
   "outputs": [
    {
     "data": {
      "text/plain": [
       "<AxesSubplot: >"
      ]
     },
     "execution_count": 97,
     "metadata": {},
     "output_type": "execute_result"
    },
    {
     "data": {
      "image/png": "[encoded data removed]",
      "text/plain": [
       "<Figure size 400x200 with 1 Axes>"
      ]
     },
     "metadata": {},
     "output_type": "display_data"
    }
   ],
   "source": [
    "all_output_df['page_snapshot_times'].str.len().hist(bins=50, figsize=(4,2 ), range=(0, 100))"
   ]
  },
  {
   "cell_type": "code",
   "execution_count": 112,
   "id": "33b340b9",
   "metadata": {},
   "outputs": [
    {
     "data": {
      "text/plain": [
       "0     2\n",
       "1     1\n",
       "2     4\n",
       "3    18\n",
       "4    18\n",
       "5    16\n",
       "6    16\n",
       "7    15\n",
       "8    10\n",
       "9    11\n",
       "Name: page_snapshot_times, dtype: int64"
      ]
     },
     "execution_count": 112,
     "metadata": {},
     "output_type": "execute_result"
    }
   ],
   "source": [
    "all_output_df['page_snapshot_times'].str.len().value_counts().sort_index().iloc[:10]"
   ]
  },
  {
   "cell_type": "code",
   "execution_count": 98,
   "id": "06bb7e12",
   "metadata": {
    "scrolled": true
   },
   "outputs": [
    {
     "data": {
      "text/html": [
       "<div>\n",
       "<style scoped>\n",
       "    .dataframe tbody tr th:only-of-type {\n",
       "        vertical-align: middle;\n",
       "    }\n",
       "\n",
       "    .dataframe tbody tr th {\n",
       "        vertical-align: top;\n",
       "    }\n",
       "\n",
       "    .dataframe thead th {\n",
       "        text-align: right;\n",
       "    }\n",
       "</style>\n",
       "<table border=\"1\" class=\"dataframe\">\n",
       "  <thead>\n",
       "    <tr style=\"text-align: right;\">\n",
       "      <th></th>\n",
       "      <th>site</th>\n",
       "      <th>output</th>\n",
       "      <th>err</th>\n",
       "      <th>page_snapshot_times</th>\n",
       "    </tr>\n",
       "  </thead>\n",
       "  <tbody>\n",
       "    <tr>\n",
       "      <th>5</th>\n",
       "      <td>https://baahrakhari.com/</td>\n",
       "      <td>https://web.archive.org/web/20221201022046/htt...</td>\n",
       "      <td></td>\n",
       "      <td>[2022-12-01 02:20:46, 2022-12-01 19:58:24, 202...</td>\n",
       "    </tr>\n",
       "    <tr>\n",
       "      <th>7</th>\n",
       "      <td>http://fourteeneastmag.com/</td>\n",
       "      <td>https://web.archive.org/web/20221201100427/htt...</td>\n",
       "      <td></td>\n",
       "      <td>[2022-12-01 10:04:27, 2022-12-01 22:03:12]</td>\n",
       "    </tr>\n",
       "    <tr>\n",
       "      <th>30</th>\n",
       "      <td>https://www.airlinereporter.com/</td>\n",
       "      <td>https://web.archive.org/web/20221201003605/htt...</td>\n",
       "      <td></td>\n",
       "      <td>[2022-12-01 00:36:05, 2022-12-02 22:03:31]</td>\n",
       "    </tr>\n",
       "    <tr>\n",
       "      <th>32</th>\n",
       "      <td>https://www.dallasnews.com/espanol/al-dia/</td>\n",
       "      <td>https://web.archive.org/web/20221201100427/htt...</td>\n",
       "      <td></td>\n",
       "      <td>[2022-12-01 10:04:27, 2022-12-01 22:04:06, 202...</td>\n",
       "    </tr>\n",
       "    <tr>\n",
       "      <th>34</th>\n",
       "      <td>https://almapreta.com/</td>\n",
       "      <td>https://web.archive.org/web/20221201125643/htt...</td>\n",
       "      <td></td>\n",
       "      <td>[2022-12-01 12:56:43, 2022-12-01 22:03:11, 202...</td>\n",
       "    </tr>\n",
       "    <tr>\n",
       "      <th>57</th>\n",
       "      <td>https://www.binjonline.org/</td>\n",
       "      <td>https://web.archive.org/web/20221201100922/htt...</td>\n",
       "      <td></td>\n",
       "      <td>[2022-12-01 10:09:22, 2022-12-01 22:08:51, 202...</td>\n",
       "    </tr>\n",
       "    <tr>\n",
       "      <th>71</th>\n",
       "      <td>https://blackbygod.org/</td>\n",
       "      <td>https://web.archive.org/web/20221201100848/htt...</td>\n",
       "      <td></td>\n",
       "      <td>[2022-12-01 10:08:48, 2022-12-01 22:09:08, 202...</td>\n",
       "    </tr>\n",
       "    <tr>\n",
       "      <th>84</th>\n",
       "      <td>https://breckenridgetexan.com/</td>\n",
       "      <td>https://web.archive.org/web/20221201101103/htt...</td>\n",
       "      <td></td>\n",
       "      <td>[2022-12-01 10:11:03, 2022-12-02 10:10:32, 202...</td>\n",
       "    </tr>\n",
       "    <tr>\n",
       "      <th>101</th>\n",
       "      <td>https://cnsmaryland.org/</td>\n",
       "      <td>https://web.archive.org/web/20221201015235/htt...</td>\n",
       "      <td></td>\n",
       "      <td>[2022-12-01 01:52:35, 2022-12-01 10:14:25, 202...</td>\n",
       "    </tr>\n",
       "    <tr>\n",
       "      <th>111</th>\n",
       "      <td>https://atlanta.capitalbnews.org/</td>\n",
       "      <td>https://web.archive.org/web/20221201082422/htt...</td>\n",
       "      <td></td>\n",
       "      <td>[2022-12-01 08:24:22, 2022-12-01 10:11:47, 202...</td>\n",
       "    </tr>\n",
       "    <tr>\n",
       "      <th>116</th>\n",
       "      <td>https://www.bayjournal.com/</td>\n",
       "      <td>https://web.archive.org/web/20221201103853/htt...</td>\n",
       "      <td></td>\n",
       "      <td>[2022-12-01 10:38:53, 2022-12-01 22:35:51, 202...</td>\n",
       "    </tr>\n",
       "    <tr>\n",
       "      <th>122</th>\n",
       "      <td>https://www.ciceroindependiente.com/</td>\n",
       "      <td>https://web.archive.org/web/20221201103929/htt...</td>\n",
       "      <td></td>\n",
       "      <td>[2022-12-01 10:39:29, 2022-12-01 22:36:00, 202...</td>\n",
       "    </tr>\n",
       "    <tr>\n",
       "      <th>151</th>\n",
       "      <td>https://decisiondeskhq.com/</td>\n",
       "      <td>https://web.archive.org/web/20221201103907/htt...</td>\n",
       "      <td></td>\n",
       "      <td>[2022-12-01 10:39:07, 2022-12-01 14:25:20, 202...</td>\n",
       "    </tr>\n",
       "    <tr>\n",
       "      <th>152</th>\n",
       "      <td>https://defector.com/</td>\n",
       "      <td>https://web.archive.org/web/20221201010831/htt...</td>\n",
       "      <td></td>\n",
       "      <td>[2022-12-01 01:08:31, 2022-12-02 09:17:51, 202...</td>\n",
       "    </tr>\n",
       "    <tr>\n",
       "      <th>156</th>\n",
       "      <td>https://denverite.com/</td>\n",
       "      <td>https://web.archive.org/web/20221201012751/htt...</td>\n",
       "      <td></td>\n",
       "      <td>[2022-12-01 01:27:51, 2022-12-01 10:42:45, 202...</td>\n",
       "    </tr>\n",
       "    <tr>\n",
       "      <th>172</th>\n",
       "      <td>https://edsource.org/</td>\n",
       "      <td>https://web.archive.org/web/20221201101040/htt...</td>\n",
       "      <td></td>\n",
       "      <td>[2022-12-01 10:10:40, 2022-12-01 10:44:02, 202...</td>\n",
       "    </tr>\n",
       "    <tr>\n",
       "      <th>182</th>\n",
       "      <td>https://eyethunews.co.za/</td>\n",
       "      <td>https://web.archive.org/web/20221201104341/htt...</td>\n",
       "      <td></td>\n",
       "      <td>[2022-12-01 10:43:41, 2022-12-02 13:33:38, 202...</td>\n",
       "    </tr>\n",
       "    <tr>\n",
       "      <th>190</th>\n",
       "      <td>https://fi2w.org/</td>\n",
       "      <td>https://web.archive.org/web/20221201055954/htt...</td>\n",
       "      <td></td>\n",
       "      <td>[2022-12-01 05:59:54, 2022-12-01 10:44:51, 202...</td>\n",
       "    </tr>\n",
       "    <tr>\n",
       "      <th>195</th>\n",
       "      <td>https://www.floridabulldog.org/</td>\n",
       "      <td>https://web.archive.org/web/20221201104433/htt...</td>\n",
       "      <td></td>\n",
       "      <td>[2022-12-01 10:44:33, 2022-12-01 22:42:47, 202...</td>\n",
       "    </tr>\n",
       "    <tr>\n",
       "      <th>243</th>\n",
       "      <td>https://infoamazonia.org/</td>\n",
       "      <td>https://web.archive.org/web/20221201083836/htt...</td>\n",
       "      <td></td>\n",
       "      <td>[2022-12-01 08:38:36, 2022-12-01 11:05:14, 202...</td>\n",
       "    </tr>\n",
       "    <tr>\n",
       "      <th>314</th>\n",
       "      <td>https://lokaantar.com/</td>\n",
       "      <td>https://web.archive.org/web/20221201111228/htt...</td>\n",
       "      <td></td>\n",
       "      <td>[2022-12-01 11:12:28, 2022-12-01 23:12:24, 202...</td>\n",
       "    </tr>\n",
       "    <tr>\n",
       "      <th>333</th>\n",
       "      <td>https://midnightsunak.com/</td>\n",
       "      <td>https://web.archive.org/web/20221201111436/htt...</td>\n",
       "      <td></td>\n",
       "      <td>[2022-12-01 11:14:36, 2022-12-01 23:13:39, 202...</td>\n",
       "    </tr>\n",
       "    <tr>\n",
       "      <th>336</th>\n",
       "      <td>https://perfectunion.us/</td>\n",
       "      <td>https://web.archive.org/web/20221201111448/htt...</td>\n",
       "      <td></td>\n",
       "      <td>[2022-12-01 11:14:48, 2022-12-01 18:21:59, 202...</td>\n",
       "    </tr>\n",
       "    <tr>\n",
       "      <th>361</th>\n",
       "      <td>https://www.newstatesman.com/uk</td>\n",
       "      <td>https://web.archive.org/web/20221202005902/htt...</td>\n",
       "      <td></td>\n",
       "      <td>[2022-12-02 00:59:02, 2022-12-02 22:56:31, 202...</td>\n",
       "    </tr>\n",
       "    <tr>\n",
       "      <th>367</th>\n",
       "      <td>https://metro.newschannelnebraska.com/</td>\n",
       "      <td>https://web.archive.org/web/20221201053952/htt...</td>\n",
       "      <td></td>\n",
       "      <td>[2022-12-01 05:39:52, 2022-12-01 11:34:35, 202...</td>\n",
       "    </tr>\n",
       "    <tr>\n",
       "      <th>390</th>\n",
       "      <td>https://oxpeckers.org/</td>\n",
       "      <td>https://web.archive.org/web/20221201113802/htt...</td>\n",
       "      <td></td>\n",
       "      <td>[2022-12-01 11:38:02, 2022-12-01 23:38:48, 202...</td>\n",
       "    </tr>\n",
       "    <tr>\n",
       "      <th>435</th>\n",
       "      <td>https://www.scsun-news.com/</td>\n",
       "      <td>\\n</td>\n",
       "      <td></td>\n",
       "      <td>[]</td>\n",
       "    </tr>\n",
       "    <tr>\n",
       "      <th>440</th>\n",
       "      <td>https://sjvwater.org/news/</td>\n",
       "      <td>https://web.archive.org/web/20221201114352/htt...</td>\n",
       "      <td></td>\n",
       "      <td>[2022-12-01 11:43:52, 2022-12-01 23:44:33, 202...</td>\n",
       "    </tr>\n",
       "    <tr>\n",
       "      <th>450</th>\n",
       "      <td>https://searchlightnm.org/</td>\n",
       "      <td>https://web.archive.org/web/20221201114241/htt...</td>\n",
       "      <td></td>\n",
       "      <td>[2022-12-01 11:42:41, 2022-12-01 23:43:00, 202...</td>\n",
       "    </tr>\n",
       "    <tr>\n",
       "      <th>511</th>\n",
       "      <td>https://theintercept.com/brasil/</td>\n",
       "      <td>https://web.archive.org/web/20221201000858/htt...</td>\n",
       "      <td></td>\n",
       "      <td>[2022-12-01 00:08:58, 2022-12-01 12:12:40, 202...</td>\n",
       "    </tr>\n",
       "    <tr>\n",
       "      <th>512</th>\n",
       "      <td>https://jaxtrib.org/</td>\n",
       "      <td>https://web.archive.org/web/20221201001014/htt...</td>\n",
       "      <td></td>\n",
       "      <td>[2022-12-01 00:10:14, 2022-12-01 12:13:15, 202...</td>\n",
       "    </tr>\n",
       "    <tr>\n",
       "      <th>513</th>\n",
       "      <td>https://theleftbench.com/</td>\n",
       "      <td>\\n</td>\n",
       "      <td></td>\n",
       "      <td>[]</td>\n",
       "    </tr>\n",
       "    <tr>\n",
       "      <th>525</th>\n",
       "      <td>https://thepublicsource.org/</td>\n",
       "      <td>https://web.archive.org/web/20221201001206/htt...</td>\n",
       "      <td></td>\n",
       "      <td>[2022-12-01 00:12:06, 2022-12-01 12:14:13, 202...</td>\n",
       "    </tr>\n",
       "    <tr>\n",
       "      <th>553</th>\n",
       "      <td>https://umdsbs.wordpress.com/</td>\n",
       "      <td>https://web.archive.org/web/20221201001452/htt...</td>\n",
       "      <td></td>\n",
       "      <td>[2022-12-01 00:14:52, 2022-12-01 12:19:31]</td>\n",
       "    </tr>\n",
       "    <tr>\n",
       "      <th>593</th>\n",
       "      <td>https://ycitynews.com/</td>\n",
       "      <td>https://web.archive.org/web/20221201010000/htt...</td>\n",
       "      <td></td>\n",
       "      <td>[2022-12-01 01:00:00, 2022-12-01 12:58:24, 202...</td>\n",
       "    </tr>\n",
       "    <tr>\n",
       "      <th>597</th>\n",
       "      <td>https://fiquemsabendo.substack.com/</td>\n",
       "      <td>https://web.archive.org/web/20221201004937/htt...</td>\n",
       "      <td></td>\n",
       "      <td>[2022-12-01 00:49:37, 2022-12-01 12:47:21, 202...</td>\n",
       "    </tr>\n",
       "    <tr>\n",
       "      <th>615</th>\n",
       "      <td>https://aamazonia.com.br/</td>\n",
       "      <td>https://web.archive.org/web/20221201042604/htt...</td>\n",
       "      <td></td>\n",
       "      <td>[2022-12-01 04:26:04]</td>\n",
       "    </tr>\n",
       "    <tr>\n",
       "      <th>621</th>\n",
       "      <td>https://arthasarokar.com/</td>\n",
       "      <td>https://web.archive.org/web/20221201005020/htt...</td>\n",
       "      <td></td>\n",
       "      <td>[2022-12-01 00:50:20, 2022-12-01 12:47:20, 202...</td>\n",
       "    </tr>\n",
       "    <tr>\n",
       "      <th>627</th>\n",
       "      <td>https://atlantaciviccircle.org/</td>\n",
       "      <td>https://web.archive.org/web/20221201005310/htt...</td>\n",
       "      <td></td>\n",
       "      <td>[2022-12-01 00:53:10, 2022-12-01 12:46:28, 202...</td>\n",
       "    </tr>\n",
       "    <tr>\n",
       "      <th>632</th>\n",
       "      <td>https://thebadgerproject.org/</td>\n",
       "      <td>https://web.archive.org/web/20221201005021/htt...</td>\n",
       "      <td></td>\n",
       "      <td>[2022-12-01 00:50:21, 2022-12-01 12:47:19]</td>\n",
       "    </tr>\n",
       "    <tr>\n",
       "      <th>633</th>\n",
       "      <td>https://baltimorebeat.com/</td>\n",
       "      <td>https://web.archive.org/web/20221201005000/htt...</td>\n",
       "      <td></td>\n",
       "      <td>[2022-12-01 00:50:00, 2022-12-01 12:47:07, 202...</td>\n",
       "    </tr>\n",
       "    <tr>\n",
       "      <th>634</th>\n",
       "      <td>https://baltimorefishbowl.com/</td>\n",
       "      <td>https://web.archive.org/web/20221201004938/htt...</td>\n",
       "      <td></td>\n",
       "      <td>[2022-12-01 00:49:38, 2022-12-01 12:48:10, 202...</td>\n",
       "    </tr>\n",
       "    <tr>\n",
       "      <th>651</th>\n",
       "      <td>https://bklyner.com/</td>\n",
       "      <td>https://web.archive.org/web/20221201051210/htt...</td>\n",
       "      <td></td>\n",
       "      <td>[2022-12-01 05:12:10, 2022-12-01 12:51:18, 202...</td>\n",
       "    </tr>\n",
       "  </tbody>\n",
       "</table>\n",
       "</div>"
      ],
      "text/plain": [
       "                                           site  \\\n",
       "5                      https://baahrakhari.com/   \n",
       "7                   http://fourteeneastmag.com/   \n",
       "30             https://www.airlinereporter.com/   \n",
       "32   https://www.dallasnews.com/espanol/al-dia/   \n",
       "34                       https://almapreta.com/   \n",
       "57                  https://www.binjonline.org/   \n",
       "71                      https://blackbygod.org/   \n",
       "84               https://breckenridgetexan.com/   \n",
       "101                    https://cnsmaryland.org/   \n",
       "111           https://atlanta.capitalbnews.org/   \n",
       "116                 https://www.bayjournal.com/   \n",
       "122        https://www.ciceroindependiente.com/   \n",
       "151                 https://decisiondeskhq.com/   \n",
       "152                       https://defector.com/   \n",
       "156                      https://denverite.com/   \n",
       "172                       https://edsource.org/   \n",
       "182                   https://eyethunews.co.za/   \n",
       "190                           https://fi2w.org/   \n",
       "195             https://www.floridabulldog.org/   \n",
       "243                   https://infoamazonia.org/   \n",
       "314                      https://lokaantar.com/   \n",
       "333                  https://midnightsunak.com/   \n",
       "336                    https://perfectunion.us/   \n",
       "361             https://www.newstatesman.com/uk   \n",
       "367      https://metro.newschannelnebraska.com/   \n",
       "390                      https://oxpeckers.org/   \n",
       "435                 https://www.scsun-news.com/   \n",
       "440                  https://sjvwater.org/news/   \n",
       "450                  https://searchlightnm.org/   \n",
       "511            https://theintercept.com/brasil/   \n",
       "512                        https://jaxtrib.org/   \n",
       "513                   https://theleftbench.com/   \n",
       "525                https://thepublicsource.org/   \n",
       "553               https://umdsbs.wordpress.com/   \n",
       "593                      https://ycitynews.com/   \n",
       "597         https://fiquemsabendo.substack.com/   \n",
       "615                   https://aamazonia.com.br/   \n",
       "621                   https://arthasarokar.com/   \n",
       "627             https://atlantaciviccircle.org/   \n",
       "632               https://thebadgerproject.org/   \n",
       "633                  https://baltimorebeat.com/   \n",
       "634              https://baltimorefishbowl.com/   \n",
       "651                        https://bklyner.com/   \n",
       "\n",
       "                                                output err  \\\n",
       "5    https://web.archive.org/web/20221201022046/htt...       \n",
       "7    https://web.archive.org/web/20221201100427/htt...       \n",
       "30   https://web.archive.org/web/20221201003605/htt...       \n",
       "32   https://web.archive.org/web/20221201100427/htt...       \n",
       "34   https://web.archive.org/web/20221201125643/htt...       \n",
       "57   https://web.archive.org/web/20221201100922/htt...       \n",
       "71   https://web.archive.org/web/20221201100848/htt...       \n",
       "84   https://web.archive.org/web/20221201101103/htt...       \n",
       "101  https://web.archive.org/web/20221201015235/htt...       \n",
       "111  https://web.archive.org/web/20221201082422/htt...       \n",
       "116  https://web.archive.org/web/20221201103853/htt...       \n",
       "122  https://web.archive.org/web/20221201103929/htt...       \n",
       "151  https://web.archive.org/web/20221201103907/htt...       \n",
       "152  https://web.archive.org/web/20221201010831/htt...       \n",
       "156  https://web.archive.org/web/20221201012751/htt...       \n",
       "172  https://web.archive.org/web/20221201101040/htt...       \n",
       "182  https://web.archive.org/web/20221201104341/htt...       \n",
       "190  https://web.archive.org/web/20221201055954/htt...       \n",
       "195  https://web.archive.org/web/20221201104433/htt...       \n",
       "243  https://web.archive.org/web/20221201083836/htt...       \n",
       "314  https://web.archive.org/web/20221201111228/htt...       \n",
       "333  https://web.archive.org/web/20221201111436/htt...       \n",
       "336  https://web.archive.org/web/20221201111448/htt...       \n",
       "361  https://web.archive.org/web/20221202005902/htt...       \n",
       "367  https://web.archive.org/web/20221201053952/htt...       \n",
       "390  https://web.archive.org/web/20221201113802/htt...       \n",
       "435                                                 \\n       \n",
       "440  https://web.archive.org/web/20221201114352/htt...       \n",
       "450  https://web.archive.org/web/20221201114241/htt...       \n",
       "511  https://web.archive.org/web/20221201000858/htt...       \n",
       "512  https://web.archive.org/web/20221201001014/htt...       \n",
       "513                                                 \\n       \n",
       "525  https://web.archive.org/web/20221201001206/htt...       \n",
       "553  https://web.archive.org/web/20221201001452/htt...       \n",
       "593  https://web.archive.org/web/20221201010000/htt...       \n",
       "597  https://web.archive.org/web/20221201004937/htt...       \n",
       "615  https://web.archive.org/web/20221201042604/htt...       \n",
       "621  https://web.archive.org/web/20221201005020/htt...       \n",
       "627  https://web.archive.org/web/20221201005310/htt...       \n",
       "632  https://web.archive.org/web/20221201005021/htt...       \n",
       "633  https://web.archive.org/web/20221201005000/htt...       \n",
       "634  https://web.archive.org/web/20221201004938/htt...       \n",
       "651  https://web.archive.org/web/20221201051210/htt...       \n",
       "\n",
       "                                   page_snapshot_times  \n",
       "5    [2022-12-01 02:20:46, 2022-12-01 19:58:24, 202...  \n",
       "7           [2022-12-01 10:04:27, 2022-12-01 22:03:12]  \n",
       "30          [2022-12-01 00:36:05, 2022-12-02 22:03:31]  \n",
       "32   [2022-12-01 10:04:27, 2022-12-01 22:04:06, 202...  \n",
       "34   [2022-12-01 12:56:43, 2022-12-01 22:03:11, 202...  \n",
       "57   [2022-12-01 10:09:22, 2022-12-01 22:08:51, 202...  \n",
       "71   [2022-12-01 10:08:48, 2022-12-01 22:09:08, 202...  \n",
       "84   [2022-12-01 10:11:03, 2022-12-02 10:10:32, 202...  \n",
       "101  [2022-12-01 01:52:35, 2022-12-01 10:14:25, 202...  \n",
       "111  [2022-12-01 08:24:22, 2022-12-01 10:11:47, 202...  \n",
       "116  [2022-12-01 10:38:53, 2022-12-01 22:35:51, 202...  \n",
       "122  [2022-12-01 10:39:29, 2022-12-01 22:36:00, 202...  \n",
       "151  [2022-12-01 10:39:07, 2022-12-01 14:25:20, 202...  \n",
       "152  [2022-12-01 01:08:31, 2022-12-02 09:17:51, 202...  \n",
       "156  [2022-12-01 01:27:51, 2022-12-01 10:42:45, 202...  \n",
       "172  [2022-12-01 10:10:40, 2022-12-01 10:44:02, 202...  \n",
       "182  [2022-12-01 10:43:41, 2022-12-02 13:33:38, 202...  \n",
       "190  [2022-12-01 05:59:54, 2022-12-01 10:44:51, 202...  \n",
       "195  [2022-12-01 10:44:33, 2022-12-01 22:42:47, 202...  \n",
       "243  [2022-12-01 08:38:36, 2022-12-01 11:05:14, 202...  \n",
       "314  [2022-12-01 11:12:28, 2022-12-01 23:12:24, 202...  \n",
       "333  [2022-12-01 11:14:36, 2022-12-01 23:13:39, 202...  \n",
       "336  [2022-12-01 11:14:48, 2022-12-01 18:21:59, 202...  \n",
       "361  [2022-12-02 00:59:02, 2022-12-02 22:56:31, 202...  \n",
       "367  [2022-12-01 05:39:52, 2022-12-01 11:34:35, 202...  \n",
       "390  [2022-12-01 11:38:02, 2022-12-01 23:38:48, 202...  \n",
       "435                                                 []  \n",
       "440  [2022-12-01 11:43:52, 2022-12-01 23:44:33, 202...  \n",
       "450  [2022-12-01 11:42:41, 2022-12-01 23:43:00, 202...  \n",
       "511  [2022-12-01 00:08:58, 2022-12-01 12:12:40, 202...  \n",
       "512  [2022-12-01 00:10:14, 2022-12-01 12:13:15, 202...  \n",
       "513                                                 []  \n",
       "525  [2022-12-01 00:12:06, 2022-12-01 12:14:13, 202...  \n",
       "553         [2022-12-01 00:14:52, 2022-12-01 12:19:31]  \n",
       "593  [2022-12-01 01:00:00, 2022-12-01 12:58:24, 202...  \n",
       "597  [2022-12-01 00:49:37, 2022-12-01 12:47:21, 202...  \n",
       "615                              [2022-12-01 04:26:04]  \n",
       "621  [2022-12-01 00:50:20, 2022-12-01 12:47:20, 202...  \n",
       "627  [2022-12-01 00:53:10, 2022-12-01 12:46:28, 202...  \n",
       "632         [2022-12-01 00:50:21, 2022-12-01 12:47:19]  \n",
       "633  [2022-12-01 00:50:00, 2022-12-01 12:47:07, 202...  \n",
       "634  [2022-12-01 00:49:38, 2022-12-01 12:48:10, 202...  \n",
       "651  [2022-12-01 05:12:10, 2022-12-01 12:51:18, 202...  "
      ]
     },
     "execution_count": 98,
     "metadata": {},
     "output_type": "execute_result"
    }
   ],
   "source": [
    "all_output_df.loc[lambda df: df['page_snapshot_times'].str.len() < 5]"
   ]
  },
  {
   "cell_type": "code",
   "execution_count": 118,
   "id": "cca9831b",
   "metadata": {},
   "outputs": [],
   "source": [
    "import numpy as np "
   ]
  },
  {
   "cell_type": "code",
   "execution_count": 137,
   "id": "0ed824b8",
   "metadata": {},
   "outputs": [
    {
     "data": {
      "image/png": "[encoded data removed]",
      "text/plain": [
       "<Figure size 400x200 with 1 Axes>"
      ]
     },
     "metadata": {},
     "output_type": "display_data"
    }
   ],
   "source": [
    "ax = (all_output_df['page_snapshot_times']\n",
    " .apply(lambda x: sorted(x))\n",
    " .apply(lambda x: list(map(lambda y: y[1] - y[0], zip(x[:-1], x[1:]))))\n",
    " .apply(np.mean)\n",
    " .apply(lambda x: x.total_seconds())\n",
    " .apply(lambda x: x/(60 * 60))\n",
    " .hist(bins=50, range=(0,10), figsize=(4, 2))\n",
    ")\n",
    "ax.set_ylabel('Counts')\n",
    "ax.set_xlabel('Num hours in-between snapshots')\n",
    "ax.grid(False)\n",
    "ax.spines['right'].set_visible(False)\n",
    "ax.spines['top'].set_visible(False)"
   ]
  },
  {
   "cell_type": "code",
   "execution_count": 138,
   "id": "55563c66",
   "metadata": {},
   "outputs": [],
   "source": [
    "site = 'https://washingtonpost.com'"
   ]
  },
  {
   "cell_type": "code",
   "execution_count": 140,
   "id": "f3e17346",
   "metadata": {},
   "outputs": [],
   "source": [
    "p = Popen([\n",
    "            \"waybackpack\", site,\n",
    "            \"--from-date\",\n",
    "            '20221202',\n",
    "            \"--to-date\",\n",
    "            '20221203',\n",
    "            \"--list\"\n",
    "    ], stdin=PIPE, stdout=PIPE, stderr=PIPE)\n",
    "output, err = p.communicate()"
   ]
  },
  {
   "cell_type": "code",
   "execution_count": 143,
   "id": "f8957b3b",
   "metadata": {},
   "outputs": [],
   "source": [
    "num_links = output.decode().split()"
   ]
  },
  {
   "cell_type": "code",
   "execution_count": 152,
   "id": "d4bbeeaa",
   "metadata": {},
   "outputs": [],
   "source": [
    "wp_urls = list(map(lambda x: x.split('/')[4], num_links))"
   ]
  },
  {
   "cell_type": "code",
   "execution_count": 153,
   "id": "71c58445",
   "metadata": {},
   "outputs": [],
   "source": [
    "import glob"
   ]
  },
  {
   "cell_type": "code",
   "execution_count": 155,
   "id": "18a84e11",
   "metadata": {},
   "outputs": [],
   "source": [
    "retrieved_files = glob.glob('../test-scraping-methods/use-wget/web.archive.org/web/*')"
   ]
  },
  {
   "cell_type": "code",
   "execution_count": 160,
   "id": "36427b44",
   "metadata": {},
   "outputs": [],
   "source": [
    "retrieved_files = list(filter(lambda x: not x.endswith('_'), retrieved_files))"
   ]
  },
  {
   "cell_type": "code",
   "execution_count": 163,
   "id": "6016a89a",
   "metadata": {},
   "outputs": [],
   "source": [
    "retrieved_files = list(map(lambda x: x.split('/')[-1], retrieved_files))"
   ]
  },
  {
   "cell_type": "code",
   "execution_count": 166,
   "id": "f511765e",
   "metadata": {},
   "outputs": [
    {
     "data": {
      "text/plain": [
       "246"
      ]
     },
     "execution_count": 166,
     "metadata": {},
     "output_type": "execute_result"
    }
   ],
   "source": [
    "len(set(wp_urls) - set(retrieved_files))"
   ]
  },
  {
   "cell_type": "code",
   "execution_count": 168,
   "id": "b9e26cd5",
   "metadata": {},
   "outputs": [
    {
     "data": {
      "text/plain": [
       "322"
      ]
     },
     "execution_count": 168,
     "metadata": {},
     "output_type": "execute_result"
    }
   ],
   "source": [
    "len(set(wp_urls))"
   ]
  },
  {
   "cell_type": "code",
   "execution_count": null,
   "id": "b53adc55",
   "metadata": {},
   "outputs": [],
   "source": []
  },
  {
   "cell_type": "code",
   "execution_count": null,
   "id": "8dbf091a",
   "metadata": {},
   "outputs": [],
   "source": []
  },
  {
   "cell_type": "code",
   "execution_count": null,
   "id": "bfd12275",
   "metadata": {},
   "outputs": [],
   "source": []
  },
  {
   "cell_type": "code",
   "execution_count": null,
   "id": "134636e3",
   "metadata": {},
   "outputs": [],
   "source": []
  },
  {
   "cell_type": "code",
   "execution_count": null,
   "id": "a7817315",
   "metadata": {},
   "outputs": [],
   "source": []
  },
  {
   "cell_type": "markdown",
   "id": "3a8a7cb2",
   "metadata": {},
   "source": [
    "# Parse the homepages"
   ]
  },
  {
   "cell_type": "code",
   "execution_count": 169,
   "id": "fc578dcf",
   "metadata": {},
   "outputs": [
    {
     "name": "stdout",
     "output_type": "stream",
     "text": [
      "artifact_cache.csv               get_bounding_boxes_from_html.py\r\n",
      "download_data_git_archives.py    \u001b[34mjs\u001b[m\u001b[m/\r\n"
     ]
    }
   ],
   "source": [
    "ls ../scripts/"
   ]
  },
  {
   "cell_type": "code",
   "execution_count": 795,
   "id": "d059caeb",
   "metadata": {},
   "outputs": [],
   "source": [
    "import seaborn as sns\n",
    "import json \n",
    "from playwright.async_api import async_playwright\n",
    "import sys\n",
    "sys.path.insert(0, '../scripts/')\n",
    "import get_bounding_boxes_from_html as bb\n",
    "from importlib import reload \n",
    "import os\n",
    "here = os.getcwd()\n",
    "import glob\n",
    "from datetime import datetime\n",
    "reload(bb)\n",
    "import matplotlib.pyplot as plt \n",
    "from matplotlib.patches import Rectangle\n",
    "from tqdm.auto import tqdm"
   ]
  },
  {
   "cell_type": "code",
   "execution_count": 783,
   "id": "aa9d94bc",
   "metadata": {},
   "outputs": [],
   "source": [
    "playwright = await async_playwright().start()\n",
    "browser = await playwright.chromium.launch(headless = False)"
   ]
  },
  {
   "cell_type": "code",
   "execution_count": 784,
   "id": "ece08f92",
   "metadata": {},
   "outputs": [],
   "source": [
    "page = await browser.new_page()"
   ]
  },
  {
   "cell_type": "code",
   "execution_count": 785,
   "id": "f5a790bc",
   "metadata": {},
   "outputs": [],
   "source": [
    "nyt_files = glob.glob(\n",
    "    '../test-scraping-methods/use-wget/web-archive-5-days/web.archive.org/web/*[!_]/https:/nytimes.com'\n",
    ")"
   ]
  },
  {
   "cell_type": "code",
   "execution_count": 786,
   "id": "ce3ccf85",
   "metadata": {},
   "outputs": [],
   "source": [
    "nyt_files = sorted(nyt_files, key=lambda x: x.split('/')[-3])"
   ]
  },
  {
   "cell_type": "code",
   "execution_count": 787,
   "id": "4738fa31",
   "metadata": {},
   "outputs": [],
   "source": [
    "nyt_timestamps = list(map(lambda x: x.split('/')[-3], nyt_files))\n",
    "nyt_timestamps = list(map(lambda x: datetime.strptime(x, '%Y%m%d%H%M%S'),  nyt_timestamps))"
   ]
  },
  {
   "cell_type": "code",
   "execution_count": 273,
   "id": "cc10ef02",
   "metadata": {},
   "outputs": [],
   "source": [
    "time_diffs = (pd.Series(list(map(lambda x: x[1] - x[0], zip(nyt_timestamps[:-1], nyt_timestamps[1:]))))\n",
    "#  .apply(lambda x: x.total_seconds() / (60 * 60))\n",
    ")"
   ]
  },
  {
   "cell_type": "code",
   "execution_count": 788,
   "id": "f182a165",
   "metadata": {},
   "outputs": [],
   "source": [
    "for f in nyt_files:\n",
    "    if not os.path.isdir(f) and (not os.path.basename(f) == 'index.html'):\n",
    "        dir_path = os.path.dirname(f)\n",
    "        new_path = os.path.join(dir_path, 'index.html')\n",
    "        os.rename(f, new_path)\n",
    "        os.makedirs(f)\n",
    "        os.rename(new_path, os.path.join(f, 'index.html'))"
   ]
  },
  {
   "cell_type": "code",
   "execution_count": 789,
   "id": "fd166cf7",
   "metadata": {},
   "outputs": [],
   "source": [
    "nyt_files = glob.glob(\n",
    "    '../test-scraping-methods/use-wget/web-archive-5-days/web.archive.org/web/*[!_]/https:/nytimes.com/*'\n",
    ")"
   ]
  },
  {
   "cell_type": "code",
   "execution_count": 791,
   "id": "430c5a52",
   "metadata": {},
   "outputs": [],
   "source": [
    "all_height_width = []\n",
    "all_bounding_box_dfs = []"
   ]
  },
  {
   "cell_type": "code",
   "execution_count": 792,
   "id": "0239f930",
   "metadata": {},
   "outputs": [],
   "source": [
    "retrieved_keys = list(map(lambda x: x['key'], all_height_width))"
   ]
  },
  {
   "cell_type": "code",
   "execution_count": 793,
   "id": "484eca62",
   "metadata": {},
   "outputs": [],
   "source": [
    "await page.route(\n",
    "    \"**/*\", \n",
    "    lambda route: route.abort() \n",
    "        if route.request.resource_type == \"image\" \n",
    "        else route.continue_() \n",
    ") \n",
    "\n",
    "await page.route(\n",
    "    \"https://web.archive.org*/*\", \n",
    "    lambda route: route.abort() \n",
    ") "
   ]
  },
  {
   "cell_type": "code",
   "execution_count": 794,
   "id": "7ea0c9e0",
   "metadata": {},
   "outputs": [
    {
     "data": {
      "application/vnd.jupyter.widget-view+json": {
       "model_id": "36d6c387957e496f925e643d30bf96ed",
       "version_major": 2,
       "version_minor": 0
      },
      "text/plain": [
       "  0%|          | 0/776 [00:00<?, ?it/s]"
      ]
     },
     "metadata": {},
     "output_type": "display_data"
    },
    {
     "ename": "Error",
     "evalue": "ReferenceError: psl is not defined\n    at is_banned_host (eval at evaluate (:197:30), <anonymous>:65:18)\n    at LRUrlPredictor.get_prediction (eval at evaluate (:197:30), <anonymous>:120:13)\n    at eval (eval at evaluate (:197:30), <anonymous>:8:50)\n    at Array.filter (<anonymous>)\n    at eval (eval at evaluate (:197:30), <anonymous>:8:14)\n    at eval (<anonymous>)\n    at UtilityScript.evaluate (<anonymous>:197:30)\n    at UtilityScript.<anonymous> (<anonymous>:1:44)",
     "output_type": "error",
     "traceback": [
      "\u001b[0;31m---------------------------------------------------------------------------\u001b[0m",
      "\u001b[0;31mError\u001b[0m                                     Traceback (most recent call last)",
      "Cell \u001b[0;32mIn[794], line 13\u001b[0m\n\u001b[1;32m     11\u001b[0m model_weights \u001b[38;5;241m=\u001b[39m \u001b[38;5;28;01mawait\u001b[39;00m bb\u001b[38;5;241m.\u001b[39mload_model_files_and_helper_scripts(page)\n\u001b[1;32m     12\u001b[0m \u001b[38;5;28;01mawait\u001b[39;00m page\u001b[38;5;241m.\u001b[39mevaluate(bb\u001b[38;5;241m.\u001b[39minstantiate_model_js \u001b[38;5;241m%\u001b[39m model_weights)\n\u001b[0;32m---> 13\u001b[0m \u001b[38;5;28;01mawait\u001b[39;00m page\u001b[38;5;241m.\u001b[39mevaluate(bb\u001b[38;5;241m.\u001b[39mget_link_divs_js)\n\u001b[1;32m     14\u001b[0m b \u001b[38;5;241m=\u001b[39m \u001b[38;5;28;01mawait\u001b[39;00m bb\u001b[38;5;241m.\u001b[39mget_bounding_box_info(page)\n\u001b[1;32m     16\u001b[0m all_height_width\u001b[38;5;241m.\u001b[39mappend({\n\u001b[1;32m     17\u001b[0m     \u001b[38;5;124m'\u001b[39m\u001b[38;5;124mheight\u001b[39m\u001b[38;5;124m'\u001b[39m: b[\u001b[38;5;124m'\u001b[39m\u001b[38;5;124mheight\u001b[39m\u001b[38;5;124m'\u001b[39m],\n\u001b[1;32m     18\u001b[0m     \u001b[38;5;124m'\u001b[39m\u001b[38;5;124mwidth\u001b[39m\u001b[38;5;124m'\u001b[39m: b[\u001b[38;5;124m'\u001b[39m\u001b[38;5;124mwidth\u001b[39m\u001b[38;5;124m'\u001b[39m],\n\u001b[1;32m     19\u001b[0m     \u001b[38;5;124m'\u001b[39m\u001b[38;5;124mkey\u001b[39m\u001b[38;5;124m'\u001b[39m: datestr\n\u001b[1;32m     20\u001b[0m })\n",
      "File \u001b[0;32m/usr/local/lib/python3.10/site-packages/playwright/async_api/_generated.py:8330\u001b[0m, in \u001b[0;36mPage.evaluate\u001b[0;34m(self, expression, arg)\u001b[0m\n\u001b[1;32m   8260\u001b[0m \u001b[38;5;28;01masync\u001b[39;00m \u001b[38;5;28;01mdef\u001b[39;00m \u001b[38;5;21mevaluate\u001b[39m(\n\u001b[1;32m   8261\u001b[0m     \u001b[38;5;28mself\u001b[39m, expression: \u001b[38;5;28mstr\u001b[39m, arg: typing\u001b[38;5;241m.\u001b[39mOptional[typing\u001b[38;5;241m.\u001b[39mAny] \u001b[38;5;241m=\u001b[39m \u001b[38;5;28;01mNone\u001b[39;00m\n\u001b[1;32m   8262\u001b[0m ) \u001b[38;5;241m-\u001b[39m\u001b[38;5;241m>\u001b[39m typing\u001b[38;5;241m.\u001b[39mAny:\n\u001b[1;32m   8263\u001b[0m \u001b[38;5;250m    \u001b[39m\u001b[38;5;124;03m\"\"\"Page.evaluate\u001b[39;00m\n\u001b[1;32m   8264\u001b[0m \n\u001b[1;32m   8265\u001b[0m \u001b[38;5;124;03m    Returns the value of the `expression` invocation.\u001b[39;00m\n\u001b[0;32m   (...)\u001b[0m\n\u001b[1;32m   8326\u001b[0m \u001b[38;5;124;03m    Any\u001b[39;00m\n\u001b[1;32m   8327\u001b[0m \u001b[38;5;124;03m    \"\"\"\u001b[39;00m\n\u001b[1;32m   8329\u001b[0m     \u001b[38;5;28;01mreturn\u001b[39;00m mapping\u001b[38;5;241m.\u001b[39mfrom_maybe_impl(\n\u001b[0;32m-> 8330\u001b[0m         \u001b[38;5;28;01mawait\u001b[39;00m \u001b[38;5;28mself\u001b[39m\u001b[38;5;241m.\u001b[39m_impl_obj\u001b[38;5;241m.\u001b[39mevaluate(\n\u001b[1;32m   8331\u001b[0m             expression\u001b[38;5;241m=\u001b[39mexpression, arg\u001b[38;5;241m=\u001b[39mmapping\u001b[38;5;241m.\u001b[39mto_impl(arg)\n\u001b[1;32m   8332\u001b[0m         )\n\u001b[1;32m   8333\u001b[0m     )\n",
      "File \u001b[0;32m/usr/local/lib/python3.10/site-packages/playwright/_impl/_page.py:407\u001b[0m, in \u001b[0;36mPage.evaluate\u001b[0;34m(self, expression, arg)\u001b[0m\n\u001b[1;32m    406\u001b[0m \u001b[38;5;28;01masync\u001b[39;00m \u001b[38;5;28;01mdef\u001b[39;00m \u001b[38;5;21mevaluate\u001b[39m(\u001b[38;5;28mself\u001b[39m, expression: \u001b[38;5;28mstr\u001b[39m, arg: Serializable \u001b[38;5;241m=\u001b[39m \u001b[38;5;28;01mNone\u001b[39;00m) \u001b[38;5;241m-\u001b[39m\u001b[38;5;241m>\u001b[39m Any:\n\u001b[0;32m--> 407\u001b[0m     \u001b[38;5;28;01mreturn\u001b[39;00m \u001b[38;5;28;01mawait\u001b[39;00m \u001b[38;5;28mself\u001b[39m\u001b[38;5;241m.\u001b[39m_main_frame\u001b[38;5;241m.\u001b[39mevaluate(expression, arg)\n",
      "File \u001b[0;32m/usr/local/lib/python3.10/site-packages/playwright/_impl/_frame.py:277\u001b[0m, in \u001b[0;36mFrame.evaluate\u001b[0;34m(self, expression, arg)\u001b[0m\n\u001b[1;32m    275\u001b[0m \u001b[38;5;28;01masync\u001b[39;00m \u001b[38;5;28;01mdef\u001b[39;00m \u001b[38;5;21mevaluate\u001b[39m(\u001b[38;5;28mself\u001b[39m, expression: \u001b[38;5;28mstr\u001b[39m, arg: Serializable \u001b[38;5;241m=\u001b[39m \u001b[38;5;28;01mNone\u001b[39;00m) \u001b[38;5;241m-\u001b[39m\u001b[38;5;241m>\u001b[39m Any:\n\u001b[1;32m    276\u001b[0m     \u001b[38;5;28;01mreturn\u001b[39;00m parse_result(\n\u001b[0;32m--> 277\u001b[0m         \u001b[38;5;28;01mawait\u001b[39;00m \u001b[38;5;28mself\u001b[39m\u001b[38;5;241m.\u001b[39m_channel\u001b[38;5;241m.\u001b[39msend(\n\u001b[1;32m    278\u001b[0m             \u001b[38;5;124m\"\u001b[39m\u001b[38;5;124mevaluateExpression\u001b[39m\u001b[38;5;124m\"\u001b[39m,\n\u001b[1;32m    279\u001b[0m             \u001b[38;5;28mdict\u001b[39m(\n\u001b[1;32m    280\u001b[0m                 expression\u001b[38;5;241m=\u001b[39mexpression,\n\u001b[1;32m    281\u001b[0m                 arg\u001b[38;5;241m=\u001b[39mserialize_argument(arg),\n\u001b[1;32m    282\u001b[0m             ),\n\u001b[1;32m    283\u001b[0m         )\n\u001b[1;32m    284\u001b[0m     )\n",
      "File \u001b[0;32m/usr/local/lib/python3.10/site-packages/playwright/_impl/_connection.py:44\u001b[0m, in \u001b[0;36mChannel.send\u001b[0;34m(self, method, params)\u001b[0m\n\u001b[1;32m     43\u001b[0m \u001b[38;5;28;01masync\u001b[39;00m \u001b[38;5;28;01mdef\u001b[39;00m \u001b[38;5;21msend\u001b[39m(\u001b[38;5;28mself\u001b[39m, method: \u001b[38;5;28mstr\u001b[39m, params: Dict \u001b[38;5;241m=\u001b[39m \u001b[38;5;28;01mNone\u001b[39;00m) \u001b[38;5;241m-\u001b[39m\u001b[38;5;241m>\u001b[39m Any:\n\u001b[0;32m---> 44\u001b[0m     \u001b[38;5;28;01mreturn\u001b[39;00m \u001b[38;5;28;01mawait\u001b[39;00m \u001b[38;5;28mself\u001b[39m\u001b[38;5;241m.\u001b[39m_connection\u001b[38;5;241m.\u001b[39mwrap_api_call(\n\u001b[1;32m     45\u001b[0m         \u001b[38;5;28;01mlambda\u001b[39;00m: \u001b[38;5;28mself\u001b[39m\u001b[38;5;241m.\u001b[39minner_send(method, params, \u001b[38;5;28;01mFalse\u001b[39;00m)\n\u001b[1;32m     46\u001b[0m     )\n",
      "File \u001b[0;32m/usr/local/lib/python3.10/site-packages/playwright/_impl/_connection.py:419\u001b[0m, in \u001b[0;36mConnection.wrap_api_call\u001b[0;34m(self, cb, is_internal)\u001b[0m\n\u001b[1;32m    417\u001b[0m     \u001b[38;5;28mself\u001b[39m\u001b[38;5;241m.\u001b[39m_api_zone\u001b[38;5;241m.\u001b[39mset(metadata)\n\u001b[1;32m    418\u001b[0m \u001b[38;5;28;01mtry\u001b[39;00m:\n\u001b[0;32m--> 419\u001b[0m     \u001b[38;5;28;01mreturn\u001b[39;00m \u001b[38;5;28;01mawait\u001b[39;00m cb()\n\u001b[1;32m    420\u001b[0m \u001b[38;5;28;01mfinally\u001b[39;00m:\n\u001b[1;32m    421\u001b[0m     \u001b[38;5;28mself\u001b[39m\u001b[38;5;241m.\u001b[39m_api_zone\u001b[38;5;241m.\u001b[39mset(\u001b[38;5;28;01mNone\u001b[39;00m)\n",
      "File \u001b[0;32m/usr/local/lib/python3.10/site-packages/playwright/_impl/_connection.py:79\u001b[0m, in \u001b[0;36mChannel.inner_send\u001b[0;34m(self, method, params, return_as_dict)\u001b[0m\n\u001b[1;32m     77\u001b[0m \u001b[38;5;28;01mif\u001b[39;00m \u001b[38;5;129;01mnot\u001b[39;00m callback\u001b[38;5;241m.\u001b[39mfuture\u001b[38;5;241m.\u001b[39mdone():\n\u001b[1;32m     78\u001b[0m     callback\u001b[38;5;241m.\u001b[39mfuture\u001b[38;5;241m.\u001b[39mcancel()\n\u001b[0;32m---> 79\u001b[0m result \u001b[38;5;241m=\u001b[39m \u001b[38;5;28;43mnext\u001b[39;49m\u001b[43m(\u001b[49m\u001b[38;5;28;43miter\u001b[39;49m\u001b[43m(\u001b[49m\u001b[43mdone\u001b[49m\u001b[43m)\u001b[49m\u001b[43m)\u001b[49m\u001b[38;5;241;43m.\u001b[39;49m\u001b[43mresult\u001b[49m\u001b[43m(\u001b[49m\u001b[43m)\u001b[49m\n\u001b[1;32m     80\u001b[0m \u001b[38;5;66;03m# Protocol now has named return values, assume result is one level deeper unless\u001b[39;00m\n\u001b[1;32m     81\u001b[0m \u001b[38;5;66;03m# there is explicit ambiguity.\u001b[39;00m\n\u001b[1;32m     82\u001b[0m \u001b[38;5;28;01mif\u001b[39;00m \u001b[38;5;129;01mnot\u001b[39;00m result:\n",
      "\u001b[0;31mError\u001b[0m: ReferenceError: psl is not defined\n    at is_banned_host (eval at evaluate (:197:30), <anonymous>:65:18)\n    at LRUrlPredictor.get_prediction (eval at evaluate (:197:30), <anonymous>:120:13)\n    at eval (eval at evaluate (:197:30), <anonymous>:8:50)\n    at Array.filter (<anonymous>)\n    at eval (eval at evaluate (:197:30), <anonymous>:8:14)\n    at eval (<anonymous>)\n    at UtilityScript.evaluate (<anonymous>:197:30)\n    at UtilityScript.<anonymous> (<anonymous>:1:44)"
     ]
    }
   ],
   "source": [
    "for nyt_file in tqdm(sorted(nyt_files, key=lambda x: x.split('/')[-4])):\n",
    "    fp = os.path.join(here, nyt_file)\n",
    "    datestr = fp.split('/')[-4]\n",
    "    file = f'file://{fp}'\n",
    "    \n",
    "    if datestr in retrieved_keys:\n",
    "        continue\n",
    "    \n",
    "    await page.goto(file, timeout=0)\n",
    "    # instantiate the model and the weights\n",
    "    \n",
    "    model_weights = await bb.load_model_files_and_helper_scripts(page)\n",
    "    await page.evaluate(bb.instantiate_model_js % model_weights)\n",
    "    await page.evaluate(bb.get_link_divs_js)\n",
    "    b = await bb.get_bounding_box_info(page)\n",
    "    \n",
    "    all_height_width.append({\n",
    "        'height': b['height'],\n",
    "        'width': b['width'],\n",
    "        'key': datestr\n",
    "    })\n",
    "    bounding_box_df = pd.DataFrame(b['bounding_boxes'])\n",
    "    bounding_box_df['width'] = b['width']\n",
    "    bounding_box_df['height'] = b['height']\n",
    "    bounding_box_df['datestr'] = datestr\n",
    "    all_bounding_box_dfs.append(bounding_box_df)"
   ]
  },
  {
   "cell_type": "code",
   "execution_count": 466,
   "id": "b1fe1329",
   "metadata": {},
   "outputs": [],
   "source": [
    "from scipy.stats import entropy "
   ]
  },
  {
   "cell_type": "code",
   "execution_count": 705,
   "id": "471be00f",
   "metadata": {
    "scrolled": true
   },
   "outputs": [],
   "source": [
    "entropies = list(map(lambda df: df['width'].round().value_counts().pipe(entropy), all_bounding_box_dfs))"
   ]
  },
  {
   "cell_type": "code",
   "execution_count": 776,
   "id": "5160e2d0",
   "metadata": {},
   "outputs": [
    {
     "data": {
      "text/html": [
       "<div>\n",
       "<style scoped>\n",
       "    .dataframe tbody tr th:only-of-type {\n",
       "        vertical-align: middle;\n",
       "    }\n",
       "\n",
       "    .dataframe tbody tr th {\n",
       "        vertical-align: top;\n",
       "    }\n",
       "\n",
       "    .dataframe thead th {\n",
       "        text-align: right;\n",
       "    }\n",
       "</style>\n",
       "<table border=\"1\" class=\"dataframe\">\n",
       "  <thead>\n",
       "    <tr style=\"text-align: right;\">\n",
       "      <th></th>\n",
       "      <th>href</th>\n",
       "      <th>link_text</th>\n",
       "      <th>is_article</th>\n",
       "      <th>x</th>\n",
       "      <th>y</th>\n",
       "      <th>width</th>\n",
       "      <th>height</th>\n",
       "      <th>all_text</th>\n",
       "      <th>datestr</th>\n",
       "    </tr>\n",
       "  </thead>\n",
       "  <tbody>\n",
       "    <tr>\n",
       "      <th>0</th>\n",
       "      <td>file:///Users/alex/Projects/usc-research/newsw...</td>\n",
       "      <td>Continue reading the main story</td>\n",
       "      <td>True</td>\n",
       "      <td>0.000000</td>\n",
       "      <td>8.000000</td>\n",
       "      <td>1280.000000</td>\n",
       "      <td>281.0</td>\n",
       "      <td>Continue reading the main story</td>\n",
       "      <td>20221101135642</td>\n",
       "    </tr>\n",
       "    <tr>\n",
       "      <th>1</th>\n",
       "      <td>file:///Users/alex/Projects/usc-research/newsw...</td>\n",
       "      <td>Skip to content</td>\n",
       "      <td>True</td>\n",
       "      <td>156.906250</td>\n",
       "      <td>292.000000</td>\n",
       "      <td>25.000000</td>\n",
       "      <td>20.0</td>\n",
       "      <td>Skip to content</td>\n",
       "      <td>20221101135642</td>\n",
       "    </tr>\n",
       "    <tr>\n",
       "      <th>2</th>\n",
       "      <td>file:///Users/alex/Projects/usc-research/newsw...</td>\n",
       "      <td>Skip to site index</td>\n",
       "      <td>True</td>\n",
       "      <td>156.906250</td>\n",
       "      <td>292.000000</td>\n",
       "      <td>25.000000</td>\n",
       "      <td>20.0</td>\n",
       "      <td>Skip to site index</td>\n",
       "      <td>20221101135642</td>\n",
       "    </tr>\n",
       "    <tr>\n",
       "      <th>3</th>\n",
       "      <td>file:///Users/alex/Projects/usc-research/newsw...</td>\n",
       "      <td></td>\n",
       "      <td>True</td>\n",
       "      <td>0.000000</td>\n",
       "      <td>0.000000</td>\n",
       "      <td>0.000000</td>\n",
       "      <td>0.0</td>\n",
       "      <td></td>\n",
       "      <td>20221101135642</td>\n",
       "    </tr>\n",
       "    <tr>\n",
       "      <th>4</th>\n",
       "      <td>file:///Users/alex/Projects/usc-research/newsw...</td>\n",
       "      <td>U.S.</td>\n",
       "      <td>True</td>\n",
       "      <td>60.906250</td>\n",
       "      <td>295.000000</td>\n",
       "      <td>1158.187500</td>\n",
       "      <td>27.0</td>\n",
       "      <td>U.S. International Canada Español 中文</td>\n",
       "      <td>20221101135642</td>\n",
       "    </tr>\n",
       "    <tr>\n",
       "      <th>...</th>\n",
       "      <td>...</td>\n",
       "      <td>...</td>\n",
       "      <td>...</td>\n",
       "      <td>...</td>\n",
       "      <td>...</td>\n",
       "      <td>...</td>\n",
       "      <td>...</td>\n",
       "      <td>...</td>\n",
       "      <td>...</td>\n",
       "    </tr>\n",
       "    <tr>\n",
       "      <th>97</th>\n",
       "      <td>file:///Users/alex/Projects/usc-research/newsw...</td>\n",
       "      <td>Continue reading the main story</td>\n",
       "      <td>True</td>\n",
       "      <td>45.906250</td>\n",
       "      <td>8759.171875</td>\n",
       "      <td>1188.187500</td>\n",
       "      <td>322.0</td>\n",
       "      <td>Advertisement Continue reading the main story</td>\n",
       "      <td>20221101135642</td>\n",
       "    </tr>\n",
       "    <tr>\n",
       "      <th>98</th>\n",
       "      <td>https://web.archive.org/web/20221101135642/htt...</td>\n",
       "      <td>©  2022   The New York Times Company</td>\n",
       "      <td>True</td>\n",
       "      <td>545.125000</td>\n",
       "      <td>9091.171875</td>\n",
       "      <td>189.750000</td>\n",
       "      <td>13.0</td>\n",
       "      <td>©  2022   The New York Times Company</td>\n",
       "      <td>20221101135642</td>\n",
       "    </tr>\n",
       "    <tr>\n",
       "      <th>99</th>\n",
       "      <td>https://web.archive.org/web/20221101135642/htt...</td>\n",
       "      <td>Accessibility</td>\n",
       "      <td>True</td>\n",
       "      <td>259.046875</td>\n",
       "      <td>9119.171875</td>\n",
       "      <td>79.906250</td>\n",
       "      <td>20.0</td>\n",
       "      <td>Accessibility</td>\n",
       "      <td>20221101135642</td>\n",
       "    </tr>\n",
       "    <tr>\n",
       "      <th>100</th>\n",
       "      <td>https://web.archive.org/web/20221101135642/htt...</td>\n",
       "      <td>Terms of Service</td>\n",
       "      <td>True</td>\n",
       "      <td>770.171875</td>\n",
       "      <td>9119.171875</td>\n",
       "      <td>101.921875</td>\n",
       "      <td>20.0</td>\n",
       "      <td>Terms of Service</td>\n",
       "      <td>20221101135642</td>\n",
       "    </tr>\n",
       "    <tr>\n",
       "      <th>101</th>\n",
       "      <td>https://web.archive.org/web/20221101135642/htt...</td>\n",
       "      <td>Terms of Sale</td>\n",
       "      <td>True</td>\n",
       "      <td>872.093750</td>\n",
       "      <td>9119.171875</td>\n",
       "      <td>87.250000</td>\n",
       "      <td>20.0</td>\n",
       "      <td>Terms of Sale</td>\n",
       "      <td>20221101135642</td>\n",
       "    </tr>\n",
       "  </tbody>\n",
       "</table>\n",
       "<p>102 rows × 9 columns</p>\n",
       "</div>"
      ],
      "text/plain": [
       "                                                  href  \\\n",
       "0    file:///Users/alex/Projects/usc-research/newsw...   \n",
       "1    file:///Users/alex/Projects/usc-research/newsw...   \n",
       "2    file:///Users/alex/Projects/usc-research/newsw...   \n",
       "3    file:///Users/alex/Projects/usc-research/newsw...   \n",
       "4    file:///Users/alex/Projects/usc-research/newsw...   \n",
       "..                                                 ...   \n",
       "97   file:///Users/alex/Projects/usc-research/newsw...   \n",
       "98   https://web.archive.org/web/20221101135642/htt...   \n",
       "99   https://web.archive.org/web/20221101135642/htt...   \n",
       "100  https://web.archive.org/web/20221101135642/htt...   \n",
       "101  https://web.archive.org/web/20221101135642/htt...   \n",
       "\n",
       "                                 link_text  is_article           x  \\\n",
       "0          Continue reading the main story        True    0.000000   \n",
       "1                          Skip to content        True  156.906250   \n",
       "2                       Skip to site index        True  156.906250   \n",
       "3                                                 True    0.000000   \n",
       "4                                     U.S.        True   60.906250   \n",
       "..                                     ...         ...         ...   \n",
       "97         Continue reading the main story        True   45.906250   \n",
       "98    ©  2022   The New York Times Company        True  545.125000   \n",
       "99                           Accessibility        True  259.046875   \n",
       "100                       Terms of Service        True  770.171875   \n",
       "101                          Terms of Sale        True  872.093750   \n",
       "\n",
       "               y        width  height  \\\n",
       "0       8.000000  1280.000000   281.0   \n",
       "1     292.000000    25.000000    20.0   \n",
       "2     292.000000    25.000000    20.0   \n",
       "3       0.000000     0.000000     0.0   \n",
       "4     295.000000  1158.187500    27.0   \n",
       "..           ...          ...     ...   \n",
       "97   8759.171875  1188.187500   322.0   \n",
       "98   9091.171875   189.750000    13.0   \n",
       "99   9119.171875    79.906250    20.0   \n",
       "100  9119.171875   101.921875    20.0   \n",
       "101  9119.171875    87.250000    20.0   \n",
       "\n",
       "                                           all_text         datestr  \n",
       "0                   Continue reading the main story  20221101135642  \n",
       "1                                   Skip to content  20221101135642  \n",
       "2                                Skip to site index  20221101135642  \n",
       "3                                                    20221101135642  \n",
       "4              U.S. International Canada Español 中文  20221101135642  \n",
       "..                                              ...             ...  \n",
       "97    Advertisement Continue reading the main story  20221101135642  \n",
       "98             ©  2022   The New York Times Company  20221101135642  \n",
       "99                                    Accessibility  20221101135642  \n",
       "100                                Terms of Service  20221101135642  \n",
       "101                                   Terms of Sale  20221101135642  \n",
       "\n",
       "[102 rows x 9 columns]"
      ]
     },
     "execution_count": 776,
     "metadata": {},
     "output_type": "execute_result"
    }
   ],
   "source": [
    "all_bounding_box_dfs[0]"
   ]
  },
  {
   "cell_type": "code",
   "execution_count": null,
   "id": "74ad7684",
   "metadata": {},
   "outputs": [],
   "source": []
  },
  {
   "cell_type": "code",
   "execution_count": 661,
   "id": "f24f58d3",
   "metadata": {},
   "outputs": [],
   "source": [
    "t = list(filter(lambda df: ~df['href'].str.startswith('https://web.archive.org').any(), full_page_layout_dfs))"
   ]
  },
  {
   "cell_type": "code",
   "execution_count": 662,
   "id": "bd872674",
   "metadata": {},
   "outputs": [
    {
     "data": {
      "text/plain": [
       "86"
      ]
     },
     "execution_count": 662,
     "metadata": {},
     "output_type": "execute_result"
    }
   ],
   "source": [
    "len(t)"
   ]
  },
  {
   "cell_type": "code",
   "execution_count": 707,
   "id": "376aa40c",
   "metadata": {},
   "outputs": [],
   "source": [
    "full_page_layout_dfs = list(filter(\n",
    "    lambda df: df['width'].round().value_counts().pipe(entropy) > 2, all_bounding_box_dfs\n",
    "))\n",
    "\n",
    "full_page_layout_dfs = list(filter(\n",
    "    lambda df: df['href'].str.startswith('https://web.archive.org').any(), full_page_layout_dfs))\n",
    "\n",
    "full_page_layout_dfs = list(map(lambda df: \n",
    "    df.loc[lambda df: df['href'].str.startswith('https://web.archive.org')]\n",
    "      .assign(site_urls=lambda df: df['href'].str.split('/\\d{14}/').str.get(1))\n",
    ", full_page_layout_dfs))\n",
    "\n",
    "full_page_layout_dfs = sorted(full_page_layout_dfs, key=lambda x: x.iloc[0]['datestr'])"
   ]
  },
  {
   "cell_type": "code",
   "execution_count": 708,
   "id": "6bccd859",
   "metadata": {},
   "outputs": [],
   "source": [
    "wayback_links = pd.concat(full_page_layout_dfs)"
   ]
  },
  {
   "cell_type": "code",
   "execution_count": 709,
   "id": "d1867cac",
   "metadata": {},
   "outputs": [
    {
     "data": {
      "text/plain": [
       "https://www.nytimes.com/live/2022/11/02/us/elections-midterms                                                     427\n",
       "https://www.nytimes.com/interactive/2021/us/covid-cases-deaths-tracker.html                                       418\n",
       "https://help.nytimes.com/hc/en-us/articles/115014792127-Copyright-notice                                          418\n",
       "https://help.nytimes.com/hc/en-us/articles/115014893968-Terms-of-sale                                             418\n",
       "https://help.nytimes.com/hc/en-us/articles/115015727108-Accessibility                                             418\n",
       "                                                                                                                 ... \n",
       "https://www.nytimes.com/live/2022/11/01/us/elections-midterms#a-worrisome-pattern-is-re-emerging-for-pollsters      1\n",
       "https://www.nytimes.com/live/2022/11/02/us/elections-midterms#ny-lee-zeldin-profile-governor                        1\n",
       "https://www.nytimes.com/live/2022/11/03/us/elections-midterms#trump-iowa-rally-midterms                             1\n",
       "https://www.nytimes.com/live/2022/11/03/us/elections-midterms#how-early-voting                                      1\n",
       "https://www.nytimes.com/live/2022/11/03/us/elections-midterms#nevada-senate-cortez-masto-laxalt                     1\n",
       "Name: site_urls, Length: 533, dtype: int64"
      ]
     },
     "execution_count": 709,
     "metadata": {},
     "output_type": "execute_result"
    }
   ],
   "source": [
    "wayback_links['site_urls'].value_counts()"
   ]
  },
  {
   "cell_type": "code",
   "execution_count": 710,
   "id": "c90acfab",
   "metadata": {},
   "outputs": [],
   "source": [
    "t = 'https://www.nytimes.com/2022/11/01/well/better-sleep-tips.html'"
   ]
  },
  {
   "cell_type": "code",
   "execution_count": 770,
   "id": "6cd2fee9",
   "metadata": {},
   "outputs": [],
   "source": [
    "page_width_height_df = pd.DataFrame(all_height_width)"
   ]
  },
  {
   "cell_type": "code",
   "execution_count": 772,
   "id": "1feadc35",
   "metadata": {},
   "outputs": [
    {
     "data": {
      "text/html": [
       "<div>\n",
       "<style scoped>\n",
       "    .dataframe tbody tr th:only-of-type {\n",
       "        vertical-align: middle;\n",
       "    }\n",
       "\n",
       "    .dataframe tbody tr th {\n",
       "        vertical-align: top;\n",
       "    }\n",
       "\n",
       "    .dataframe thead th {\n",
       "        text-align: right;\n",
       "    }\n",
       "</style>\n",
       "<table border=\"1\" class=\"dataframe\">\n",
       "  <thead>\n",
       "    <tr style=\"text-align: right;\">\n",
       "      <th></th>\n",
       "      <th>href</th>\n",
       "      <th>link_text</th>\n",
       "      <th>is_article</th>\n",
       "      <th>x</th>\n",
       "      <th>y</th>\n",
       "      <th>width_x</th>\n",
       "      <th>height_x</th>\n",
       "      <th>all_text</th>\n",
       "      <th>datestr</th>\n",
       "      <th>site_urls</th>\n",
       "      <th>height_y</th>\n",
       "      <th>width_y</th>\n",
       "      <th>key</th>\n",
       "    </tr>\n",
       "  </thead>\n",
       "  <tbody>\n",
       "    <tr>\n",
       "      <th>0</th>\n",
       "      <td>https://web.archive.org/web/20221101000458/htt...</td>\n",
       "      <td>U.S. Midterm Elections Oct. 31, 2022, 7:49 p....</td>\n",
       "      <td>True</td>\n",
       "      <td>495.203125</td>\n",
       "      <td>448.000000</td>\n",
       "      <td>184.875000</td>\n",
       "      <td>16.296875</td>\n",
       "      <td>U.S. Midterm Elections Oct. 31, 2022, 7:49 p....</td>\n",
       "      <td>20221101000458</td>\n",
       "      <td>https://www.nytimes.com/live/2022/10/31/us/ele...</td>\n",
       "      <td>10075</td>\n",
       "      <td>1280</td>\n",
       "      <td>20221101000458</td>\n",
       "    </tr>\n",
       "    <tr>\n",
       "      <th>1</th>\n",
       "      <td>https://web.archive.org/web/20221101000458/htt...</td>\n",
       "      <td>U.S. Midterm Elections Oct. 31, 2022, 7:49 p....</td>\n",
       "      <td>True</td>\n",
       "      <td>495.203125</td>\n",
       "      <td>448.000000</td>\n",
       "      <td>184.875000</td>\n",
       "      <td>16.296875</td>\n",
       "      <td>U.S. Midterm Elections Oct. 31, 2022, 7:49 p....</td>\n",
       "      <td>20221101000458</td>\n",
       "      <td>https://www.nytimes.com/live/2022/10/31/us/ele...</td>\n",
       "      <td>10075</td>\n",
       "      <td>1280</td>\n",
       "      <td>20221101000458</td>\n",
       "    </tr>\n",
       "    <tr>\n",
       "      <th>2</th>\n",
       "      <td>https://web.archive.org/web/20221101000458/htt...</td>\n",
       "      <td>Brazil Election Oct. 31, 2022, 7:30 p.m. ET</td>\n",
       "      <td>True</td>\n",
       "      <td>700.078125</td>\n",
       "      <td>448.000000</td>\n",
       "      <td>133.578125</td>\n",
       "      <td>16.296875</td>\n",
       "      <td>Brazil Election Oct. 31, 2022, 7:30 p.m. ET</td>\n",
       "      <td>20221101000458</td>\n",
       "      <td>https://www.nytimes.com/live/2022/10/31/world/...</td>\n",
       "      <td>10075</td>\n",
       "      <td>1280</td>\n",
       "      <td>20221101000458</td>\n",
       "    </tr>\n",
       "    <tr>\n",
       "      <th>3</th>\n",
       "      <td>https://web.archive.org/web/20221101000458/htt...</td>\n",
       "      <td>Brazil Election Oct. 31, 2022, 7:30 p.m. ET</td>\n",
       "      <td>True</td>\n",
       "      <td>700.078125</td>\n",
       "      <td>448.000000</td>\n",
       "      <td>133.578125</td>\n",
       "      <td>16.296875</td>\n",
       "      <td>Brazil Election Oct. 31, 2022, 7:30 p.m. ET</td>\n",
       "      <td>20221101000458</td>\n",
       "      <td>https://www.nytimes.com/live/2022/10/31/world/...</td>\n",
       "      <td>10075</td>\n",
       "      <td>1280</td>\n",
       "      <td>20221101000458</td>\n",
       "    </tr>\n",
       "    <tr>\n",
       "      <th>4</th>\n",
       "      <td>https://web.archive.org/web/20221101000458/htt...</td>\n",
       "      <td>Man Planned to Kidnap Nancy Pelosi and Break ...</td>\n",
       "      <td>True</td>\n",
       "      <td>45.906250</td>\n",
       "      <td>501.296875</td>\n",
       "      <td>288.281250</td>\n",
       "      <td>281.687500</td>\n",
       "      <td>Man Planned to Kidnap Nancy Pelosi and Break ...</td>\n",
       "      <td>20221101000458</td>\n",
       "      <td>https://www.nytimes.com/2022/10/31/us/pelosi-h...</td>\n",
       "      <td>10075</td>\n",
       "      <td>1280</td>\n",
       "      <td>20221101000458</td>\n",
       "    </tr>\n",
       "    <tr>\n",
       "      <th>...</th>\n",
       "      <td>...</td>\n",
       "      <td>...</td>\n",
       "      <td>...</td>\n",
       "      <td>...</td>\n",
       "      <td>...</td>\n",
       "      <td>...</td>\n",
       "      <td>...</td>\n",
       "      <td>...</td>\n",
       "      <td>...</td>\n",
       "      <td>...</td>\n",
       "      <td>...</td>\n",
       "      <td>...</td>\n",
       "      <td>...</td>\n",
       "    </tr>\n",
       "    <tr>\n",
       "      <th>36126</th>\n",
       "      <td>https://web.archive.org/web/20221104002021/htt...</td>\n",
       "      <td>The Best First Wordle Words What the data tel...</td>\n",
       "      <td>True</td>\n",
       "      <td>45.906250</td>\n",
       "      <td>8214.687500</td>\n",
       "      <td>1188.187500</td>\n",
       "      <td>270.437500</td>\n",
       "      <td>Play Spelling Bee How many words can you make...</td>\n",
       "      <td>20221104002021</td>\n",
       "      <td>https://www.nytimes.com/2022/09/01/crosswords/...</td>\n",
       "      <td>8917</td>\n",
       "      <td>1280</td>\n",
       "      <td>20221104002021</td>\n",
       "    </tr>\n",
       "    <tr>\n",
       "      <th>36127</th>\n",
       "      <td>https://web.archive.org/web/20221104002021/htt...</td>\n",
       "      <td>©  2022   The New York Times Company</td>\n",
       "      <td>True</td>\n",
       "      <td>545.125000</td>\n",
       "      <td>8817.125000</td>\n",
       "      <td>189.750000</td>\n",
       "      <td>13.000000</td>\n",
       "      <td>©  2022   The New York Times Company</td>\n",
       "      <td>20221104002021</td>\n",
       "      <td>https://help.nytimes.com/hc/en-us/articles/115...</td>\n",
       "      <td>8917</td>\n",
       "      <td>1280</td>\n",
       "      <td>20221104002021</td>\n",
       "    </tr>\n",
       "    <tr>\n",
       "      <th>36128</th>\n",
       "      <td>https://web.archive.org/web/20221104002021/htt...</td>\n",
       "      <td>Accessibility</td>\n",
       "      <td>True</td>\n",
       "      <td>259.046875</td>\n",
       "      <td>8845.125000</td>\n",
       "      <td>79.906250</td>\n",
       "      <td>20.000000</td>\n",
       "      <td>Accessibility</td>\n",
       "      <td>20221104002021</td>\n",
       "      <td>https://help.nytimes.com/hc/en-us/articles/115...</td>\n",
       "      <td>8917</td>\n",
       "      <td>1280</td>\n",
       "      <td>20221104002021</td>\n",
       "    </tr>\n",
       "    <tr>\n",
       "      <th>36129</th>\n",
       "      <td>https://web.archive.org/web/20221104002021/htt...</td>\n",
       "      <td>Terms of Service</td>\n",
       "      <td>True</td>\n",
       "      <td>770.171875</td>\n",
       "      <td>8845.125000</td>\n",
       "      <td>101.921875</td>\n",
       "      <td>20.000000</td>\n",
       "      <td>Terms of Service</td>\n",
       "      <td>20221104002021</td>\n",
       "      <td>https://help.nytimes.com/hc/en-us/articles/115...</td>\n",
       "      <td>8917</td>\n",
       "      <td>1280</td>\n",
       "      <td>20221104002021</td>\n",
       "    </tr>\n",
       "    <tr>\n",
       "      <th>36130</th>\n",
       "      <td>https://web.archive.org/web/20221104002021/htt...</td>\n",
       "      <td>Terms of Sale</td>\n",
       "      <td>True</td>\n",
       "      <td>872.093750</td>\n",
       "      <td>8845.125000</td>\n",
       "      <td>87.250000</td>\n",
       "      <td>20.000000</td>\n",
       "      <td>Terms of Sale</td>\n",
       "      <td>20221104002021</td>\n",
       "      <td>https://help.nytimes.com/hc/en-us/articles/115...</td>\n",
       "      <td>8917</td>\n",
       "      <td>1280</td>\n",
       "      <td>20221104002021</td>\n",
       "    </tr>\n",
       "  </tbody>\n",
       "</table>\n",
       "<p>36131 rows × 13 columns</p>\n",
       "</div>"
      ],
      "text/plain": [
       "                                                    href  \\\n",
       "0      https://web.archive.org/web/20221101000458/htt...   \n",
       "1      https://web.archive.org/web/20221101000458/htt...   \n",
       "2      https://web.archive.org/web/20221101000458/htt...   \n",
       "3      https://web.archive.org/web/20221101000458/htt...   \n",
       "4      https://web.archive.org/web/20221101000458/htt...   \n",
       "...                                                  ...   \n",
       "36126  https://web.archive.org/web/20221104002021/htt...   \n",
       "36127  https://web.archive.org/web/20221104002021/htt...   \n",
       "36128  https://web.archive.org/web/20221104002021/htt...   \n",
       "36129  https://web.archive.org/web/20221104002021/htt...   \n",
       "36130  https://web.archive.org/web/20221104002021/htt...   \n",
       "\n",
       "                                               link_text  is_article  \\\n",
       "0       U.S. Midterm Elections Oct. 31, 2022, 7:49 p....        True   \n",
       "1       U.S. Midterm Elections Oct. 31, 2022, 7:49 p....        True   \n",
       "2            Brazil Election Oct. 31, 2022, 7:30 p.m. ET        True   \n",
       "3            Brazil Election Oct. 31, 2022, 7:30 p.m. ET        True   \n",
       "4       Man Planned to Kidnap Nancy Pelosi and Break ...        True   \n",
       "...                                                  ...         ...   \n",
       "36126   The Best First Wordle Words What the data tel...        True   \n",
       "36127               ©  2022   The New York Times Company        True   \n",
       "36128                                      Accessibility        True   \n",
       "36129                                   Terms of Service        True   \n",
       "36130                                      Terms of Sale        True   \n",
       "\n",
       "                x            y      width_x    height_x  \\\n",
       "0      495.203125   448.000000   184.875000   16.296875   \n",
       "1      495.203125   448.000000   184.875000   16.296875   \n",
       "2      700.078125   448.000000   133.578125   16.296875   \n",
       "3      700.078125   448.000000   133.578125   16.296875   \n",
       "4       45.906250   501.296875   288.281250  281.687500   \n",
       "...           ...          ...          ...         ...   \n",
       "36126   45.906250  8214.687500  1188.187500  270.437500   \n",
       "36127  545.125000  8817.125000   189.750000   13.000000   \n",
       "36128  259.046875  8845.125000    79.906250   20.000000   \n",
       "36129  770.171875  8845.125000   101.921875   20.000000   \n",
       "36130  872.093750  8845.125000    87.250000   20.000000   \n",
       "\n",
       "                                                all_text         datestr  \\\n",
       "0       U.S. Midterm Elections Oct. 31, 2022, 7:49 p....  20221101000458   \n",
       "1       U.S. Midterm Elections Oct. 31, 2022, 7:49 p....  20221101000458   \n",
       "2            Brazil Election Oct. 31, 2022, 7:30 p.m. ET  20221101000458   \n",
       "3            Brazil Election Oct. 31, 2022, 7:30 p.m. ET  20221101000458   \n",
       "4       Man Planned to Kidnap Nancy Pelosi and Break ...  20221101000458   \n",
       "...                                                  ...             ...   \n",
       "36126   Play Spelling Bee How many words can you make...  20221104002021   \n",
       "36127               ©  2022   The New York Times Company  20221104002021   \n",
       "36128                                      Accessibility  20221104002021   \n",
       "36129                                   Terms of Service  20221104002021   \n",
       "36130                                      Terms of Sale  20221104002021   \n",
       "\n",
       "                                               site_urls  height_y  width_y  \\\n",
       "0      https://www.nytimes.com/live/2022/10/31/us/ele...     10075     1280   \n",
       "1      https://www.nytimes.com/live/2022/10/31/us/ele...     10075     1280   \n",
       "2      https://www.nytimes.com/live/2022/10/31/world/...     10075     1280   \n",
       "3      https://www.nytimes.com/live/2022/10/31/world/...     10075     1280   \n",
       "4      https://www.nytimes.com/2022/10/31/us/pelosi-h...     10075     1280   \n",
       "...                                                  ...       ...      ...   \n",
       "36126  https://www.nytimes.com/2022/09/01/crosswords/...      8917     1280   \n",
       "36127  https://help.nytimes.com/hc/en-us/articles/115...      8917     1280   \n",
       "36128  https://help.nytimes.com/hc/en-us/articles/115...      8917     1280   \n",
       "36129  https://help.nytimes.com/hc/en-us/articles/115...      8917     1280   \n",
       "36130  https://help.nytimes.com/hc/en-us/articles/115...      8917     1280   \n",
       "\n",
       "                  key  \n",
       "0      20221101000458  \n",
       "1      20221101000458  \n",
       "2      20221101000458  \n",
       "3      20221101000458  \n",
       "4      20221101000458  \n",
       "...               ...  \n",
       "36126  20221104002021  \n",
       "36127  20221104002021  \n",
       "36128  20221104002021  \n",
       "36129  20221104002021  \n",
       "36130  20221104002021  \n",
       "\n",
       "[36131 rows x 13 columns]"
      ]
     },
     "execution_count": 772,
     "metadata": {},
     "output_type": "execute_result"
    }
   ],
   "source": [
    "(wayback_links\n",
    " .merge(page_width_height_df, right_on='key', left_on='datestr')\n",
    ")"
   ]
  },
  {
   "cell_type": "code",
   "execution_count": 744,
   "id": "278929e2",
   "metadata": {},
   "outputs": [],
   "source": [
    "t2 = (wayback_links\n",
    " .loc[lambda df: df['site_urls'] == t]\n",
    "  [['x', 'y']]\n",
    " .pipe(lambda df: pd.DataFrame(list(zip(df.iloc[:-1].itertuples(), df.iloc[1:].itertuples()))))\n",
    " .pipe(lambda df: pd.concat([\n",
    "     df.apply(lambda x: x[1].x - x[0].x, axis=1).to_frame('x'),\n",
    "     df.apply(lambda x: x[1].y - x[0].y, axis=1).to_frame('y'),\n",
    " ], axis=1))\n",
    ")"
   ]
  },
  {
   "cell_type": "code",
   "execution_count": 762,
   "id": "62078b5a",
   "metadata": {},
   "outputs": [
    {
     "data": {
      "text/plain": [
       "(-641.33671875, 30.539843750000003)"
      ]
     },
     "execution_count": 762,
     "metadata": {},
     "output_type": "execute_result"
    },
    {
     "data": {
      "image/png": "[encoded data removed]",
      "text/plain": [
       "<Figure size 640x480 with 1 Axes>"
      ]
     },
     "metadata": {},
     "output_type": "display_data"
    }
   ],
   "source": [
    "plt.scatter(t2['x'], t2['y'], alpha=1 - ((t2.index+ 1)/ 206))\n",
    "xmin, xmax = plt.xlim()\n",
    "plt.hlines(0, xmin, xmax)\n",
    "plt.xlim(xmin, xmax)"
   ]
  },
  {
   "cell_type": "code",
   "execution_count": 693,
   "id": "fcce2f14",
   "metadata": {},
   "outputs": [
    {
     "data": {
      "image/png": "[encoded data removed]",
      "text/plain": [
       "<Figure size 640x480 with 1 Axes>"
      ]
     },
     "metadata": {},
     "output_type": "display_data"
    }
   ],
   "source": [
    "link_dfs = list(filter(lambda df: (df['site_urls'] == t).any(), full_page_layout_dfs))\n",
    "bb_df = link_dfs[14]\n",
    "\n",
    "xmax = bb_df['x'].max()\n",
    "ymax = bb_df['y'].max()\n",
    "\n",
    "fig, ax = plt.subplots()\n",
    "ax.set_ylim((0, ymax))\n",
    "ax.set_xlim((0, xmax))\n",
    "\n",
    "for i, b in bb_df.iterrows():\n",
    "    alpha=.2\n",
    "    edgecolor=None\n",
    "    if (b['site_urls'] == t):\n",
    "        alpha=.8\n",
    "        edgecolor='black'\n",
    "    ax.add_patch(\n",
    "        Rectangle(\n",
    "            xy=(b['x'], ymax - b['y'] - b['height']), \n",
    "            width=b['width'], \n",
    "            height=b['height'],\n",
    "            alpha=alpha,\n",
    "            edgecolor=edgecolor\n",
    "        )\n",
    "    )\n",
    "plt.title(datetime.strptime(bb_df['datestr'].iloc[0], '%Y%m%d%H%M%S'))\n",
    "plt.show()"
   ]
  },
  {
   "cell_type": "code",
   "execution_count": null,
   "id": "cd693320",
   "metadata": {},
   "outputs": [],
   "source": []
  },
  {
   "cell_type": "code",
   "execution_count": null,
   "id": "5ca80b31",
   "metadata": {},
   "outputs": [],
   "source": []
  },
  {
   "cell_type": "code",
   "execution_count": null,
   "id": "a3aa29b5",
   "metadata": {},
   "outputs": [],
   "source": []
  },
  {
   "cell_type": "code",
   "execution_count": null,
   "id": "02a38604",
   "metadata": {},
   "outputs": [],
   "source": []
  },
  {
   "cell_type": "markdown",
   "id": "e9d450e6",
   "metadata": {},
   "source": [
    "# Checks"
   ]
  },
  {
   "cell_type": "code",
   "execution_count": 357,
   "id": "8c667561",
   "metadata": {},
   "outputs": [],
   "source": [
    "await bb.add_visual_bounding_boxes(page)"
   ]
  },
  {
   "cell_type": "code",
   "execution_count": 533,
   "id": "f8627a8a",
   "metadata": {
    "scrolled": false
   },
   "outputs": [
    {
     "data": {
      "image/png": "[encoded data removed]",
      "text/plain": [
       "<Figure size 640x480 with 1 Axes>"
      ]
     },
     "metadata": {},
     "output_type": "display_data"
    }
   ],
   "source": [
    "bb_df = all_bounding_box_dfs[12]\n",
    "\n",
    "xmax = bb_df['x'].max()\n",
    "ymax = bb_df['y'].max()\n",
    "\n",
    "fig, ax = plt.subplots()\n",
    "ax.set_ylim((0, ymax))\n",
    "ax.set_xlim((0, xmax))\n",
    "\n",
    "for i, b in bb_df.iterrows():\n",
    "    ax.add_patch(Rectangle((b['x'], ymax - b['y'] - b['height']), b['width'], b['height'], alpha=.2))\n",
    "plt.show()"
   ]
  },
  {
   "cell_type": "code",
   "execution_count": null,
   "id": "bba09605",
   "metadata": {},
   "outputs": [],
   "source": []
  },
  {
   "cell_type": "code",
   "execution_count": null,
   "id": "e00994aa",
   "metadata": {},
   "outputs": [],
   "source": []
  },
  {
   "cell_type": "code",
   "execution_count": null,
   "id": "9881129a",
   "metadata": {},
   "outputs": [],
   "source": []
  },
  {
   "cell_type": "code",
   "execution_count": null,
   "id": "923dc84e",
   "metadata": {},
   "outputs": [],
   "source": []
  }
 ],
 "metadata": {
  "hide_input": false,
  "kernelspec": {
   "display_name": "Python 3 (ipykernel)",
   "language": "python",
   "name": "python3"
  },
  "language_info": {
   "codemirror_mode": {
    "name": "ipython",
    "version": 3
   },
   "file_extension": ".py",
   "mimetype": "text/x-python",
   "name": "python",
   "nbconvert_exporter": "python",
   "pygments_lexer": "ipython3",
   "version": "3.10.9"
  }
 },
 "nbformat": 4,
 "nbformat_minor": 5
}
