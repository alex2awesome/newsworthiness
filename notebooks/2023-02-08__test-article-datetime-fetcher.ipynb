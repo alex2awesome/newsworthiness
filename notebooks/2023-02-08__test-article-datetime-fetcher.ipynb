{
 "cells": [
  {
   "cell_type": "code",
   "execution_count": 35,
   "id": "18977e7a",
   "metadata": {},
   "outputs": [],
   "source": [
    "import pandas as pd\n",
    "from newspaper import Article\n",
    "\n",
    "url = 'http://fox13now.com/2013/12/30/new-year-new-laws-obamacare-pot-guns-and-drones/'\n",
    "article = Article(url)\n",
    "article.download()\n",
    "article.parse()\n",
    "article.publish_date"
   ]
  },
  {
   "cell_type": "code",
   "execution_count": 10,
   "id": "e7c9affe",
   "metadata": {},
   "outputs": [],
   "source": [
    "hyperlink_df = pd.read_csv('/Users/spangher/Downloads/hyperlink-files.csv')"
   ]
  },
  {
   "cell_type": "markdown",
   "id": "0c2d5fe7",
   "metadata": {},
   "source": [
    "# This way seems like the best way"
   ]
  },
  {
   "cell_type": "code",
   "execution_count": 42,
   "id": "6d050fd9",
   "metadata": {},
   "outputs": [
    {
     "data": {
      "text/plain": [
       "'https://archive.org/download/amarujalanews-2023/amarujalanews-2023-01-01T06:26:45.732182+05:30.hyperlinks.json'"
      ]
     },
     "execution_count": 42,
     "metadata": {},
     "output_type": "execute_result"
    }
   ],
   "source": [
    "one_hyperlink_file"
   ]
  },
  {
   "cell_type": "code",
   "execution_count": 14,
   "id": "6c96af33",
   "metadata": {},
   "outputs": [],
   "source": [
    "one_hyperlink_file = hyperlink_df['url'].iloc[0]"
   ]
  },
  {
   "cell_type": "code",
   "execution_count": 55,
   "id": "76409ca2",
   "metadata": {},
   "outputs": [
    {
     "data": {
      "text/plain": [
       "'/india-news/happy-new-year-2023-live-updates-people-celebrating-new-year-in-india?src=big-story&position=1'"
      ]
     },
     "execution_count": 55,
     "metadata": {},
     "output_type": "execute_result"
    }
   ],
   "source": [
    "links_df.loc[15]['url']"
   ]
  },
  {
   "cell_type": "code",
   "execution_count": 58,
   "id": "61a09a24",
   "metadata": {},
   "outputs": [],
   "source": [
    "url = 'https://www.amarujala.com/india-news/happy-new-year-2023-live-updates-people-celebrating-new-year-in-india'"
   ]
  },
  {
   "cell_type": "code",
   "execution_count": 71,
   "id": "bd3db106",
   "metadata": {},
   "outputs": [],
   "source": [
    "for_cdx = f'http://web.archive.org/cdx/search/cdx?url={url}&output=json'"
   ]
  },
  {
   "cell_type": "code",
   "execution_count": 73,
   "id": "744b7b3d",
   "metadata": {},
   "outputs": [],
   "source": [
    "resp = requests.get(for_cdx)"
   ]
  },
  {
   "cell_type": "code",
   "execution_count": 76,
   "id": "55c8c903",
   "metadata": {},
   "outputs": [
    {
     "data": {
      "text/plain": [
       "[['urlkey',\n",
       "  'timestamp',\n",
       "  'original',\n",
       "  'mimetype',\n",
       "  'statuscode',\n",
       "  'digest',\n",
       "  'length'],\n",
       " ['com,amarujala)/india-news/happy-new-year-2023-live-updates-people-celebrating-new-year-in-india',\n",
       "  '20221231185731',\n",
       "  'https://www.amarujala.com/india-news/happy-new-year-2023-live-updates-people-celebrating-new-year-in-india',\n",
       "  'text/html',\n",
       "  '200',\n",
       "  '6TMU6MS5CCRLDMPABEQ35PVMR3S5ZSQ2',\n",
       "  '141375'],\n",
       " ['com,amarujala)/india-news/happy-new-year-2023-live-updates-people-celebrating-new-year-in-india',\n",
       "  '20230101053638',\n",
       "  'https://www.amarujala.com/india-news/happy-new-year-2023-live-updates-people-celebrating-new-year-in-india',\n",
       "  'text/html',\n",
       "  '200',\n",
       "  'HAHUR2BJXV2EESEQWQZC7DHBFOGKSVD7',\n",
       "  '3193779'],\n",
       " ['com,amarujala)/india-news/happy-new-year-2023-live-updates-people-celebrating-new-year-in-india',\n",
       "  '20230101070121',\n",
       "  'https://www.amarujala.com/india-news/happy-new-year-2023-live-updates-people-celebrating-new-year-in-india',\n",
       "  'text/html',\n",
       "  '200',\n",
       "  'VMTQRQATBGPNRGI6WLIJGUKCVWVX6RU6',\n",
       "  '3193782']]"
      ]
     },
     "execution_count": 76,
     "metadata": {},
     "output_type": "execute_result"
    }
   ],
   "source": [
    "json.loads(resp.text)"
   ]
  },
  {
   "cell_type": "code",
   "execution_count": null,
   "id": "86f7a714",
   "metadata": {},
   "outputs": [],
   "source": []
  },
  {
   "cell_type": "code",
   "execution_count": null,
   "id": "ef080ba0",
   "metadata": {},
   "outputs": [],
   "source": []
  },
  {
   "cell_type": "code",
   "execution_count": null,
   "id": "cfca5416",
   "metadata": {},
   "outputs": [],
   "source": []
  },
  {
   "cell_type": "markdown",
   "id": "e2b4d78c",
   "metadata": {},
   "source": [
    "# This way is unreliable"
   ]
  },
  {
   "cell_type": "code",
   "execution_count": 20,
   "id": "336a5666",
   "metadata": {},
   "outputs": [],
   "source": [
    "import requests\n",
    "import json"
   ]
  },
  {
   "cell_type": "code",
   "execution_count": 18,
   "id": "2b098b48",
   "metadata": {},
   "outputs": [],
   "source": [
    "resp = requests.get( one_hyperlink_file)"
   ]
  },
  {
   "cell_type": "code",
   "execution_count": 22,
   "id": "3faff469",
   "metadata": {},
   "outputs": [],
   "source": [
    "links_df = pd.DataFrame(json.loads(resp.text))"
   ]
  },
  {
   "cell_type": "code",
   "execution_count": 28,
   "id": "787dc003",
   "metadata": {},
   "outputs": [],
   "source": [
    "base = links_df['url'].iloc[0]"
   ]
  },
  {
   "cell_type": "code",
   "execution_count": 33,
   "id": "41aff72e",
   "metadata": {},
   "outputs": [],
   "source": [
    "links = base + links_df.iloc[1:]['url']"
   ]
  },
  {
   "cell_type": "code",
   "execution_count": 37,
   "id": "6ecb56fc",
   "metadata": {},
   "outputs": [],
   "source": [
    "from tqdm.auto import tqdm"
   ]
  },
  {
   "cell_type": "code",
   "execution_count": 38,
   "id": "a85631fd",
   "metadata": {},
   "outputs": [
    {
     "data": {
      "application/vnd.jupyter.widget-view+json": {
       "model_id": "98863e6067d64bb487f52a3da2d87b19",
       "version_major": 2,
       "version_minor": 0
      },
      "text/plain": [
       "  0%|          | 0/159 [00:00<?, ?it/s]"
      ]
     },
     "metadata": {},
     "output_type": "display_data"
    }
   ],
   "source": [
    "link_dates = [] \n",
    "for l in tqdm(links):\n",
    "    article = Article(url)\n",
    "    article.download()\n",
    "    article.parse()\n",
    "    pub_d = article.publish_date\n",
    "    link_dates.append({'url': l, 'pub_date': pub_d})"
   ]
  },
  {
   "cell_type": "code",
   "execution_count": null,
   "id": "0307a388",
   "metadata": {},
   "outputs": [],
   "source": []
  },
  {
   "cell_type": "code",
   "execution_count": null,
   "id": "a00abfe0",
   "metadata": {},
   "outputs": [],
   "source": []
  },
  {
   "cell_type": "code",
   "execution_count": null,
   "id": "ee4c3716",
   "metadata": {},
   "outputs": [],
   "source": []
  },
  {
   "cell_type": "code",
   "execution_count": null,
   "id": "7e504e26",
   "metadata": {},
   "outputs": [],
   "source": []
  },
  {
   "cell_type": "code",
   "execution_count": null,
   "id": "799cda01",
   "metadata": {},
   "outputs": [],
   "source": []
  },
  {
   "cell_type": "code",
   "execution_count": null,
   "id": "c917fc2b",
   "metadata": {},
   "outputs": [],
   "source": []
  }
 ],
 "metadata": {
  "kernelspec": {
   "display_name": "Python 3 (ipykernel)",
   "language": "python",
   "name": "python3"
  },
  "language_info": {
   "codemirror_mode": {
    "name": "ipython",
    "version": 3
   },
   "file_extension": ".py",
   "mimetype": "text/x-python",
   "name": "python",
   "nbconvert_exporter": "python",
   "pygments_lexer": "ipython3",
   "version": "3.9.12"
  }
 },
 "nbformat": 4,
 "nbformat_minor": 5
}
