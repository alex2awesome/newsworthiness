{
 "cells": [
  {
   "cell_type": "code",
   "execution_count": 371,
   "id": "4bbd3624",
   "metadata": {},
   "outputs": [],
   "source": [
    "import sys\n",
    "sys.path.insert(0, '../scripts/')"
   ]
  },
  {
   "cell_type": "code",
   "execution_count": 353,
   "id": "101ac84d",
   "metadata": {},
   "outputs": [],
   "source": [
    "import get_bounding_boxes_from_html as bb"
   ]
  },
  {
   "cell_type": "code",
   "execution_count": 354,
   "id": "ee30be91",
   "metadata": {},
   "outputs": [],
   "source": [
    "page, browser, playwright = await bb.instantiate_new_page_object(headless=False)"
   ]
  },
  {
   "cell_type": "code",
   "execution_count": 355,
   "id": "f689bf9f",
   "metadata": {},
   "outputs": [],
   "source": [
    "local_html_file = 'file:///Users/spangher/Projects/usc-research/newsworthiness/data/web.archive.org/web/20221201000259/nytimes.com/index.html'"
   ]
  },
  {
   "cell_type": "code",
   "execution_count": 356,
   "id": "0e518e5f",
   "metadata": {},
   "outputs": [
    {
     "data": {
      "text/plain": [
       "<Response url='file:///Users/spangher/Projects/usc-research/newsworthiness/data/web.archive.org/web/20221201000259/nytimes.com/index.html' request=<Request url='file:///Users/spangher/Projects/usc-research/newsworthiness/data/web.archive.org/web/20221201000259/nytimes.com/index.html' method='GET'>>"
      ]
     },
     "execution_count": 356,
     "metadata": {},
     "output_type": "execute_result"
    }
   ],
   "source": [
    "await page.goto(local_html_file)"
   ]
  },
  {
   "cell_type": "code",
   "execution_count": 357,
   "id": "32962ee0",
   "metadata": {},
   "outputs": [],
   "source": [
    "all_as = await page.locator('a').all()"
   ]
  },
  {
   "cell_type": "code",
   "execution_count": 360,
   "id": "4e0803cc",
   "metadata": {},
   "outputs": [
    {
     "data": {
      "text/plain": [
       "{'x': -1, 'y': 22, 'width': 1, 'height': 1}"
      ]
     },
     "execution_count": 360,
     "metadata": {},
     "output_type": "execute_result"
    }
   ],
   "source": [
    "await all_as[0].bounding_box()"
   ]
  },
  {
   "cell_type": "code",
   "execution_count": 365,
   "id": "2200a4df",
   "metadata": {},
   "outputs": [
    {
     "data": {
      "text/plain": [
       "{'x': -1,\n",
       " 'y': 22,\n",
       " 'width': 1,\n",
       " 'height': 1,\n",
       " 'top': 22,\n",
       " 'right': 0,\n",
       " 'bottom': 23,\n",
       " 'left': -1}"
      ]
     },
     "execution_count": 365,
     "metadata": {},
     "output_type": "execute_result"
    }
   ],
   "source": [
    "await all_as[0].evaluate('a => a.getBoundingClientRect()')"
   ]
  },
  {
   "cell_type": "code",
   "execution_count": 363,
   "id": "7a09ea62",
   "metadata": {},
   "outputs": [
    {
     "data": {
      "text/plain": [
       "'file:///Users/spangher/Projects/usc-research/newsworthiness/data/web.archive.org/web/20221201000259/nytimes.com/nytimes.com#after-dfp-ad-top'"
      ]
     },
     "execution_count": 363,
     "metadata": {},
     "output_type": "execute_result"
    }
   ],
   "source": [
    "await all_as[0].evaluate('a => a.href')"
   ]
  },
  {
   "cell_type": "code",
   "execution_count": 342,
   "id": "e073fe89",
   "metadata": {},
   "outputs": [
    {
     "data": {
      "text/plain": [
       "[<Locator frame=<Frame name= url='file:///Users/spangher/Projects/usc-research/newsworthiness/data/web.archive.org/web/20221201000259/nytimes.com/index.html'> selector='a >> nth=0 >> xpath=.. >> nth=0'>]"
      ]
     },
     "execution_count": 342,
     "metadata": {},
     "output_type": "execute_result"
    }
   ],
   "source": [
    "await all_as[0].locator('xpath=..').all()"
   ]
  },
  {
   "cell_type": "code",
   "execution_count": 343,
   "id": "562a91ea",
   "metadata": {},
   "outputs": [],
   "source": [
    "i = 0 \n",
    "a = a_links[i]"
   ]
  },
  {
   "cell_type": "code",
   "execution_count": 287,
   "id": "9a24aa66",
   "metadata": {},
   "outputs": [],
   "source": [
    "hrefs = [] \n",
    "for j in range(len(a_links)):\n",
    "    href_i = await ud.get_href(a_links[i])\n",
    "    hrefs.append(href_i)"
   ]
  },
  {
   "cell_type": "code",
   "execution_count": 284,
   "id": "823b3579",
   "metadata": {
    "scrolled": true
   },
   "outputs": [],
   "source": [
    "for j in range(len(a_links)):\n",
    "    href_i = await ud.get_href(a_links[i])\n",
    "    href_j = await ud.get_href(a_links[j])\n",
    "    if (i != j) and (href_i != href_j):\n",
    "        common_not_parent = await ud.get_common_parent(a, a_links[j], return_common=False)\n",
    "        cond = await ud.is_smaller_child(common_not_parent, curr_parent)\n",
    "        if cond:\n",
    "            curr_parent = common_not_parent"
   ]
  },
  {
   "cell_type": "code",
   "execution_count": 285,
   "id": "445aa460",
   "metadata": {},
   "outputs": [
    {
     "data": {
      "text/plain": [
       "<Locator frame=<Frame name= url='file:///Users/spangher/Projects/usc-research/newsworthiness/data/web.archive.org/web/20221201000259/nytimes.com/index.html'> selector='a >> nth=0 >> xpath=.. >> nth=0 >> xpath=.. >> nth=0 >> xpath=.. >> nth=0'>"
      ]
     },
     "execution_count": 285,
     "metadata": {},
     "output_type": "execute_result"
    }
   ],
   "source": [
    "await ud.get_highest_singular_parent(0, a_links)"
   ]
  },
  {
   "cell_type": "code",
   "execution_count": null,
   "id": "9a982bb4",
   "metadata": {},
   "outputs": [],
   "source": []
  },
  {
   "cell_type": "code",
   "execution_count": 218,
   "id": "be669c28",
   "metadata": {},
   "outputs": [],
   "source": [
    "import sys\n",
    "sys.path.insert(0, '../scripts/')"
   ]
  },
  {
   "cell_type": "code",
   "execution_count": 221,
   "id": "9099acdc",
   "metadata": {},
   "outputs": [],
   "source": [
    "import utils_dom_async as ud"
   ]
  },
  {
   "cell_type": "code",
   "execution_count": 227,
   "id": "a5f53f63",
   "metadata": {},
   "outputs": [],
   "source": [
    "from importlib import reload"
   ]
  },
  {
   "cell_type": "code",
   "execution_count": 214,
   "id": "651bdd03",
   "metadata": {},
   "outputs": [
    {
     "data": {
      "text/plain": [
       "'Continue reading the main story'"
      ]
     },
     "execution_count": 214,
     "metadata": {},
     "output_type": "execute_result"
    }
   ],
   "source": [
    "await all_as[0].evaluate(\"\"\"node => {\n",
    "        var iter = document.createNodeIterator(node, NodeFilter.SHOW_TEXT)\n",
    "        var textnode;\n",
    "        var output_text = ''\n",
    "    \n",
    "        // print all text nodes\n",
    "        while (textnode = iter.nextNode()) {\n",
    "          output_text = output_text + ' ' + textnode.textContent\n",
    "        }\n",
    "        return output_text.trim()\n",
    "    }\"\"\")"
   ]
  },
  {
   "cell_type": "code",
   "execution_count": 217,
   "id": "fc8a912e",
   "metadata": {},
   "outputs": [
    {
     "data": {
      "text/plain": [
       "{'x': 156.90625, 'y': 292, 'width': 25, 'height': 20}"
      ]
     },
     "execution_count": 217,
     "metadata": {},
     "output_type": "execute_result"
    }
   ],
   "source": [
    "await all_as[1].bounding_box()"
   ]
  },
  {
   "cell_type": "code",
   "execution_count": 302,
   "id": "9e60cdd7",
   "metadata": {},
   "outputs": [
    {
     "data": {
      "text/plain": [
       "<module 'utils_dom_async' from '/Users/spangher/Projects/usc-research/newsworthiness/notebooks/../scripts/utils_dom_async.py'>"
      ]
     },
     "execution_count": 302,
     "metadata": {},
     "output_type": "execute_result"
    }
   ],
   "source": [
    "reload(ud)"
   ]
  },
  {
   "cell_type": "code",
   "execution_count": 303,
   "id": "fdf11351",
   "metadata": {},
   "outputs": [
    {
     "name": "stderr",
     "output_type": "stream",
     "text": [
      "/Users/spangher/Projects/usc-research/newsworthiness/notebooks/../scripts/utils_dom_async.py:185: RuntimeWarning: coroutine 'get_href' was never awaited\n",
      "  all_as = await async_list(filter(lambda x: get_href(x) is not None, all_as))\n",
      "RuntimeWarning: Enable tracemalloc to get the object allocation traceback\n"
     ]
    },
    {
     "ename": "CancelledError",
     "evalue": "",
     "output_type": "error",
     "traceback": [
      "\u001b[0;31m---------------------------------------------------------------------------\u001b[0m",
      "\u001b[0;31mCancelledError\u001b[0m                            Traceback (most recent call last)",
      "Input \u001b[0;32mIn [303]\u001b[0m, in \u001b[0;36m<cell line: 1>\u001b[0;34m()\u001b[0m\n\u001b[0;32m----> 1\u001b[0m \u001b[38;5;28;01mawait\u001b[39;00m ud\u001b[38;5;241m.\u001b[39mget_top_divs_from_page(page)\n",
      "File \u001b[0;32m~/Projects/usc-research/newsworthiness/notebooks/../scripts/utils_dom_async.py:189\u001b[0m, in \u001b[0;36mget_top_divs_from_page\u001b[0;34m(page)\u001b[0m\n\u001b[1;32m    187\u001b[0m imgs \u001b[38;5;241m=\u001b[39m \u001b[38;5;28;01mawait\u001b[39;00m node\u001b[38;5;241m.\u001b[39mlocator(\u001b[38;5;124m'\u001b[39m\u001b[38;5;124mimg\u001b[39m\u001b[38;5;124m'\u001b[39m)\u001b[38;5;241m.\u001b[39mall()\n\u001b[1;32m    188\u001b[0m \u001b[38;5;28;01mfor\u001b[39;00m img \u001b[38;5;129;01min\u001b[39;00m imgs:\n\u001b[0;32m--> 189\u001b[0m     output \u001b[38;5;241m=\u001b[39m {}\n\u001b[1;32m    190\u001b[0m     bb_img \u001b[38;5;241m=\u001b[39m \u001b[38;5;28;01mawait\u001b[39;00m img\u001b[38;5;241m.\u001b[39mbounding_box()\n\u001b[1;32m    191\u001b[0m     output[\u001b[38;5;124m'\u001b[39m\u001b[38;5;124mimg_x\u001b[39m\u001b[38;5;124m'\u001b[39m] \u001b[38;5;241m=\u001b[39m bb_img[\u001b[38;5;124m'\u001b[39m\u001b[38;5;124mx\u001b[39m\u001b[38;5;124m'\u001b[39m]\n",
      "File \u001b[0;32m~/Projects/usc-research/newsworthiness/notebooks/../scripts/utils_dom_async.py:123\u001b[0m, in \u001b[0;36mget_highest_singular_parent\u001b[0;34m(i, a_links)\u001b[0m\n\u001b[1;32m    112\u001b[0m \u001b[38;5;28;01masync\u001b[39;00m \u001b[38;5;28;01mdef\u001b[39;00m \u001b[38;5;21mget_text_of_node\u001b[39m(node: Locator) \u001b[38;5;241m-\u001b[39m\u001b[38;5;241m>\u001b[39m \u001b[38;5;28mstr\u001b[39m:\n\u001b[1;32m    113\u001b[0m     \u001b[38;5;28;01mreturn\u001b[39;00m node\u001b[38;5;241m.\u001b[39mevaluate(\u001b[38;5;124m\"\"\"\u001b[39m\u001b[38;5;124mnode => \u001b[39m\u001b[38;5;124m{\u001b[39m\n\u001b[1;32m    114\u001b[0m \u001b[38;5;124m        var iter = document.createNodeIterator(node, NodeFilter.SHOW_TEXT)\u001b[39m\n\u001b[1;32m    115\u001b[0m \u001b[38;5;124m        var textnode;\u001b[39m\n\u001b[1;32m    116\u001b[0m \u001b[38;5;124m        var output_text = \u001b[39m\u001b[38;5;124m'\u001b[39m\u001b[38;5;124m'\u001b[39m\n\u001b[1;32m    117\u001b[0m \u001b[38;5;124m    \u001b[39m\n\u001b[1;32m    118\u001b[0m \u001b[38;5;124m        // print all text nodes\u001b[39m\n\u001b[1;32m    119\u001b[0m \u001b[38;5;124m        while (textnode = iter.nextNode()) \u001b[39m\u001b[38;5;124m{\u001b[39m\n\u001b[1;32m    120\u001b[0m \u001b[38;5;124m          output_text = output_text + \u001b[39m\u001b[38;5;124m'\u001b[39m\u001b[38;5;124m \u001b[39m\u001b[38;5;124m'\u001b[39m\u001b[38;5;124m + textnode.textContent\u001b[39m\n\u001b[1;32m    121\u001b[0m \u001b[38;5;124m        }\u001b[39m\n\u001b[1;32m    122\u001b[0m \u001b[38;5;124m        return output_text.trim()\u001b[39m\n\u001b[0;32m--> 123\u001b[0m \u001b[38;5;124m    }\u001b[39m\u001b[38;5;124m\"\"\"\u001b[39m)\n",
      "File \u001b[0;32m~/Projects/usc-research/newsworthiness/notebooks/../scripts/utils_dom_async.py:81\u001b[0m, in \u001b[0;36mget_common_parent\u001b[0;34m(node_1, node_2, return_common)\u001b[0m\n\u001b[1;32m     78\u001b[0m \u001b[38;5;28;01masync\u001b[39;00m \u001b[38;5;28;01mdef\u001b[39;00m \u001b[38;5;21mis_smaller_child\u001b[39m(child_candidate: Locator, parent_candidate: Locator) \u001b[38;5;241m-\u001b[39m\u001b[38;5;241m>\u001b[39m \u001b[38;5;28mbool\u001b[39m:\n\u001b[1;32m     79\u001b[0m     \u001b[38;5;124;03m\"\"\"Given two nodes (in the same hierarchy), return:\u001b[39;00m\n\u001b[1;32m     80\u001b[0m \u001b[38;5;124;03m        true if the \"child_candidate\" is a child of the \"parent_candidate\",\u001b[39;00m\n\u001b[0;32m---> 81\u001b[0m \u001b[38;5;124;03m        false otherwise.\"\"\"\u001b[39;00m\n\u001b[1;32m     83\u001b[0m     child_parents \u001b[38;5;241m=\u001b[39m \u001b[38;5;28;01mawait\u001b[39;00m get_parents(child_candidate)\n\u001b[1;32m     84\u001b[0m     parent_candidate \u001b[38;5;241m=\u001b[39m \u001b[38;5;28;01mawait\u001b[39;00m get_parents(parent_candidate)\n",
      "File \u001b[0;32m~/Projects/usc-research/newsworthiness/notebooks/../scripts/utils_dom_async.py:60\u001b[0m, in \u001b[0;36mnodes_are_equal\u001b[0;34m(node_1, node_2)\u001b[0m\n\u001b[1;32m     54\u001b[0m \u001b[38;5;28;01masync\u001b[39;00m \u001b[38;5;28;01mdef\u001b[39;00m \u001b[38;5;21mget_common_parent\u001b[39m(node_1: Locator, node_2: Locator, return_common: \u001b[38;5;28mbool\u001b[39m \u001b[38;5;241m=\u001b[39m \u001b[38;5;28;01mTrue\u001b[39;00m) \u001b[38;5;241m-\u001b[39m\u001b[38;5;241m>\u001b[39m Locator:\n\u001b[1;32m     55\u001b[0m     \u001b[38;5;124;03m\"\"\"Given two nodes in the DOM, return the common parent between them.\u001b[39;00m\n\u001b[1;32m     56\u001b[0m \u001b[38;5;124;03m        * node_1: the target node\u001b[39;00m\n\u001b[1;32m     57\u001b[0m \u001b[38;5;124;03m        * node_2: the comparator node\u001b[39;00m\n\u001b[1;32m     58\u001b[0m \u001b[38;5;124;03m        * return_common (bool):\u001b[39;00m\n\u001b[1;32m     59\u001b[0m \u001b[38;5;124;03m            * if true, return the first node that they both share.\u001b[39;00m\n\u001b[0;32m---> 60\u001b[0m \u001b[38;5;124;03m            * if false, return the first node BEFORE the shared node, in the target node.\u001b[39;00m\n\u001b[1;32m     61\u001b[0m \u001b[38;5;124;03m    \"\"\"\u001b[39;00m\n\u001b[1;32m     62\u001b[0m     parents_1 \u001b[38;5;241m=\u001b[39m \u001b[38;5;28;01mawait\u001b[39;00m get_parents(node_1)\n\u001b[1;32m     63\u001b[0m     parents_2 \u001b[38;5;241m=\u001b[39m \u001b[38;5;28;01mawait\u001b[39;00m get_parents(node_2)\n",
      "File \u001b[0;32m~/opt/anaconda3/lib/python3.9/site-packages/playwright_dompath/dompath_async.py:26\u001b[0m, in \u001b[0;36mxpath_path\u001b[0;34m(el_handle, optimized)\u001b[0m\n\u001b[1;32m     24\u001b[0m \u001b[38;5;28;01masync\u001b[39;00m \u001b[38;5;28;01mdef\u001b[39;00m \u001b[38;5;21mxpath_path\u001b[39m(el_handle: Locator, optimized: \u001b[38;5;28mbool\u001b[39m \u001b[38;5;241m=\u001b[39m \u001b[38;5;28;01mTrue\u001b[39;00m) \u001b[38;5;241m-\u001b[39m\u001b[38;5;241m>\u001b[39m \u001b[38;5;28mstr\u001b[39m:\n\u001b[1;32m     25\u001b[0m     script \u001b[38;5;241m=\u001b[39m \u001b[38;5;124m'\u001b[39m\u001b[38;5;124masync (node, optimized) => \u001b[39m\u001b[38;5;124m{\u001b[39m\u001b[38;5;124m class Step \u001b[39m\u001b[38;5;124m{\u001b[39m\u001b[38;5;124m value; optimized; constructor(value, optimized) \u001b[39m\u001b[38;5;124m{\u001b[39m\u001b[38;5;124m this.value = value; this.optimized = optimized || false; } toString() \u001b[39m\u001b[38;5;124m{\u001b[39m\u001b[38;5;124m return this.value; } } const xPathValue = function xPathValue(node, optimized) \u001b[39m\u001b[38;5;124m{\u001b[39m\u001b[38;5;124m let ownValue; const ownIndex = xPathIndex(node); if (ownIndex === -1) \u001b[39m\u001b[38;5;124m{\u001b[39m\u001b[38;5;124m return null; } switch (node.nodeType) \u001b[39m\u001b[38;5;124m{\u001b[39m\u001b[38;5;124m case Node.ELEMENT_NODE: if (optimized && node.id) \u001b[39m\u001b[38;5;124m{\u001b[39m\u001b[38;5;124m return new Step(`//*[@id=\u001b[39m\u001b[38;5;124m\"\u001b[39m\u001b[38;5;124m$\u001b[39m\u001b[38;5;132;01m{node.id}\u001b[39;00m\u001b[38;5;124m\"\u001b[39m\u001b[38;5;124m]`, true); } ownValue = node.localName; break; case Node.ATTRIBUTE_NODE: ownValue = `@$\u001b[39m\u001b[38;5;132;01m{node.nodeName}\u001b[39;00m\u001b[38;5;124m`; break; case Node.TEXT_NODE: case Node.CDATA_SECTION_NODE: ownValue = \u001b[39m\u001b[38;5;124m\"\u001b[39m\u001b[38;5;124mtext()\u001b[39m\u001b[38;5;124m\"\u001b[39m\u001b[38;5;124m; break; case Node.PROCESSING_INSTRUCTION_NODE: ownValue = \u001b[39m\u001b[38;5;124m\"\u001b[39m\u001b[38;5;124mprocessing-instruction()\u001b[39m\u001b[38;5;124m\"\u001b[39m\u001b[38;5;124m; break; case Node.COMMENT_NODE: ownValue = \u001b[39m\u001b[38;5;124m\"\u001b[39m\u001b[38;5;124mcomment()\u001b[39m\u001b[38;5;124m\"\u001b[39m\u001b[38;5;124m; break; case Node.DOCUMENT_NODE: ownValue = \u001b[39m\u001b[38;5;124m\"\u001b[39m\u001b[38;5;124m\"\u001b[39m\u001b[38;5;124m; break; default: ownValue = \u001b[39m\u001b[38;5;124m\"\u001b[39m\u001b[38;5;124m\"\u001b[39m\u001b[38;5;124m; break; } if (ownIndex > 0) \u001b[39m\u001b[38;5;124m{\u001b[39m\u001b[38;5;124m ownValue += `[$\u001b[39m\u001b[38;5;132;01m{ownIndex}\u001b[39;00m\u001b[38;5;124m]`; } return new Step(ownValue, node.nodeType === Node.DOCUMENT_NODE); }; const xPathIndex = function xPathIndex(node) \u001b[39m\u001b[38;5;124m{\u001b[39m\u001b[38;5;124m function areNodesSimilar(left, right) \u001b[39m\u001b[38;5;124m{\u001b[39m\u001b[38;5;124m if (left === right) \u001b[39m\u001b[38;5;124m{\u001b[39m\u001b[38;5;124m return true; } if (left.nodeType === Node.ELEMENT_NODE && right.nodeType === Node.ELEMENT_NODE) \u001b[39m\u001b[38;5;124m{\u001b[39m\u001b[38;5;124m return left.localName === right.localName; } if (left.nodeType === right.nodeType) \u001b[39m\u001b[38;5;124m{\u001b[39m\u001b[38;5;124m return true; } const leftType = left.nodeType === Node.CDATA_SECTION_NODE ? Node.TEXT_NODE : left.nodeType; const rightType = right.nodeType === Node.CDATA_SECTION_NODE ? Node.TEXT_NODE : right.nodeType; return leftType === rightType; } const parentNode = node.parentNode; const siblings = parentNode ? parentNode.children : null; if (!siblings) \u001b[39m\u001b[38;5;124m{\u001b[39m\u001b[38;5;124m return 0; } let hasSameNamedElements; for (let i = 0; i < siblings.length; ++i) \u001b[39m\u001b[38;5;124m{\u001b[39m\u001b[38;5;124m if (areNodesSimilar(node, siblings[i]) && !(siblings[i] === node)) \u001b[39m\u001b[38;5;124m{\u001b[39m\u001b[38;5;124m hasSameNamedElements = true; break; } } if (!hasSameNamedElements) \u001b[39m\u001b[38;5;124m{\u001b[39m\u001b[38;5;124m return 0; } let ownIndex = 1; for (let i = 0; i < siblings.length; ++i) \u001b[39m\u001b[38;5;124m{\u001b[39m\u001b[38;5;124m if (areNodesSimilar(node, siblings[i])) \u001b[39m\u001b[38;5;124m{\u001b[39m\u001b[38;5;124m if (siblings[i] === node) \u001b[39m\u001b[38;5;124m{\u001b[39m\u001b[38;5;124m return ownIndex; } ++ownIndex; } } return -1; }; if (node.nodeType === Node.DOCUMENT_NODE) \u001b[39m\u001b[38;5;124m{\u001b[39m\u001b[38;5;124m return \u001b[39m\u001b[38;5;124m\"\u001b[39m\u001b[38;5;124m/\u001b[39m\u001b[38;5;124m\"\u001b[39m\u001b[38;5;124m; } const steps = []; let contextNode = node; while (contextNode) \u001b[39m\u001b[38;5;124m{\u001b[39m\u001b[38;5;124m const step = xPathValue(contextNode, optimized); if (!step) \u001b[39m\u001b[38;5;124m{\u001b[39m\u001b[38;5;124m break; } steps.push(step); if (step.optimized) \u001b[39m\u001b[38;5;124m{\u001b[39m\u001b[38;5;124m break; } contextNode = contextNode.parentNode; } steps.reverse(); return (steps.length && steps[0].optimized ? \u001b[39m\u001b[38;5;124m\"\u001b[39m\u001b[38;5;124m\"\u001b[39m\u001b[38;5;124m : \u001b[39m\u001b[38;5;124m\"\u001b[39m\u001b[38;5;124m/\u001b[39m\u001b[38;5;124m\"\u001b[39m\u001b[38;5;124m) + steps.join(\u001b[39m\u001b[38;5;124m\"\u001b[39m\u001b[38;5;124m/\u001b[39m\u001b[38;5;124m\"\u001b[39m\u001b[38;5;124m);}\u001b[39m\u001b[38;5;124m'\u001b[39m\n\u001b[0;32m---> 26\u001b[0m     \u001b[38;5;28;01mreturn\u001b[39;00m \u001b[38;5;28;01mawait\u001b[39;00m el_handle\u001b[38;5;241m.\u001b[39mevaluate(script, optimized)\n",
      "File \u001b[0;32m~/opt/anaconda3/lib/python3.9/site-packages/playwright/async_api/_generated.py:15475\u001b[0m, in \u001b[0;36mLocator.evaluate\u001b[0;34m(self, expression, arg, timeout)\u001b[0m\n\u001b[1;32m  15426\u001b[0m \u001b[38;5;28;01masync\u001b[39;00m \u001b[38;5;28;01mdef\u001b[39;00m \u001b[38;5;21mevaluate\u001b[39m(\n\u001b[1;32m  15427\u001b[0m     \u001b[38;5;28mself\u001b[39m,\n\u001b[1;32m  15428\u001b[0m     expression: \u001b[38;5;28mstr\u001b[39m,\n\u001b[0;32m   (...)\u001b[0m\n\u001b[1;32m  15431\u001b[0m     timeout: typing\u001b[38;5;241m.\u001b[39mOptional[\u001b[38;5;28mfloat\u001b[39m] \u001b[38;5;241m=\u001b[39m \u001b[38;5;28;01mNone\u001b[39;00m\n\u001b[1;32m  15432\u001b[0m ) \u001b[38;5;241m-\u001b[39m\u001b[38;5;241m>\u001b[39m typing\u001b[38;5;241m.\u001b[39mAny:\n\u001b[1;32m  15433\u001b[0m     \u001b[38;5;124;03m\"\"\"Locator.evaluate\u001b[39;00m\n\u001b[1;32m  15434\u001b[0m \n\u001b[1;32m  15435\u001b[0m \u001b[38;5;124;03m    Execute JavaScript code in the page, taking the matching element as an argument.\u001b[39;00m\n\u001b[0;32m   (...)\u001b[0m\n\u001b[1;32m  15471\u001b[0m \u001b[38;5;124;03m    Any\u001b[39;00m\n\u001b[1;32m  15472\u001b[0m \u001b[38;5;124;03m    \"\"\"\u001b[39;00m\n\u001b[1;32m  15474\u001b[0m     \u001b[38;5;28;01mreturn\u001b[39;00m mapping\u001b[38;5;241m.\u001b[39mfrom_maybe_impl(\n\u001b[0;32m> 15475\u001b[0m         \u001b[38;5;28;01mawait\u001b[39;00m \u001b[38;5;28mself\u001b[39m\u001b[38;5;241m.\u001b[39m_impl_obj\u001b[38;5;241m.\u001b[39mevaluate(\n\u001b[1;32m  15476\u001b[0m             expression\u001b[38;5;241m=\u001b[39mexpression, arg\u001b[38;5;241m=\u001b[39mmapping\u001b[38;5;241m.\u001b[39mto_impl(arg), timeout\u001b[38;5;241m=\u001b[39mtimeout\n\u001b[1;32m  15477\u001b[0m         )\n\u001b[1;32m  15478\u001b[0m     )\n",
      "File \u001b[0;32m~/opt/anaconda3/lib/python3.9/site-packages/playwright/_impl/_locator.py:174\u001b[0m, in \u001b[0;36mLocator.evaluate\u001b[0;34m(self, expression, arg, timeout)\u001b[0m\n\u001b[1;32m    171\u001b[0m \u001b[38;5;28;01masync\u001b[39;00m \u001b[38;5;28;01mdef\u001b[39;00m \u001b[38;5;21mevaluate\u001b[39m(\n\u001b[1;32m    172\u001b[0m     \u001b[38;5;28mself\u001b[39m, expression: \u001b[38;5;28mstr\u001b[39m, arg: Serializable \u001b[38;5;241m=\u001b[39m \u001b[38;5;28;01mNone\u001b[39;00m, timeout: \u001b[38;5;28mfloat\u001b[39m \u001b[38;5;241m=\u001b[39m \u001b[38;5;28;01mNone\u001b[39;00m\n\u001b[1;32m    173\u001b[0m ) \u001b[38;5;241m-\u001b[39m\u001b[38;5;241m>\u001b[39m Any:\n\u001b[0;32m--> 174\u001b[0m     \u001b[38;5;28;01mreturn\u001b[39;00m \u001b[38;5;28;01mawait\u001b[39;00m \u001b[38;5;28mself\u001b[39m\u001b[38;5;241m.\u001b[39m_with_element(\n\u001b[1;32m    175\u001b[0m         \u001b[38;5;28;01mlambda\u001b[39;00m h, _: h\u001b[38;5;241m.\u001b[39mevaluate(expression, arg),\n\u001b[1;32m    176\u001b[0m         timeout,\n\u001b[1;32m    177\u001b[0m     )\n",
      "File \u001b[0;32m~/opt/anaconda3/lib/python3.9/site-packages/playwright/_impl/_locator.py:101\u001b[0m, in \u001b[0;36mLocator._with_element\u001b[0;34m(self, task, timeout)\u001b[0m\n\u001b[1;32m     99\u001b[0m timeout \u001b[38;5;241m=\u001b[39m \u001b[38;5;28mself\u001b[39m\u001b[38;5;241m.\u001b[39m_frame\u001b[38;5;241m.\u001b[39mpage\u001b[38;5;241m.\u001b[39m_timeout_settings\u001b[38;5;241m.\u001b[39mtimeout(timeout)\n\u001b[1;32m    100\u001b[0m deadline \u001b[38;5;241m=\u001b[39m (monotonic_time() \u001b[38;5;241m+\u001b[39m timeout) \u001b[38;5;28;01mif\u001b[39;00m timeout \u001b[38;5;28;01melse\u001b[39;00m \u001b[38;5;241m0\u001b[39m\n\u001b[0;32m--> 101\u001b[0m handle \u001b[38;5;241m=\u001b[39m \u001b[38;5;28;01mawait\u001b[39;00m \u001b[38;5;28mself\u001b[39m\u001b[38;5;241m.\u001b[39melement_handle(timeout\u001b[38;5;241m=\u001b[39mtimeout)\n\u001b[1;32m    102\u001b[0m \u001b[38;5;28;01mif\u001b[39;00m \u001b[38;5;129;01mnot\u001b[39;00m handle:\n\u001b[1;32m    103\u001b[0m     \u001b[38;5;28;01mraise\u001b[39;00m Error(\u001b[38;5;124mf\u001b[39m\u001b[38;5;124m\"\u001b[39m\u001b[38;5;124mCould not resolve \u001b[39m\u001b[38;5;132;01m{\u001b[39;00m\u001b[38;5;28mself\u001b[39m\u001b[38;5;241m.\u001b[39m_selector\u001b[38;5;132;01m}\u001b[39;00m\u001b[38;5;124m to DOM Element\u001b[39m\u001b[38;5;124m\"\u001b[39m)\n",
      "File \u001b[0;32m~/opt/anaconda3/lib/python3.9/site-packages/playwright/_impl/_locator.py:285\u001b[0m, in \u001b[0;36mLocator.element_handle\u001b[0;34m(self, timeout)\u001b[0m\n\u001b[1;32m    280\u001b[0m \u001b[38;5;28;01masync\u001b[39;00m \u001b[38;5;28;01mdef\u001b[39;00m \u001b[38;5;21melement_handle\u001b[39m(\n\u001b[1;32m    281\u001b[0m     \u001b[38;5;28mself\u001b[39m,\n\u001b[1;32m    282\u001b[0m     timeout: \u001b[38;5;28mfloat\u001b[39m \u001b[38;5;241m=\u001b[39m \u001b[38;5;28;01mNone\u001b[39;00m,\n\u001b[1;32m    283\u001b[0m ) \u001b[38;5;241m-\u001b[39m\u001b[38;5;241m>\u001b[39m ElementHandle:\n\u001b[1;32m    284\u001b[0m     params \u001b[38;5;241m=\u001b[39m locals_to_params(\u001b[38;5;28mlocals\u001b[39m())\n\u001b[0;32m--> 285\u001b[0m     handle \u001b[38;5;241m=\u001b[39m \u001b[38;5;28;01mawait\u001b[39;00m \u001b[38;5;28mself\u001b[39m\u001b[38;5;241m.\u001b[39m_frame\u001b[38;5;241m.\u001b[39mwait_for_selector(\n\u001b[1;32m    286\u001b[0m         \u001b[38;5;28mself\u001b[39m\u001b[38;5;241m.\u001b[39m_selector, strict\u001b[38;5;241m=\u001b[39m\u001b[38;5;28;01mTrue\u001b[39;00m, state\u001b[38;5;241m=\u001b[39m\u001b[38;5;124m\"\u001b[39m\u001b[38;5;124mattached\u001b[39m\u001b[38;5;124m\"\u001b[39m, \u001b[38;5;241m*\u001b[39m\u001b[38;5;241m*\u001b[39mparams\n\u001b[1;32m    287\u001b[0m     )\n\u001b[1;32m    288\u001b[0m     \u001b[38;5;28;01massert\u001b[39;00m handle\n\u001b[1;32m    289\u001b[0m     \u001b[38;5;28;01mreturn\u001b[39;00m handle\n",
      "File \u001b[0;32m~/opt/anaconda3/lib/python3.9/site-packages/playwright/_impl/_frame.py:322\u001b[0m, in \u001b[0;36mFrame.wait_for_selector\u001b[0;34m(self, selector, strict, timeout, state)\u001b[0m\n\u001b[1;32m    314\u001b[0m \u001b[38;5;28;01masync\u001b[39;00m \u001b[38;5;28;01mdef\u001b[39;00m \u001b[38;5;21mwait_for_selector\u001b[39m(\n\u001b[1;32m    315\u001b[0m     \u001b[38;5;28mself\u001b[39m,\n\u001b[1;32m    316\u001b[0m     selector: \u001b[38;5;28mstr\u001b[39m,\n\u001b[0;32m   (...)\u001b[0m\n\u001b[1;32m    319\u001b[0m     state: Literal[\u001b[38;5;124m\"\u001b[39m\u001b[38;5;124mattached\u001b[39m\u001b[38;5;124m\"\u001b[39m, \u001b[38;5;124m\"\u001b[39m\u001b[38;5;124mdetached\u001b[39m\u001b[38;5;124m\"\u001b[39m, \u001b[38;5;124m\"\u001b[39m\u001b[38;5;124mhidden\u001b[39m\u001b[38;5;124m\"\u001b[39m, \u001b[38;5;124m\"\u001b[39m\u001b[38;5;124mvisible\u001b[39m\u001b[38;5;124m\"\u001b[39m] \u001b[38;5;241m=\u001b[39m \u001b[38;5;28;01mNone\u001b[39;00m,\n\u001b[1;32m    320\u001b[0m ) \u001b[38;5;241m-\u001b[39m\u001b[38;5;241m>\u001b[39m Optional[ElementHandle]:\n\u001b[1;32m    321\u001b[0m     \u001b[38;5;28;01mreturn\u001b[39;00m from_nullable_channel(\n\u001b[0;32m--> 322\u001b[0m         \u001b[38;5;28;01mawait\u001b[39;00m \u001b[38;5;28mself\u001b[39m\u001b[38;5;241m.\u001b[39m_channel\u001b[38;5;241m.\u001b[39msend(\u001b[38;5;124m\"\u001b[39m\u001b[38;5;124mwaitForSelector\u001b[39m\u001b[38;5;124m\"\u001b[39m, locals_to_params(\u001b[38;5;28mlocals\u001b[39m()))\n\u001b[1;32m    323\u001b[0m     )\n",
      "File \u001b[0;32m~/opt/anaconda3/lib/python3.9/site-packages/playwright/_impl/_connection.py:44\u001b[0m, in \u001b[0;36mChannel.send\u001b[0;34m(self, method, params)\u001b[0m\n\u001b[1;32m     43\u001b[0m \u001b[38;5;28;01masync\u001b[39;00m \u001b[38;5;28;01mdef\u001b[39;00m \u001b[38;5;21msend\u001b[39m(\u001b[38;5;28mself\u001b[39m, method: \u001b[38;5;28mstr\u001b[39m, params: Dict \u001b[38;5;241m=\u001b[39m \u001b[38;5;28;01mNone\u001b[39;00m) \u001b[38;5;241m-\u001b[39m\u001b[38;5;241m>\u001b[39m Any:\n\u001b[0;32m---> 44\u001b[0m     \u001b[38;5;28;01mreturn\u001b[39;00m \u001b[38;5;28;01mawait\u001b[39;00m \u001b[38;5;28mself\u001b[39m\u001b[38;5;241m.\u001b[39m_connection\u001b[38;5;241m.\u001b[39mwrap_api_call(\n\u001b[1;32m     45\u001b[0m         \u001b[38;5;28;01mlambda\u001b[39;00m: \u001b[38;5;28mself\u001b[39m\u001b[38;5;241m.\u001b[39minner_send(method, params, \u001b[38;5;28;01mFalse\u001b[39;00m)\n\u001b[1;32m     46\u001b[0m     )\n",
      "File \u001b[0;32m~/opt/anaconda3/lib/python3.9/site-packages/playwright/_impl/_connection.py:412\u001b[0m, in \u001b[0;36mConnection.wrap_api_call\u001b[0;34m(self, cb, is_internal)\u001b[0m\n\u001b[1;32m    408\u001b[0m \u001b[38;5;28;01masync\u001b[39;00m \u001b[38;5;28;01mdef\u001b[39;00m \u001b[38;5;21mwrap_api_call\u001b[39m(\n\u001b[1;32m    409\u001b[0m     \u001b[38;5;28mself\u001b[39m, cb: Callable[[], Any], is_internal: \u001b[38;5;28mbool\u001b[39m \u001b[38;5;241m=\u001b[39m \u001b[38;5;28;01mFalse\u001b[39;00m\n\u001b[1;32m    410\u001b[0m ) \u001b[38;5;241m-\u001b[39m\u001b[38;5;241m>\u001b[39m Any:\n\u001b[1;32m    411\u001b[0m     \u001b[38;5;28;01mif\u001b[39;00m \u001b[38;5;28mself\u001b[39m\u001b[38;5;241m.\u001b[39m_api_zone\u001b[38;5;241m.\u001b[39mget():\n\u001b[0;32m--> 412\u001b[0m         \u001b[38;5;28;01mreturn\u001b[39;00m \u001b[38;5;28;01mawait\u001b[39;00m cb()\n\u001b[1;32m    413\u001b[0m     task \u001b[38;5;241m=\u001b[39m asyncio\u001b[38;5;241m.\u001b[39mcurrent_task(\u001b[38;5;28mself\u001b[39m\u001b[38;5;241m.\u001b[39m_loop)\n\u001b[1;32m    414\u001b[0m     st: List[inspect\u001b[38;5;241m.\u001b[39mFrameInfo] \u001b[38;5;241m=\u001b[39m \u001b[38;5;28mgetattr\u001b[39m(task, \u001b[38;5;124m\"\u001b[39m\u001b[38;5;124m__pw_stack__\u001b[39m\u001b[38;5;124m\"\u001b[39m, inspect\u001b[38;5;241m.\u001b[39mstack())\n",
      "File \u001b[0;32m~/opt/anaconda3/lib/python3.9/site-packages/playwright/_impl/_connection.py:70\u001b[0m, in \u001b[0;36mChannel.inner_send\u001b[0;34m(self, method, params, return_as_dict)\u001b[0m\n\u001b[1;32m     68\u001b[0m     \u001b[38;5;28mself\u001b[39m\u001b[38;5;241m.\u001b[39m_connection\u001b[38;5;241m.\u001b[39m_error \u001b[38;5;241m=\u001b[39m \u001b[38;5;28;01mNone\u001b[39;00m\n\u001b[1;32m     69\u001b[0m     \u001b[38;5;28;01mraise\u001b[39;00m error\n\u001b[0;32m---> 70\u001b[0m done, _ \u001b[38;5;241m=\u001b[39m \u001b[38;5;28;01mawait\u001b[39;00m asyncio\u001b[38;5;241m.\u001b[39mwait(\n\u001b[1;32m     71\u001b[0m     {\n\u001b[1;32m     72\u001b[0m         \u001b[38;5;28mself\u001b[39m\u001b[38;5;241m.\u001b[39m_connection\u001b[38;5;241m.\u001b[39m_transport\u001b[38;5;241m.\u001b[39mon_error_future,\n\u001b[1;32m     73\u001b[0m         callback\u001b[38;5;241m.\u001b[39mfuture,\n\u001b[1;32m     74\u001b[0m     },\n\u001b[1;32m     75\u001b[0m     return_when\u001b[38;5;241m=\u001b[39masyncio\u001b[38;5;241m.\u001b[39mFIRST_COMPLETED,\n\u001b[1;32m     76\u001b[0m )\n\u001b[1;32m     77\u001b[0m \u001b[38;5;28;01mif\u001b[39;00m \u001b[38;5;129;01mnot\u001b[39;00m callback\u001b[38;5;241m.\u001b[39mfuture\u001b[38;5;241m.\u001b[39mdone():\n\u001b[1;32m     78\u001b[0m     callback\u001b[38;5;241m.\u001b[39mfuture\u001b[38;5;241m.\u001b[39mcancel()\n",
      "File \u001b[0;32m~/opt/anaconda3/lib/python3.9/asyncio/tasks.py:413\u001b[0m, in \u001b[0;36mwait\u001b[0;34m(fs, loop, timeout, return_when)\u001b[0m\n\u001b[1;32m    406\u001b[0m     warnings\u001b[38;5;241m.\u001b[39mwarn(\u001b[38;5;124m\"\u001b[39m\u001b[38;5;124mThe explicit passing of coroutine objects to \u001b[39m\u001b[38;5;124m\"\u001b[39m\n\u001b[1;32m    407\u001b[0m                   \u001b[38;5;124m\"\u001b[39m\u001b[38;5;124masyncio.wait() is deprecated since Python 3.8, and \u001b[39m\u001b[38;5;124m\"\u001b[39m\n\u001b[1;32m    408\u001b[0m                   \u001b[38;5;124m\"\u001b[39m\u001b[38;5;124mscheduled for removal in Python 3.11.\u001b[39m\u001b[38;5;124m\"\u001b[39m,\n\u001b[1;32m    409\u001b[0m                   \u001b[38;5;167;01mDeprecationWarning\u001b[39;00m, stacklevel\u001b[38;5;241m=\u001b[39m\u001b[38;5;241m2\u001b[39m)\n\u001b[1;32m    411\u001b[0m fs \u001b[38;5;241m=\u001b[39m {ensure_future(f, loop\u001b[38;5;241m=\u001b[39mloop) \u001b[38;5;28;01mfor\u001b[39;00m f \u001b[38;5;129;01min\u001b[39;00m fs}\n\u001b[0;32m--> 413\u001b[0m \u001b[38;5;28;01mreturn\u001b[39;00m \u001b[38;5;28;01mawait\u001b[39;00m _wait(fs, timeout, return_when, loop)\n",
      "File \u001b[0;32m~/opt/anaconda3/lib/python3.9/asyncio/tasks.py:525\u001b[0m, in \u001b[0;36m_wait\u001b[0;34m(fs, timeout, return_when, loop)\u001b[0m\n\u001b[1;32m    522\u001b[0m     f\u001b[38;5;241m.\u001b[39madd_done_callback(_on_completion)\n\u001b[1;32m    524\u001b[0m \u001b[38;5;28;01mtry\u001b[39;00m:\n\u001b[0;32m--> 525\u001b[0m     \u001b[38;5;28;01mawait\u001b[39;00m waiter\n\u001b[1;32m    526\u001b[0m \u001b[38;5;28;01mfinally\u001b[39;00m:\n\u001b[1;32m    527\u001b[0m     \u001b[38;5;28;01mif\u001b[39;00m timeout_handle \u001b[38;5;129;01mis\u001b[39;00m \u001b[38;5;129;01mnot\u001b[39;00m \u001b[38;5;28;01mNone\u001b[39;00m:\n",
      "\u001b[0;31mCancelledError\u001b[0m: "
     ]
    }
   ],
   "source": [
    "await ud.get_top_divs_from_page(page)"
   ]
  },
  {
   "cell_type": "code",
   "execution_count": null,
   "id": "b96ae166",
   "metadata": {},
   "outputs": [],
   "source": []
  },
  {
   "cell_type": "code",
   "execution_count": null,
   "id": "1f73e547",
   "metadata": {},
   "outputs": [],
   "source": []
  },
  {
   "cell_type": "code",
   "execution_count": null,
   "id": "b390b0c2",
   "metadata": {},
   "outputs": [],
   "source": []
  },
  {
   "cell_type": "code",
   "execution_count": 134,
   "id": "08a58142",
   "metadata": {},
   "outputs": [],
   "source": [
    "for a in a_links:\n",
    "    await a.locator('xpath=..').evaluate(\"node => node.setAttribute('style', 'border: 4px dotted blue !important;')\"),"
   ]
  },
  {
   "cell_type": "code",
   "execution_count": 135,
   "id": "f5563fe4",
   "metadata": {},
   "outputs": [],
   "source": [
    "all_p_1 = []\n",
    "p = [a]\n",
    "while len(p) != 0:\n",
    "    p = p[0]\n",
    "    all_p_1.append(p)\n",
    "    p = await p.locator('xpath=..').all()"
   ]
  },
  {
   "cell_type": "code",
   "execution_count": 136,
   "id": "24064cd5",
   "metadata": {},
   "outputs": [],
   "source": [
    "all_p_2 = []\n",
    "p = [a_links[0]]\n",
    "while len(p) != 0:\n",
    "    p = p[0]\n",
    "    all_p_2.append(p)\n",
    "    p = await p.locator('xpath=..').all()"
   ]
  },
  {
   "cell_type": "code",
   "execution_count": 142,
   "id": "65ae5915",
   "metadata": {},
   "outputs": [],
   "source": [
    "from playwright.async_api import expect"
   ]
  },
  {
   "cell_type": "code",
   "execution_count": 139,
   "id": "cfa05625",
   "metadata": {},
   "outputs": [],
   "source": [
    "uppermost_parent_1 = await all_p_1[-1].evaluate('node => node.innerHTML')\n",
    "uppermost_parent_2 = await all_p_2[-1].evaluate('node => node.innerHTML')"
   ]
  },
  {
   "cell_type": "code",
   "execution_count": 141,
   "id": "c91899e7",
   "metadata": {},
   "outputs": [
    {
     "data": {
      "text/plain": [
       "True"
      ]
     },
     "execution_count": 141,
     "metadata": {},
     "output_type": "execute_result"
    }
   ],
   "source": [
    "uppermost_parent_1 == uppermost_parent_2"
   ]
  },
  {
   "cell_type": "code",
   "execution_count": null,
   "id": "78e0ba8c",
   "metadata": {},
   "outputs": [],
   "source": []
  },
  {
   "cell_type": "code",
   "execution_count": null,
   "id": "e5fc9afc",
   "metadata": {},
   "outputs": [],
   "source": []
  },
  {
   "cell_type": "code",
   "execution_count": null,
   "id": "8920e8cb",
   "metadata": {},
   "outputs": [],
   "source": []
  },
  {
   "cell_type": "code",
   "execution_count": 119,
   "id": "f4eaad2a",
   "metadata": {},
   "outputs": [],
   "source": [
    "a_links = await page.query_selector_all('a')"
   ]
  },
  {
   "cell_type": "code",
   "execution_count": 120,
   "id": "13487efb",
   "metadata": {},
   "outputs": [
    {
     "ename": "AttributeError",
     "evalue": "'ElementHandle' object has no attribute 'parent'",
     "output_type": "error",
     "traceback": [
      "\u001b[0;31m---------------------------------------------------------------------------\u001b[0m",
      "\u001b[0;31mAttributeError\u001b[0m                            Traceback (most recent call last)",
      "Input \u001b[0;32mIn [120]\u001b[0m, in \u001b[0;36m<cell line: 1>\u001b[0;34m()\u001b[0m\n\u001b[0;32m----> 1\u001b[0m \u001b[43ma_links\u001b[49m\u001b[43m[\u001b[49m\u001b[38;5;241;43m0\u001b[39;49m\u001b[43m]\u001b[49m\u001b[38;5;241;43m.\u001b[39;49m\u001b[43mparent\u001b[49m\n",
      "\u001b[0;31mAttributeError\u001b[0m: 'ElementHandle' object has no attribute 'parent'"
     ]
    }
   ],
   "source": [
    "a_links[0].parent"
   ]
  },
  {
   "cell_type": "code",
   "execution_count": 103,
   "id": "3b39f9e8",
   "metadata": {},
   "outputs": [
    {
     "data": {
      "text/plain": [
       "<JSHandle preview=JSHandle@<a class=\"css-1f8er69\" href=\"nytimes.com#site-conte…>Skip to content</a>>"
      ]
     },
     "execution_count": 103,
     "metadata": {},
     "output_type": "execute_result"
    }
   ],
   "source": [
    "a_links[1]"
   ]
  },
  {
   "cell_type": "code",
   "execution_count": 107,
   "id": "2e12110d",
   "metadata": {},
   "outputs": [
    {
     "ename": "TypeError",
     "evalue": "evaluate() got an unexpected keyword argument 'node'",
     "output_type": "error",
     "traceback": [
      "\u001b[0;31m---------------------------------------------------------------------------\u001b[0m",
      "\u001b[0;31mTypeError\u001b[0m                                 Traceback (most recent call last)",
      "Input \u001b[0;32mIn [107]\u001b[0m, in \u001b[0;36m<cell line: 1>\u001b[0;34m()\u001b[0m\n\u001b[0;32m----> 1\u001b[0m \u001b[43mpage\u001b[49m\u001b[38;5;241;43m.\u001b[39;49m\u001b[43mevaluate\u001b[49m\u001b[43m(\u001b[49m\u001b[38;5;124;43m\"\u001b[39;49m\u001b[38;5;124;43mnode => node.parentNode\u001b[39;49m\u001b[38;5;124;43m\"\u001b[39;49m\u001b[43m,\u001b[49m\u001b[43m \u001b[49m\u001b[43mnode\u001b[49m\u001b[38;5;241;43m=\u001b[39;49m\u001b[43ma_links\u001b[49m\u001b[43m[\u001b[49m\u001b[38;5;241;43m0\u001b[39;49m\u001b[43m]\u001b[49m\u001b[43m)\u001b[49m\n",
      "\u001b[0;31mTypeError\u001b[0m: evaluate() got an unexpected keyword argument 'node'"
     ]
    }
   ],
   "source": [
    "page.evaluate(\"node => node.parentNode\", node=a_links[0])"
   ]
  },
  {
   "cell_type": "code",
   "execution_count": 130,
   "id": "e4f21030",
   "metadata": {},
   "outputs": [
    {
     "data": {
      "text/plain": [
       "'<div class=\"css-4vtjtj e1xxpj0j1\"><div class=\"css-142l3g4\" data-testid=\"StandardAd\"><a href=\"nytimes.com#after-dfp-ad-top\" class=\"css-1ly73wi\">Continue reading the main story</a><div class=\"ad dfp-ad-top-wrapper css-rfqw0c\"><div id=\"dfp-ad-top\" class=\"place-ad\" data-position=\"top\" data-size-key=\"top\"></div></div><div id=\"after-dfp-ad-top\"></div></div></div>'"
      ]
     },
     "execution_count": 130,
     "metadata": {},
     "output_type": "execute_result"
    }
   ],
   "source": [
    "await a_links[0].evaluate(\"node => node.parentNode.parentNode.parentNode.innerHTML\")"
   ]
  },
  {
   "cell_type": "code",
   "execution_count": 121,
   "id": "ea5e5bfe",
   "metadata": {},
   "outputs": [
    {
     "data": {
      "text/plain": [
       "{'x': 1075.390625, 'y': 12503.859375, 'width': 66.046875, 'height': 33}"
      ]
     },
     "execution_count": 121,
     "metadata": {},
     "output_type": "execute_result"
    }
   ],
   "source": [
    "await a_links[-1].bounding_box()"
   ]
  },
  {
   "cell_type": "code",
   "execution_count": 125,
   "id": "2ad2659d",
   "metadata": {},
   "outputs": [
    {
     "data": {
      "text/plain": [
       "'https://web.archive.org/web/20221201000259/https://www.nytimes.com/subscription?campaignId=37WXW'"
      ]
     },
     "execution_count": 125,
     "metadata": {},
     "output_type": "execute_result"
    }
   ],
   "source": [
    "await a_links[-1].evaluate('a => a.href')"
   ]
  },
  {
   "cell_type": "code",
   "execution_count": null,
   "id": "96f1df0f",
   "metadata": {},
   "outputs": [],
   "source": []
  },
  {
   "cell_type": "code",
   "execution_count": null,
   "id": "abac944b",
   "metadata": {},
   "outputs": [],
   "source": []
  },
  {
   "cell_type": "code",
   "execution_count": null,
   "id": "3a33ae2a",
   "metadata": {},
   "outputs": [],
   "source": []
  },
  {
   "cell_type": "code",
   "execution_count": null,
   "id": "6afebbcd",
   "metadata": {},
   "outputs": [],
   "source": []
  },
  {
   "cell_type": "code",
   "execution_count": null,
   "id": "bdde3cb6",
   "metadata": {},
   "outputs": [],
   "source": []
  },
  {
   "cell_type": "code",
   "execution_count": null,
   "id": "846ed277",
   "metadata": {},
   "outputs": [],
   "source": []
  }
 ],
 "metadata": {
  "kernelspec": {
   "display_name": "Python 3 (ipykernel)",
   "language": "python",
   "name": "python3"
  },
  "language_info": {
   "codemirror_mode": {
    "name": "ipython",
    "version": 3
   },
   "file_extension": ".py",
   "mimetype": "text/x-python",
   "name": "python",
   "nbconvert_exporter": "python",
   "pygments_lexer": "ipython3",
   "version": "3.9.12"
  }
 },
 "nbformat": 4,
 "nbformat_minor": 5
}
