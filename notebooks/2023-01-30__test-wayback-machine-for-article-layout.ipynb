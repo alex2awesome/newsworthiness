{
 "cells": [
  {
   "cell_type": "markdown",
   "id": "a69ad16d",
   "metadata": {},
   "source": [
    "# See how often WaybackMachine Collects these homepages"
   ]
  },
  {
   "cell_type": "code",
   "execution_count": 4,
   "id": "6ab6c95b",
   "metadata": {},
   "outputs": [],
   "source": [
    "from tqdm.auto import tqdm"
   ]
  },
  {
   "cell_type": "code",
   "execution_count": 644,
   "id": "c311da60",
   "metadata": {
    "scrolled": true
   },
   "outputs": [],
   "source": [
    "import pandas as pd \n",
    "from subprocess import Popen, PIPE, check_call\n",
    "\n",
    "sites_df = pd.read_csv('../bin/news-homepages/newshomepages/sources/sites.csv')"
   ]
  },
  {
   "cell_type": "code",
   "execution_count": null,
   "id": "29f320f1",
   "metadata": {
    "scrolled": true
   },
   "outputs": [],
   "source": [
    "all_output = []\n",
    "for url in tqdm(sites_df['url']):\n",
    "    p = Popen([\n",
    "            \"waybackpack\", url,\n",
    "            \"--from-date\",\n",
    "            '20221201',\n",
    "            \"--to-date\",\n",
    "            '20221202',\n",
    "            \"--list\"\n",
    "    ], stdin=PIPE, stdout=PIPE, stderr=PIPE)\n",
    "    output, err = p.communicate()\n",
    "    \n",
    "    all_output.append({'site': url, 'output': output.decode(), 'err': err.decode()})"
   ]
  },
  {
   "cell_type": "code",
   "execution_count": 52,
   "id": "a3ac68ae",
   "metadata": {},
   "outputs": [],
   "source": [
    "all_output_df = pd.DataFrame(all_output)"
   ]
  },
  {
   "cell_type": "code",
   "execution_count": 57,
   "id": "70b753e1",
   "metadata": {},
   "outputs": [
    {
     "data": {
      "text/plain": [
       "(49,)"
      ]
     },
     "execution_count": 57,
     "metadata": {},
     "output_type": "execute_result"
    }
   ],
   "source": [
    "all_output_df['err'].loc[lambda df: df != ''].shape "
   ]
  },
  {
   "cell_type": "code",
   "execution_count": 60,
   "id": "2a4d6fe4",
   "metadata": {},
   "outputs": [],
   "source": [
    "all_output_df = all_output_df.loc[lambda df: df['err'] == '']"
   ]
  },
  {
   "cell_type": "code",
   "execution_count": 70,
   "id": "dbd32f17",
   "metadata": {},
   "outputs": [],
   "source": [
    "import re\n",
    "from datetime import datetime"
   ]
  },
  {
   "cell_type": "code",
   "execution_count": null,
   "id": "e14e2ca7",
   "metadata": {},
   "outputs": [],
   "source": [
    "all_output_df['page_snapshot_times'] = (all_output_df['output']\n",
    " .apply(lambda x: re.findall('\\d{14}', x))\n",
    " .apply(lambda x: list(map(lambda y: datetime.strptime(y, '%Y%m%d%H%M%S'), x)))\n",
    ")"
   ]
  },
  {
   "cell_type": "code",
   "execution_count": 97,
   "id": "53262795",
   "metadata": {},
   "outputs": [
    {
     "data": {
      "text/plain": [
       "<AxesSubplot: >"
      ]
     },
     "execution_count": 97,
     "metadata": {},
     "output_type": "execute_result"
    },
    {
     "data": {
      "image/png": "[encoded data removed]",
      "text/plain": [
       "<Figure size 400x200 with 1 Axes>"
      ]
     },
     "metadata": {},
     "output_type": "display_data"
    }
   ],
   "source": [
    "all_output_df['page_snapshot_times'].str.len().hist(bins=50, figsize=(4, 2), range=(0, 100))"
   ]
  },
  {
   "cell_type": "code",
   "execution_count": 112,
   "id": "33b340b9",
   "metadata": {},
   "outputs": [
    {
     "data": {
      "text/plain": [
       "0     2\n",
       "1     1\n",
       "2     4\n",
       "3    18\n",
       "4    18\n",
       "5    16\n",
       "6    16\n",
       "7    15\n",
       "8    10\n",
       "9    11\n",
       "Name: page_snapshot_times, dtype: int64"
      ]
     },
     "execution_count": 112,
     "metadata": {},
     "output_type": "execute_result"
    }
   ],
   "source": [
    "all_output_df['page_snapshot_times'].str.len().value_counts().sort_index().iloc[:10]"
   ]
  },
  {
   "cell_type": "code",
   "execution_count": 98,
   "id": "06bb7e12",
   "metadata": {
    "scrolled": true
   },
   "outputs": [
    {
     "data": {
      "text/html": [
       "<div>\n",
       "<style scoped>\n",
       "    .dataframe tbody tr th:only-of-type {\n",
       "        vertical-align: middle;\n",
       "    }\n",
       "\n",
       "    .dataframe tbody tr th {\n",
       "        vertical-align: top;\n",
       "    }\n",
       "\n",
       "    .dataframe thead th {\n",
       "        text-align: right;\n",
       "    }\n",
       "</style>\n",
       "<table border=\"1\" class=\"dataframe\">\n",
       "  <thead>\n",
       "    <tr style=\"text-align: right;\">\n",
       "      <th></th>\n",
       "      <th>site</th>\n",
       "      <th>output</th>\n",
       "      <th>err</th>\n",
       "      <th>page_snapshot_times</th>\n",
       "    </tr>\n",
       "  </thead>\n",
       "  <tbody>\n",
       "    <tr>\n",
       "      <th>5</th>\n",
       "      <td>https://baahrakhari.com/</td>\n",
       "      <td>https://web.archive.org/web/20221201022046/htt...</td>\n",
       "      <td></td>\n",
       "      <td>[2022-12-01 02:20:46, 2022-12-01 19:58:24, 202...</td>\n",
       "    </tr>\n",
       "    <tr>\n",
       "      <th>7</th>\n",
       "      <td>http://fourteeneastmag.com/</td>\n",
       "      <td>https://web.archive.org/web/20221201100427/htt...</td>\n",
       "      <td></td>\n",
       "      <td>[2022-12-01 10:04:27, 2022-12-01 22:03:12]</td>\n",
       "    </tr>\n",
       "    <tr>\n",
       "      <th>30</th>\n",
       "      <td>https://www.airlinereporter.com/</td>\n",
       "      <td>https://web.archive.org/web/20221201003605/htt...</td>\n",
       "      <td></td>\n",
       "      <td>[2022-12-01 00:36:05, 2022-12-02 22:03:31]</td>\n",
       "    </tr>\n",
       "    <tr>\n",
       "      <th>32</th>\n",
       "      <td>https://www.dallasnews.com/espanol/al-dia/</td>\n",
       "      <td>https://web.archive.org/web/20221201100427/htt...</td>\n",
       "      <td></td>\n",
       "      <td>[2022-12-01 10:04:27, 2022-12-01 22:04:06, 202...</td>\n",
       "    </tr>\n",
       "    <tr>\n",
       "      <th>34</th>\n",
       "      <td>https://almapreta.com/</td>\n",
       "      <td>https://web.archive.org/web/20221201125643/htt...</td>\n",
       "      <td></td>\n",
       "      <td>[2022-12-01 12:56:43, 2022-12-01 22:03:11, 202...</td>\n",
       "    </tr>\n",
       "    <tr>\n",
       "      <th>57</th>\n",
       "      <td>https://www.binjonline.org/</td>\n",
       "      <td>https://web.archive.org/web/20221201100922/htt...</td>\n",
       "      <td></td>\n",
       "      <td>[2022-12-01 10:09:22, 2022-12-01 22:08:51, 202...</td>\n",
       "    </tr>\n",
       "    <tr>\n",
       "      <th>71</th>\n",
       "      <td>https://blackbygod.org/</td>\n",
       "      <td>https://web.archive.org/web/20221201100848/htt...</td>\n",
       "      <td></td>\n",
       "      <td>[2022-12-01 10:08:48, 2022-12-01 22:09:08, 202...</td>\n",
       "    </tr>\n",
       "    <tr>\n",
       "      <th>84</th>\n",
       "      <td>https://breckenridgetexan.com/</td>\n",
       "      <td>https://web.archive.org/web/20221201101103/htt...</td>\n",
       "      <td></td>\n",
       "      <td>[2022-12-01 10:11:03, 2022-12-02 10:10:32, 202...</td>\n",
       "    </tr>\n",
       "    <tr>\n",
       "      <th>101</th>\n",
       "      <td>https://cnsmaryland.org/</td>\n",
       "      <td>https://web.archive.org/web/20221201015235/htt...</td>\n",
       "      <td></td>\n",
       "      <td>[2022-12-01 01:52:35, 2022-12-01 10:14:25, 202...</td>\n",
       "    </tr>\n",
       "    <tr>\n",
       "      <th>111</th>\n",
       "      <td>https://atlanta.capitalbnews.org/</td>\n",
       "      <td>https://web.archive.org/web/20221201082422/htt...</td>\n",
       "      <td></td>\n",
       "      <td>[2022-12-01 08:24:22, 2022-12-01 10:11:47, 202...</td>\n",
       "    </tr>\n",
       "    <tr>\n",
       "      <th>116</th>\n",
       "      <td>https://www.bayjournal.com/</td>\n",
       "      <td>https://web.archive.org/web/20221201103853/htt...</td>\n",
       "      <td></td>\n",
       "      <td>[2022-12-01 10:38:53, 2022-12-01 22:35:51, 202...</td>\n",
       "    </tr>\n",
       "    <tr>\n",
       "      <th>122</th>\n",
       "      <td>https://www.ciceroindependiente.com/</td>\n",
       "      <td>https://web.archive.org/web/20221201103929/htt...</td>\n",
       "      <td></td>\n",
       "      <td>[2022-12-01 10:39:29, 2022-12-01 22:36:00, 202...</td>\n",
       "    </tr>\n",
       "    <tr>\n",
       "      <th>151</th>\n",
       "      <td>https://decisiondeskhq.com/</td>\n",
       "      <td>https://web.archive.org/web/20221201103907/htt...</td>\n",
       "      <td></td>\n",
       "      <td>[2022-12-01 10:39:07, 2022-12-01 14:25:20, 202...</td>\n",
       "    </tr>\n",
       "    <tr>\n",
       "      <th>152</th>\n",
       "      <td>https://defector.com/</td>\n",
       "      <td>https://web.archive.org/web/20221201010831/htt...</td>\n",
       "      <td></td>\n",
       "      <td>[2022-12-01 01:08:31, 2022-12-02 09:17:51, 202...</td>\n",
       "    </tr>\n",
       "    <tr>\n",
       "      <th>156</th>\n",
       "      <td>https://denverite.com/</td>\n",
       "      <td>https://web.archive.org/web/20221201012751/htt...</td>\n",
       "      <td></td>\n",
       "      <td>[2022-12-01 01:27:51, 2022-12-01 10:42:45, 202...</td>\n",
       "    </tr>\n",
       "    <tr>\n",
       "      <th>172</th>\n",
       "      <td>https://edsource.org/</td>\n",
       "      <td>https://web.archive.org/web/20221201101040/htt...</td>\n",
       "      <td></td>\n",
       "      <td>[2022-12-01 10:10:40, 2022-12-01 10:44:02, 202...</td>\n",
       "    </tr>\n",
       "    <tr>\n",
       "      <th>182</th>\n",
       "      <td>https://eyethunews.co.za/</td>\n",
       "      <td>https://web.archive.org/web/20221201104341/htt...</td>\n",
       "      <td></td>\n",
       "      <td>[2022-12-01 10:43:41, 2022-12-02 13:33:38, 202...</td>\n",
       "    </tr>\n",
       "    <tr>\n",
       "      <th>190</th>\n",
       "      <td>https://fi2w.org/</td>\n",
       "      <td>https://web.archive.org/web/20221201055954/htt...</td>\n",
       "      <td></td>\n",
       "      <td>[2022-12-01 05:59:54, 2022-12-01 10:44:51, 202...</td>\n",
       "    </tr>\n",
       "    <tr>\n",
       "      <th>195</th>\n",
       "      <td>https://www.floridabulldog.org/</td>\n",
       "      <td>https://web.archive.org/web/20221201104433/htt...</td>\n",
       "      <td></td>\n",
       "      <td>[2022-12-01 10:44:33, 2022-12-01 22:42:47, 202...</td>\n",
       "    </tr>\n",
       "    <tr>\n",
       "      <th>243</th>\n",
       "      <td>https://infoamazonia.org/</td>\n",
       "      <td>https://web.archive.org/web/20221201083836/htt...</td>\n",
       "      <td></td>\n",
       "      <td>[2022-12-01 08:38:36, 2022-12-01 11:05:14, 202...</td>\n",
       "    </tr>\n",
       "    <tr>\n",
       "      <th>314</th>\n",
       "      <td>https://lokaantar.com/</td>\n",
       "      <td>https://web.archive.org/web/20221201111228/htt...</td>\n",
       "      <td></td>\n",
       "      <td>[2022-12-01 11:12:28, 2022-12-01 23:12:24, 202...</td>\n",
       "    </tr>\n",
       "    <tr>\n",
       "      <th>333</th>\n",
       "      <td>https://midnightsunak.com/</td>\n",
       "      <td>https://web.archive.org/web/20221201111436/htt...</td>\n",
       "      <td></td>\n",
       "      <td>[2022-12-01 11:14:36, 2022-12-01 23:13:39, 202...</td>\n",
       "    </tr>\n",
       "    <tr>\n",
       "      <th>336</th>\n",
       "      <td>https://perfectunion.us/</td>\n",
       "      <td>https://web.archive.org/web/20221201111448/htt...</td>\n",
       "      <td></td>\n",
       "      <td>[2022-12-01 11:14:48, 2022-12-01 18:21:59, 202...</td>\n",
       "    </tr>\n",
       "    <tr>\n",
       "      <th>361</th>\n",
       "      <td>https://www.newstatesman.com/uk</td>\n",
       "      <td>https://web.archive.org/web/20221202005902/htt...</td>\n",
       "      <td></td>\n",
       "      <td>[2022-12-02 00:59:02, 2022-12-02 22:56:31, 202...</td>\n",
       "    </tr>\n",
       "    <tr>\n",
       "      <th>367</th>\n",
       "      <td>https://metro.newschannelnebraska.com/</td>\n",
       "      <td>https://web.archive.org/web/20221201053952/htt...</td>\n",
       "      <td></td>\n",
       "      <td>[2022-12-01 05:39:52, 2022-12-01 11:34:35, 202...</td>\n",
       "    </tr>\n",
       "    <tr>\n",
       "      <th>390</th>\n",
       "      <td>https://oxpeckers.org/</td>\n",
       "      <td>https://web.archive.org/web/20221201113802/htt...</td>\n",
       "      <td></td>\n",
       "      <td>[2022-12-01 11:38:02, 2022-12-01 23:38:48, 202...</td>\n",
       "    </tr>\n",
       "    <tr>\n",
       "      <th>435</th>\n",
       "      <td>https://www.scsun-news.com/</td>\n",
       "      <td>\\n</td>\n",
       "      <td></td>\n",
       "      <td>[]</td>\n",
       "    </tr>\n",
       "    <tr>\n",
       "      <th>440</th>\n",
       "      <td>https://sjvwater.org/news/</td>\n",
       "      <td>https://web.archive.org/web/20221201114352/htt...</td>\n",
       "      <td></td>\n",
       "      <td>[2022-12-01 11:43:52, 2022-12-01 23:44:33, 202...</td>\n",
       "    </tr>\n",
       "    <tr>\n",
       "      <th>450</th>\n",
       "      <td>https://searchlightnm.org/</td>\n",
       "      <td>https://web.archive.org/web/20221201114241/htt...</td>\n",
       "      <td></td>\n",
       "      <td>[2022-12-01 11:42:41, 2022-12-01 23:43:00, 202...</td>\n",
       "    </tr>\n",
       "    <tr>\n",
       "      <th>511</th>\n",
       "      <td>https://theintercept.com/brasil/</td>\n",
       "      <td>https://web.archive.org/web/20221201000858/htt...</td>\n",
       "      <td></td>\n",
       "      <td>[2022-12-01 00:08:58, 2022-12-01 12:12:40, 202...</td>\n",
       "    </tr>\n",
       "    <tr>\n",
       "      <th>512</th>\n",
       "      <td>https://jaxtrib.org/</td>\n",
       "      <td>https://web.archive.org/web/20221201001014/htt...</td>\n",
       "      <td></td>\n",
       "      <td>[2022-12-01 00:10:14, 2022-12-01 12:13:15, 202...</td>\n",
       "    </tr>\n",
       "    <tr>\n",
       "      <th>513</th>\n",
       "      <td>https://theleftbench.com/</td>\n",
       "      <td>\\n</td>\n",
       "      <td></td>\n",
       "      <td>[]</td>\n",
       "    </tr>\n",
       "    <tr>\n",
       "      <th>525</th>\n",
       "      <td>https://thepublicsource.org/</td>\n",
       "      <td>https://web.archive.org/web/20221201001206/htt...</td>\n",
       "      <td></td>\n",
       "      <td>[2022-12-01 00:12:06, 2022-12-01 12:14:13, 202...</td>\n",
       "    </tr>\n",
       "    <tr>\n",
       "      <th>553</th>\n",
       "      <td>https://umdsbs.wordpress.com/</td>\n",
       "      <td>https://web.archive.org/web/20221201001452/htt...</td>\n",
       "      <td></td>\n",
       "      <td>[2022-12-01 00:14:52, 2022-12-01 12:19:31]</td>\n",
       "    </tr>\n",
       "    <tr>\n",
       "      <th>593</th>\n",
       "      <td>https://ycitynews.com/</td>\n",
       "      <td>https://web.archive.org/web/20221201010000/htt...</td>\n",
       "      <td></td>\n",
       "      <td>[2022-12-01 01:00:00, 2022-12-01 12:58:24, 202...</td>\n",
       "    </tr>\n",
       "    <tr>\n",
       "      <th>597</th>\n",
       "      <td>https://fiquemsabendo.substack.com/</td>\n",
       "      <td>https://web.archive.org/web/20221201004937/htt...</td>\n",
       "      <td></td>\n",
       "      <td>[2022-12-01 00:49:37, 2022-12-01 12:47:21, 202...</td>\n",
       "    </tr>\n",
       "    <tr>\n",
       "      <th>615</th>\n",
       "      <td>https://aamazonia.com.br/</td>\n",
       "      <td>https://web.archive.org/web/20221201042604/htt...</td>\n",
       "      <td></td>\n",
       "      <td>[2022-12-01 04:26:04]</td>\n",
       "    </tr>\n",
       "    <tr>\n",
       "      <th>621</th>\n",
       "      <td>https://arthasarokar.com/</td>\n",
       "      <td>https://web.archive.org/web/20221201005020/htt...</td>\n",
       "      <td></td>\n",
       "      <td>[2022-12-01 00:50:20, 2022-12-01 12:47:20, 202...</td>\n",
       "    </tr>\n",
       "    <tr>\n",
       "      <th>627</th>\n",
       "      <td>https://atlantaciviccircle.org/</td>\n",
       "      <td>https://web.archive.org/web/20221201005310/htt...</td>\n",
       "      <td></td>\n",
       "      <td>[2022-12-01 00:53:10, 2022-12-01 12:46:28, 202...</td>\n",
       "    </tr>\n",
       "    <tr>\n",
       "      <th>632</th>\n",
       "      <td>https://thebadgerproject.org/</td>\n",
       "      <td>https://web.archive.org/web/20221201005021/htt...</td>\n",
       "      <td></td>\n",
       "      <td>[2022-12-01 00:50:21, 2022-12-01 12:47:19]</td>\n",
       "    </tr>\n",
       "    <tr>\n",
       "      <th>633</th>\n",
       "      <td>https://baltimorebeat.com/</td>\n",
       "      <td>https://web.archive.org/web/20221201005000/htt...</td>\n",
       "      <td></td>\n",
       "      <td>[2022-12-01 00:50:00, 2022-12-01 12:47:07, 202...</td>\n",
       "    </tr>\n",
       "    <tr>\n",
       "      <th>634</th>\n",
       "      <td>https://baltimorefishbowl.com/</td>\n",
       "      <td>https://web.archive.org/web/20221201004938/htt...</td>\n",
       "      <td></td>\n",
       "      <td>[2022-12-01 00:49:38, 2022-12-01 12:48:10, 202...</td>\n",
       "    </tr>\n",
       "    <tr>\n",
       "      <th>651</th>\n",
       "      <td>https://bklyner.com/</td>\n",
       "      <td>https://web.archive.org/web/20221201051210/htt...</td>\n",
       "      <td></td>\n",
       "      <td>[2022-12-01 05:12:10, 2022-12-01 12:51:18, 202...</td>\n",
       "    </tr>\n",
       "  </tbody>\n",
       "</table>\n",
       "</div>"
      ],
      "text/plain": [
       "                                           site  \\\n",
       "5                      https://baahrakhari.com/   \n",
       "7                   http://fourteeneastmag.com/   \n",
       "30             https://www.airlinereporter.com/   \n",
       "32   https://www.dallasnews.com/espanol/al-dia/   \n",
       "34                       https://almapreta.com/   \n",
       "57                  https://www.binjonline.org/   \n",
       "71                      https://blackbygod.org/   \n",
       "84               https://breckenridgetexan.com/   \n",
       "101                    https://cnsmaryland.org/   \n",
       "111           https://atlanta.capitalbnews.org/   \n",
       "116                 https://www.bayjournal.com/   \n",
       "122        https://www.ciceroindependiente.com/   \n",
       "151                 https://decisiondeskhq.com/   \n",
       "152                       https://defector.com/   \n",
       "156                      https://denverite.com/   \n",
       "172                       https://edsource.org/   \n",
       "182                   https://eyethunews.co.za/   \n",
       "190                           https://fi2w.org/   \n",
       "195             https://www.floridabulldog.org/   \n",
       "243                   https://infoamazonia.org/   \n",
       "314                      https://lokaantar.com/   \n",
       "333                  https://midnightsunak.com/   \n",
       "336                    https://perfectunion.us/   \n",
       "361             https://www.newstatesman.com/uk   \n",
       "367      https://metro.newschannelnebraska.com/   \n",
       "390                      https://oxpeckers.org/   \n",
       "435                 https://www.scsun-news.com/   \n",
       "440                  https://sjvwater.org/news/   \n",
       "450                  https://searchlightnm.org/   \n",
       "511            https://theintercept.com/brasil/   \n",
       "512                        https://jaxtrib.org/   \n",
       "513                   https://theleftbench.com/   \n",
       "525                https://thepublicsource.org/   \n",
       "553               https://umdsbs.wordpress.com/   \n",
       "593                      https://ycitynews.com/   \n",
       "597         https://fiquemsabendo.substack.com/   \n",
       "615                   https://aamazonia.com.br/   \n",
       "621                   https://arthasarokar.com/   \n",
       "627             https://atlantaciviccircle.org/   \n",
       "632               https://thebadgerproject.org/   \n",
       "633                  https://baltimorebeat.com/   \n",
       "634              https://baltimorefishbowl.com/   \n",
       "651                        https://bklyner.com/   \n",
       "\n",
       "                                                output err  \\\n",
       "5    https://web.archive.org/web/20221201022046/htt...       \n",
       "7    https://web.archive.org/web/20221201100427/htt...       \n",
       "30   https://web.archive.org/web/20221201003605/htt...       \n",
       "32   https://web.archive.org/web/20221201100427/htt...       \n",
       "34   https://web.archive.org/web/20221201125643/htt...       \n",
       "57   https://web.archive.org/web/20221201100922/htt...       \n",
       "71   https://web.archive.org/web/20221201100848/htt...       \n",
       "84   https://web.archive.org/web/20221201101103/htt...       \n",
       "101  https://web.archive.org/web/20221201015235/htt...       \n",
       "111  https://web.archive.org/web/20221201082422/htt...       \n",
       "116  https://web.archive.org/web/20221201103853/htt...       \n",
       "122  https://web.archive.org/web/20221201103929/htt...       \n",
       "151  https://web.archive.org/web/20221201103907/htt...       \n",
       "152  https://web.archive.org/web/20221201010831/htt...       \n",
       "156  https://web.archive.org/web/20221201012751/htt...       \n",
       "172  https://web.archive.org/web/20221201101040/htt...       \n",
       "182  https://web.archive.org/web/20221201104341/htt...       \n",
       "190  https://web.archive.org/web/20221201055954/htt...       \n",
       "195  https://web.archive.org/web/20221201104433/htt...       \n",
       "243  https://web.archive.org/web/20221201083836/htt...       \n",
       "314  https://web.archive.org/web/20221201111228/htt...       \n",
       "333  https://web.archive.org/web/20221201111436/htt...       \n",
       "336  https://web.archive.org/web/20221201111448/htt...       \n",
       "361  https://web.archive.org/web/20221202005902/htt...       \n",
       "367  https://web.archive.org/web/20221201053952/htt...       \n",
       "390  https://web.archive.org/web/20221201113802/htt...       \n",
       "435                                                 \\n       \n",
       "440  https://web.archive.org/web/20221201114352/htt...       \n",
       "450  https://web.archive.org/web/20221201114241/htt...       \n",
       "511  https://web.archive.org/web/20221201000858/htt...       \n",
       "512  https://web.archive.org/web/20221201001014/htt...       \n",
       "513                                                 \\n       \n",
       "525  https://web.archive.org/web/20221201001206/htt...       \n",
       "553  https://web.archive.org/web/20221201001452/htt...       \n",
       "593  https://web.archive.org/web/20221201010000/htt...       \n",
       "597  https://web.archive.org/web/20221201004937/htt...       \n",
       "615  https://web.archive.org/web/20221201042604/htt...       \n",
       "621  https://web.archive.org/web/20221201005020/htt...       \n",
       "627  https://web.archive.org/web/20221201005310/htt...       \n",
       "632  https://web.archive.org/web/20221201005021/htt...       \n",
       "633  https://web.archive.org/web/20221201005000/htt...       \n",
       "634  https://web.archive.org/web/20221201004938/htt...       \n",
       "651  https://web.archive.org/web/20221201051210/htt...       \n",
       "\n",
       "                                   page_snapshot_times  \n",
       "5    [2022-12-01 02:20:46, 2022-12-01 19:58:24, 202...  \n",
       "7           [2022-12-01 10:04:27, 2022-12-01 22:03:12]  \n",
       "30          [2022-12-01 00:36:05, 2022-12-02 22:03:31]  \n",
       "32   [2022-12-01 10:04:27, 2022-12-01 22:04:06, 202...  \n",
       "34   [2022-12-01 12:56:43, 2022-12-01 22:03:11, 202...  \n",
       "57   [2022-12-01 10:09:22, 2022-12-01 22:08:51, 202...  \n",
       "71   [2022-12-01 10:08:48, 2022-12-01 22:09:08, 202...  \n",
       "84   [2022-12-01 10:11:03, 2022-12-02 10:10:32, 202...  \n",
       "101  [2022-12-01 01:52:35, 2022-12-01 10:14:25, 202...  \n",
       "111  [2022-12-01 08:24:22, 2022-12-01 10:11:47, 202...  \n",
       "116  [2022-12-01 10:38:53, 2022-12-01 22:35:51, 202...  \n",
       "122  [2022-12-01 10:39:29, 2022-12-01 22:36:00, 202...  \n",
       "151  [2022-12-01 10:39:07, 2022-12-01 14:25:20, 202...  \n",
       "152  [2022-12-01 01:08:31, 2022-12-02 09:17:51, 202...  \n",
       "156  [2022-12-01 01:27:51, 2022-12-01 10:42:45, 202...  \n",
       "172  [2022-12-01 10:10:40, 2022-12-01 10:44:02, 202...  \n",
       "182  [2022-12-01 10:43:41, 2022-12-02 13:33:38, 202...  \n",
       "190  [2022-12-01 05:59:54, 2022-12-01 10:44:51, 202...  \n",
       "195  [2022-12-01 10:44:33, 2022-12-01 22:42:47, 202...  \n",
       "243  [2022-12-01 08:38:36, 2022-12-01 11:05:14, 202...  \n",
       "314  [2022-12-01 11:12:28, 2022-12-01 23:12:24, 202...  \n",
       "333  [2022-12-01 11:14:36, 2022-12-01 23:13:39, 202...  \n",
       "336  [2022-12-01 11:14:48, 2022-12-01 18:21:59, 202...  \n",
       "361  [2022-12-02 00:59:02, 2022-12-02 22:56:31, 202...  \n",
       "367  [2022-12-01 05:39:52, 2022-12-01 11:34:35, 202...  \n",
       "390  [2022-12-01 11:38:02, 2022-12-01 23:38:48, 202...  \n",
       "435                                                 []  \n",
       "440  [2022-12-01 11:43:52, 2022-12-01 23:44:33, 202...  \n",
       "450  [2022-12-01 11:42:41, 2022-12-01 23:43:00, 202...  \n",
       "511  [2022-12-01 00:08:58, 2022-12-01 12:12:40, 202...  \n",
       "512  [2022-12-01 00:10:14, 2022-12-01 12:13:15, 202...  \n",
       "513                                                 []  \n",
       "525  [2022-12-01 00:12:06, 2022-12-01 12:14:13, 202...  \n",
       "553         [2022-12-01 00:14:52, 2022-12-01 12:19:31]  \n",
       "593  [2022-12-01 01:00:00, 2022-12-01 12:58:24, 202...  \n",
       "597  [2022-12-01 00:49:37, 2022-12-01 12:47:21, 202...  \n",
       "615                              [2022-12-01 04:26:04]  \n",
       "621  [2022-12-01 00:50:20, 2022-12-01 12:47:20, 202...  \n",
       "627  [2022-12-01 00:53:10, 2022-12-01 12:46:28, 202...  \n",
       "632         [2022-12-01 00:50:21, 2022-12-01 12:47:19]  \n",
       "633  [2022-12-01 00:50:00, 2022-12-01 12:47:07, 202...  \n",
       "634  [2022-12-01 00:49:38, 2022-12-01 12:48:10, 202...  \n",
       "651  [2022-12-01 05:12:10, 2022-12-01 12:51:18, 202...  "
      ]
     },
     "execution_count": 98,
     "metadata": {},
     "output_type": "execute_result"
    }
   ],
   "source": [
    "all_output_df.loc[lambda df: df['page_snapshot_times'].str.len() < 5]"
   ]
  },
  {
   "cell_type": "code",
   "execution_count": 118,
   "id": "cca9831b",
   "metadata": {},
   "outputs": [],
   "source": [
    "import numpy as np "
   ]
  },
  {
   "cell_type": "code",
   "execution_count": 137,
   "id": "0ed824b8",
   "metadata": {},
   "outputs": [
    {
     "data": {
      "image/png": "[encoded data removed]",
      "text/plain": [
       "<Figure size 400x200 with 1 Axes>"
      ]
     },
     "metadata": {},
     "output_type": "display_data"
    }
   ],
   "source": [
    "ax = (all_output_df['page_snapshot_times']\n",
    " .apply(lambda x: sorted(x))\n",
    " .apply(lambda x: list(map(lambda y: y[1] - y[0], zip(x[:-1], x[1:]))))\n",
    " .apply(np.mean)\n",
    " .apply(lambda x: x.total_seconds())\n",
    " .apply(lambda x: x/(60 * 60))\n",
    " .hist(bins=50, range=(0,10), figsize=(4, 2))\n",
    ")\n",
    "ax.set_ylabel('Counts')\n",
    "ax.set_xlabel('Num hours in-between snapshots')\n",
    "ax.grid(False)\n",
    "ax.spines['right'].set_visible(False)\n",
    "ax.spines['top'].set_visible(False)"
   ]
  },
  {
   "cell_type": "code",
   "execution_count": 138,
   "id": "55563c66",
   "metadata": {},
   "outputs": [],
   "source": [
    "site = 'https://washingtonpost.com'"
   ]
  },
  {
   "cell_type": "code",
   "execution_count": 140,
   "id": "f3e17346",
   "metadata": {},
   "outputs": [],
   "source": [
    "p = Popen([\n",
    "            \"waybackpack\", site,\n",
    "            \"--from-date\",\n",
    "            '20221202',\n",
    "            \"--to-date\",\n",
    "            '20221203',\n",
    "            \"--list\"\n",
    "    ], stdin=PIPE, stdout=PIPE, stderr=PIPE)\n",
    "output, err = p.communicate()"
   ]
  },
  {
   "cell_type": "code",
   "execution_count": 143,
   "id": "f8957b3b",
   "metadata": {},
   "outputs": [],
   "source": [
    "num_links = output.decode().split()"
   ]
  },
  {
   "cell_type": "code",
   "execution_count": 152,
   "id": "d4bbeeaa",
   "metadata": {},
   "outputs": [],
   "source": [
    "wp_urls = list(map(lambda x: x.split('/')[4], num_links))"
   ]
  },
  {
   "cell_type": "code",
   "execution_count": 153,
   "id": "71c58445",
   "metadata": {},
   "outputs": [],
   "source": [
    "import glob"
   ]
  },
  {
   "cell_type": "code",
   "execution_count": 155,
   "id": "18a84e11",
   "metadata": {},
   "outputs": [],
   "source": [
    "retrieved_files = glob.glob('../test-scraping-methods/use-wget/web.archive.org/web/*')"
   ]
  },
  {
   "cell_type": "code",
   "execution_count": 160,
   "id": "36427b44",
   "metadata": {},
   "outputs": [],
   "source": [
    "retrieved_files = list(filter(lambda x: not x.endswith('_'), retrieved_files))"
   ]
  },
  {
   "cell_type": "code",
   "execution_count": 163,
   "id": "6016a89a",
   "metadata": {},
   "outputs": [],
   "source": [
    "retrieved_files = list(map(lambda x: x.split('/')[-1], retrieved_files))"
   ]
  },
  {
   "cell_type": "code",
   "execution_count": 166,
   "id": "f511765e",
   "metadata": {},
   "outputs": [
    {
     "data": {
      "text/plain": [
       "246"
      ]
     },
     "execution_count": 166,
     "metadata": {},
     "output_type": "execute_result"
    }
   ],
   "source": [
    "len(set(wp_urls) - set(retrieved_files))"
   ]
  },
  {
   "cell_type": "code",
   "execution_count": 168,
   "id": "b9e26cd5",
   "metadata": {},
   "outputs": [
    {
     "data": {
      "text/plain": [
       "322"
      ]
     },
     "execution_count": 168,
     "metadata": {},
     "output_type": "execute_result"
    }
   ],
   "source": [
    "len(set(wp_urls))"
   ]
  },
  {
   "cell_type": "code",
   "execution_count": null,
   "id": "b53adc55",
   "metadata": {},
   "outputs": [],
   "source": []
  },
  {
   "cell_type": "code",
   "execution_count": null,
   "id": "8dbf091a",
   "metadata": {},
   "outputs": [],
   "source": []
  },
  {
   "cell_type": "code",
   "execution_count": null,
   "id": "bfd12275",
   "metadata": {},
   "outputs": [],
   "source": []
  },
  {
   "cell_type": "code",
   "execution_count": null,
   "id": "134636e3",
   "metadata": {},
   "outputs": [],
   "source": []
  },
  {
   "cell_type": "code",
   "execution_count": null,
   "id": "a7817315",
   "metadata": {},
   "outputs": [],
   "source": []
  },
  {
   "cell_type": "markdown",
   "id": "3a8a7cb2",
   "metadata": {},
   "source": [
    "# Parse the homepages"
   ]
  },
  {
   "cell_type": "code",
   "execution_count": 5,
   "id": "fc578dcf",
   "metadata": {},
   "outputs": [
    {
     "name": "stdout",
     "output_type": "stream",
     "text": [
      "\u001b[34m__pycache__\u001b[m\u001b[m/                     scrape_using_wget.py\r\n",
      "artifact_cache.csv               scrape_using_wget.sh\r\n",
      "download_data_git_archives.py    site-all.txt\r\n",
      "get_bounding_boxes_from_html.py  site-failed.txt\r\n",
      "\u001b[34mjs\u001b[m\u001b[m/\r\n"
     ]
    }
   ],
   "source": [
    "ls ../scripts/"
   ]
  },
  {
   "cell_type": "code",
   "execution_count": 35,
   "id": "d059caeb",
   "metadata": {},
   "outputs": [],
   "source": [
    "import seaborn as sns\n",
    "import json \n",
    "from playwright.async_api import async_playwright\n",
    "import sys\n",
    "sys.path.insert(0, '../scripts/')\n",
    "import get_bounding_boxes_from_html as bb\n",
    "from importlib import reload \n",
    "import os\n",
    "here = os.getcwd()\n",
    "import glob\n",
    "from datetime import datetime\n",
    "reload(bb)\n",
    "import matplotlib.pyplot as plt \n",
    "from matplotlib.patches import Rectangle\n",
    "from tqdm.auto import tqdm\n",
    "from difflib import SequenceMatcher\n",
    "from difflib import Differ\n",
    "import numpy as np "
   ]
  },
  {
   "cell_type": "code",
   "execution_count": 36,
   "id": "aa9d94bc",
   "metadata": {},
   "outputs": [],
   "source": [
    "playwright = await async_playwright().start()\n",
    "browser = await playwright.chromium.launch(headless = False)\n",
    "page = await browser.new_page()"
   ]
  },
  {
   "cell_type": "code",
   "execution_count": 22,
   "id": "f5a790bc",
   "metadata": {},
   "outputs": [],
   "source": [
    "wayback_scrape_dir = '../test-scraping-methods/use-wget/web-archive-5-days/web.archive.org'\n",
    "wayback_scrape_dir = '../wayback-scrape/web.archive.org'\n",
    "nyt_files = glob.glob(\n",
    "    wayback_scrape_dir + '/web/*[!_]/*'\n",
    ")"
   ]
  },
  {
   "cell_type": "code",
   "execution_count": 23,
   "id": "ce3ccf85",
   "metadata": {},
   "outputs": [],
   "source": [
    "nyt_files = sorted(nyt_files, key=lambda x: x.split('/')[-3])"
   ]
  },
  {
   "cell_type": "code",
   "execution_count": 30,
   "id": "4738fa31",
   "metadata": {},
   "outputs": [],
   "source": [
    "timestamp_idx = -2 # -3 if using https:/nytimes.com \n",
    "nyt_timestamps = list(map(lambda x: x.split('/')[timestamp_idx], nyt_files))\n",
    "nyt_timestamps = list(map(lambda x: datetime.strptime(x, '%Y%m%d%H%M%S'),  nyt_timestamps))"
   ]
  },
  {
   "cell_type": "code",
   "execution_count": 31,
   "id": "cc10ef02",
   "metadata": {},
   "outputs": [],
   "source": [
    "time_diffs = (pd.Series(list(map(lambda x: x[1] - x[0], zip(nyt_timestamps[:-1], nyt_timestamps[1:]))))\n",
    "#  .apply(lambda x: x.total_seconds() / (60 * 60))\n",
    ")"
   ]
  },
  {
   "cell_type": "code",
   "execution_count": 32,
   "id": "f182a165",
   "metadata": {},
   "outputs": [],
   "source": [
    "for f in nyt_files:\n",
    "    if not os.path.isdir(f) and (not os.path.basename(f) == 'index.html'):\n",
    "        dir_path = os.path.dirname(f)\n",
    "        new_path = os.path.join(dir_path, 'index.html')\n",
    "        os.rename(f, new_path)\n",
    "        os.makedirs(f)\n",
    "        os.rename(new_path, os.path.join(f, 'index.html'))"
   ]
  },
  {
   "cell_type": "code",
   "execution_count": 33,
   "id": "fd166cf7",
   "metadata": {},
   "outputs": [],
   "source": [
    "nyt_files = glob.glob(\n",
    "    wayback_scrape_dir + '/web/*[!_]/*nytimes.com/*'\n",
    ")"
   ]
  },
  {
   "cell_type": "code",
   "execution_count": 186,
   "id": "484eca62",
   "metadata": {},
   "outputs": [],
   "source": [
    "await page.route(\n",
    "    \"**/*\", \n",
    "    lambda route: route.abort() \n",
    "        if route.request.resource_type == \"image\" \n",
    "        else route.continue_() \n",
    ") \n",
    "\n",
    "await page.route(\n",
    "    \"https://web.archive.org*/*\", \n",
    "    lambda route: route.abort() \n",
    ")"
   ]
  },
  {
   "cell_type": "code",
   "execution_count": 187,
   "id": "4c65c693",
   "metadata": {},
   "outputs": [
    {
     "data": {
      "application/vnd.jupyter.widget-view+json": {
       "model_id": "13baabfe990847f793dc3f6f113f54a8",
       "version_major": 2,
       "version_minor": 0
      },
      "text/plain": [
       "  0%|          | 0/306 [00:00<?, ?it/s]"
      ]
     },
     "metadata": {},
     "output_type": "display_data"
    }
   ],
   "source": [
    "datestr_key_index = -3 # for https:/nytimes.com it's -4\n",
    "\n",
    "all_height_width = []\n",
    "all_bounding_box_dfs = []\n",
    "for nyt_file in tqdm(sorted(nyt_files, key=lambda x: x.split('/')[datestr_key_index])):\n",
    "    fp = os.path.join(here, nyt_file)\n",
    "    datestr = fp.split('/')[datestr_key_index]\n",
    "    file = f'file://{fp}'\n",
    "    \n",
    "    if datestr in retrieved_keys:\n",
    "        continue\n",
    "    \n",
    "    await page.goto(file, timeout=0)\n",
    "    # instantiate the model and the weights\n",
    "    \n",
    "    model_weights = await bb.load_model_files_and_helper_scripts(page)\n",
    "    await page.evaluate(bb.instantiate_model_js % model_weights)\n",
    "    await page.evaluate(bb.get_link_divs_js)\n",
    "    b = await bb.get_bounding_box_info(page)\n",
    "    \n",
    "    all_height_width.append({\n",
    "        'height': b['height'],\n",
    "        'width': b['width'],\n",
    "        'key': datestr\n",
    "    })\n",
    "    bounding_box_df = pd.DataFrame(b['bounding_boxes'])\n",
    "    bounding_box_df['page_width'] = b['width']\n",
    "    bounding_box_df['page_height'] = b['height']\n",
    "    bounding_box_df['datestr'] = datestr\n",
    "    all_bounding_box_dfs.append(bounding_box_df)"
   ]
  },
  {
   "cell_type": "code",
   "execution_count": 188,
   "id": "9dba7cc4",
   "metadata": {},
   "outputs": [],
   "source": [
    "files = sorted(nyt_files, key=lambda x: x.split('/')[-3])"
   ]
  },
  {
   "cell_type": "markdown",
   "id": "604473d6",
   "metadata": {},
   "source": [
    "### see if there are ways to cluster the files"
   ]
  },
  {
   "cell_type": "code",
   "execution_count": 146,
   "id": "0c158e71",
   "metadata": {},
   "outputs": [],
   "source": [
    "import html\n",
    "from IPython.display import display, HTML\n",
    "from scipy.stats import entropy "
   ]
  },
  {
   "cell_type": "code",
   "execution_count": 235,
   "id": "a2d49551",
   "metadata": {},
   "outputs": [],
   "source": [
    "all_height_width_df = pd.DataFrame(all_height_width)"
   ]
  },
  {
   "cell_type": "code",
   "execution_count": 308,
   "id": "527752bc",
   "metadata": {},
   "outputs": [
    {
     "data": {
      "image/png": "[encoded data removed]",
      "text/plain": [
       "<Figure size 432x288 with 1 Axes>"
      ]
     },
     "metadata": {
      "needs_background": "light"
     },
     "output_type": "display_data"
    }
   ],
   "source": [
    "plot_bounding_box_df(all_bounding_box_dfs[4])"
   ]
  },
  {
   "cell_type": "code",
   "execution_count": 37,
   "id": "e7fadd0e",
   "metadata": {},
   "outputs": [],
   "source": [
    "def cluster_df(bb_df, kmeans):\n",
    "    bin_counts = transform_input_for_clustering(bb_df)\n",
    "    return kmeans.predict(bin_counts.to_frame().T)[0]"
   ]
  },
  {
   "cell_type": "code",
   "execution_count": 324,
   "id": "8bf8a3ad",
   "metadata": {},
   "outputs": [],
   "source": [
    "all_width_bins = []\n",
    "for bb_df in all_bounding_box_dfs:\n",
    "    bin_counts = transform_input_for_clustering(bb_df, bins=bins)\n",
    "    all_width_bins.append(bin_counts.to_frame())"
   ]
  },
  {
   "cell_type": "code",
   "execution_count": 28,
   "id": "fa2eeabe",
   "metadata": {},
   "outputs": [],
   "source": [
    "from sklearn.cluster import KMeans"
   ]
  },
  {
   "cell_type": "code",
   "execution_count": 329,
   "id": "315b41f6",
   "metadata": {},
   "outputs": [],
   "source": [
    "all_width_bin_df = pd.concat(all_width_bins, axis=1).T.reset_index(drop=True)"
   ]
  },
  {
   "cell_type": "code",
   "execution_count": null,
   "id": "3011eb6f",
   "metadata": {},
   "outputs": [],
   "source": [
    "kmeans = KMeans(n_clusters=2).fit(all_width_bin_df.astype(int))"
   ]
  },
  {
   "cell_type": "code",
   "execution_count": 441,
   "id": "b0340fdb",
   "metadata": {},
   "outputs": [],
   "source": [
    "zeros = pd.DataFrame(all_bounding_box_dfs).assign(label=kmeans.labels_).loc[lambda df: df['label'] == 0][0].tolist()"
   ]
  },
  {
   "cell_type": "code",
   "execution_count": 448,
   "id": "f6d0c9d6",
   "metadata": {},
   "outputs": [
    {
     "data": {
      "image/png": "[encoded data removed]",
      "text/plain": [
       "<Figure size 432x288 with 1 Axes>"
      ]
     },
     "metadata": {
      "needs_background": "light"
     },
     "output_type": "display_data"
    }
   ],
   "source": [
    "plot_bounding_box_df(zeros[5])"
   ]
  },
  {
   "cell_type": "code",
   "execution_count": 484,
   "id": "5a3dc1b5",
   "metadata": {},
   "outputs": [],
   "source": [
    "## clustering seems like a more scalable option\n",
    "clusters = list(map(lambda x: cluster_df(x, kmeans), all_bounding_box_dfs))"
   ]
  },
  {
   "cell_type": "code",
   "execution_count": 226,
   "id": "471be00f",
   "metadata": {
    "scrolled": true
   },
   "outputs": [],
   "source": [
    "## grouping by entropy seems to work for mobile vs. homepage layout\n",
    "entropies = list(map(lambda df: df['width'].round().value_counts().pipe(entropy), all_bounding_box_dfs))"
   ]
  },
  {
   "cell_type": "code",
   "execution_count": 630,
   "id": "839d6bb8",
   "metadata": {},
   "outputs": [],
   "source": [
    "from sklearn.base import BaseEstimator, TransformerMixin\n",
    "from sklearn.pipeline import Pipeline"
   ]
  },
  {
   "cell_type": "code",
   "execution_count": 25,
   "id": "30f16a9f",
   "metadata": {},
   "outputs": [],
   "source": [
    "import sys\n",
    "sys.path.insert(0, '../scripts/page_exclusions/')"
   ]
  },
  {
   "cell_type": "code",
   "execution_count": 26,
   "id": "a7757870",
   "metadata": {},
   "outputs": [],
   "source": [
    "from model_utils import ClusterAssignment"
   ]
  },
  {
   "cell_type": "code",
   "execution_count": 31,
   "id": "b94ab358",
   "metadata": {},
   "outputs": [],
   "source": [
    "import pickle\n",
    "with open('../scripts/page_exclusions/nytimes_predictor.pkl', 'rb') as f:\n",
    "    predictor = pickle.load(f)"
   ]
  },
  {
   "cell_type": "code",
   "execution_count": null,
   "id": "aca44b9e",
   "metadata": {},
   "outputs": [],
   "source": [
    "predictor = ClusterAssignment(kmeans=kmeans, desired_cluster=1)"
   ]
  },
  {
   "cell_type": "code",
   "execution_count": 33,
   "id": "7b938336",
   "metadata": {},
   "outputs": [],
   "source": [
    "with open('../scripts/page_exclusions/nytimes_predictor.pkl', 'wb') as f:\n",
    "    pickle.dump(predictor, f)"
   ]
  },
  {
   "cell_type": "code",
   "execution_count": 485,
   "id": "376aa40c",
   "metadata": {},
   "outputs": [],
   "source": [
    "full_page_layout_dfs = list(filter(\n",
    "    lambda df: cluster_df(df, kmeans) == 1, all_bounding_box_dfs\n",
    "))\n",
    "\n",
    "full_page_layout_dfs = list(filter(\n",
    "    lambda df: df['href'].str.startswith('https://web.archive.org').any(), full_page_layout_dfs))\n",
    "\n",
    "full_page_layout_dfs = list(map(lambda df: \n",
    "    df.loc[lambda df: df['href'].str.startswith('https://web.archive.org')]\n",
    "      .assign(site_urls=lambda df: df['href'].str.split('/\\d{14}/').str.get(1))\n",
    ", full_page_layout_dfs))\n",
    "\n",
    "full_page_layout_dfs = sorted(full_page_layout_dfs, key=lambda x: x.iloc[0]['datestr'])"
   ]
  },
  {
   "cell_type": "code",
   "execution_count": 486,
   "id": "6bccd859",
   "metadata": {},
   "outputs": [],
   "source": [
    "wayback_links = pd.concat(full_page_layout_dfs)"
   ]
  },
  {
   "cell_type": "code",
   "execution_count": 488,
   "id": "d1867cac",
   "metadata": {
    "scrolled": true
   },
   "outputs": [
    {
     "data": {
      "text/plain": [
       "https://www.nytimes.com/live/2022/11/01/world/israel-election                                                     218\n",
       "https://www.nytimes.com/live/2022/11/01/us/elections-midterms                                                     217\n",
       "https://www.nytimes.com/2022/10/31/world/asia/seoul-halloween-crowd-accountability.html                           195\n",
       "https://theathletic.com/3740911/2022/10/31/bronny-james-recruitment-lebron-james/                                 191\n",
       "https://www.nytimes.com/2022/10/31/us/pelosi-home-attack-suspect-charged.html                                     188\n",
       "                                                                                                                 ... \n",
       "https://www.nytimes.com/live/2022/10/31/us/affirmative-action-supreme-court                                         1\n",
       "https://theathletic.com/3744129/2022/10/30/astros-bregman-world-series-horse-racing/                                1\n",
       "https://theathletic.com/3743734/2022/10/30/phillies-zack-wheeler-aaron-nola-world-series/                           1\n",
       "https://www.nytimes.com/live/2022/11/01/us/elections-midterms#midterm-elections-worrying-democrats-strategy         1\n",
       "https://www.nytimes.com/live/2022/11/01/us/elections-midterms#a-worrisome-pattern-is-re-emerging-for-pollsters      1\n",
       "Name: site_urls, Length: 242, dtype: int64"
      ]
     },
     "execution_count": 488,
     "metadata": {},
     "output_type": "execute_result"
    }
   ],
   "source": [
    "wayback_links['site_urls'].value_counts()"
   ]
  },
  {
   "cell_type": "code",
   "execution_count": 660,
   "id": "66ba3016",
   "metadata": {},
   "outputs": [],
   "source": [
    "t = 'https://www.nytimes.com/2022/10/31/world/asia/seoul-halloween-crowd-accountability.html'\n",
    "t = 'https://www.nytimes.com/live/2022/10/31/world/brazil-election-lula-bolsonaro'\n",
    "t = 'https://www.nytimes.com/live/2022/11/01/us/elections-midterms'"
   ]
  },
  {
   "cell_type": "code",
   "execution_count": 686,
   "id": "fcce2f14",
   "metadata": {},
   "outputs": [
    {
     "data": {
      "image/png": "[encoded data removed]",
      "text/plain": [
       "<Figure size 432x288 with 1 Axes>"
      ]
     },
     "metadata": {
      "needs_background": "light"
     },
     "output_type": "display_data"
    }
   ],
   "source": [
    "link_dfs = list(filter(lambda df: (df['site_urls'] == t).any(), full_page_layout_dfs))\n",
    "bb_df = link_dfs[25]\n",
    "plot_bounding_box_df(bb_df, t=t)"
   ]
  },
  {
   "cell_type": "code",
   "execution_count": 559,
   "id": "2c7f80eb",
   "metadata": {},
   "outputs": [
    {
     "data": {
      "text/html": [
       "<div>\n",
       "<style scoped>\n",
       "    .dataframe tbody tr th:only-of-type {\n",
       "        vertical-align: middle;\n",
       "    }\n",
       "\n",
       "    .dataframe tbody tr th {\n",
       "        vertical-align: top;\n",
       "    }\n",
       "\n",
       "    .dataframe thead th {\n",
       "        text-align: right;\n",
       "    }\n",
       "</style>\n",
       "<table border=\"1\" class=\"dataframe\">\n",
       "  <thead>\n",
       "    <tr style=\"text-align: right;\">\n",
       "      <th></th>\n",
       "      <th>href</th>\n",
       "      <th>link_text</th>\n",
       "      <th>is_article</th>\n",
       "      <th>x</th>\n",
       "      <th>y</th>\n",
       "      <th>width</th>\n",
       "      <th>height</th>\n",
       "      <th>all_text</th>\n",
       "      <th>page_width</th>\n",
       "      <th>page_height</th>\n",
       "      <th>datestr</th>\n",
       "      <th>site_urls</th>\n",
       "    </tr>\n",
       "  </thead>\n",
       "  <tbody>\n",
       "    <tr>\n",
       "      <th>8</th>\n",
       "      <td>https://web.archive.org/web/20221101001458/htt...</td>\n",
       "      <td>Brazil Election Oct. 31, 2022, 7:30 p.m. ET</td>\n",
       "      <td>True</td>\n",
       "      <td>700.078125</td>\n",
       "      <td>448.000000</td>\n",
       "      <td>133.578125</td>\n",
       "      <td>16.296875</td>\n",
       "      <td>Brazil Election Oct. 31, 2022, 7:30 p.m. ET</td>\n",
       "      <td>1280</td>\n",
       "      <td>9636</td>\n",
       "      <td>20221101001458</td>\n",
       "      <td>https://www.nytimes.com/live/2022/10/31/world/...</td>\n",
       "    </tr>\n",
       "    <tr>\n",
       "      <th>34</th>\n",
       "      <td>https://web.archive.org/web/20221101001458/htt...</td>\n",
       "      <td>LIVE Oct. 31, 2022, 7:30 p.m. ET Bolsonaro to...</td>\n",
       "      <td>True</td>\n",
       "      <td>45.906250</td>\n",
       "      <td>3974.546875</td>\n",
       "      <td>821.828125</td>\n",
       "      <td>455.359375</td>\n",
       "      <td>LIVE Oct. 31, 2022, 7:30 p.m. ET Bolsonaro to...</td>\n",
       "      <td>1280</td>\n",
       "      <td>9636</td>\n",
       "      <td>20221101001458</td>\n",
       "      <td>https://www.nytimes.com/live/2022/10/31/world/...</td>\n",
       "    </tr>\n",
       "  </tbody>\n",
       "</table>\n",
       "</div>"
      ],
      "text/plain": [
       "                                                 href  \\\n",
       "8   https://web.archive.org/web/20221101001458/htt...   \n",
       "34  https://web.archive.org/web/20221101001458/htt...   \n",
       "\n",
       "                                            link_text  is_article           x  \\\n",
       "8         Brazil Election Oct. 31, 2022, 7:30 p.m. ET        True  700.078125   \n",
       "34   LIVE Oct. 31, 2022, 7:30 p.m. ET Bolsonaro to...        True   45.906250   \n",
       "\n",
       "              y       width      height  \\\n",
       "8    448.000000  133.578125   16.296875   \n",
       "34  3974.546875  821.828125  455.359375   \n",
       "\n",
       "                                             all_text  page_width  \\\n",
       "8         Brazil Election Oct. 31, 2022, 7:30 p.m. ET        1280   \n",
       "34   LIVE Oct. 31, 2022, 7:30 p.m. ET Bolsonaro to...        1280   \n",
       "\n",
       "    page_height         datestr  \\\n",
       "8          9636  20221101001458   \n",
       "34         9636  20221101001458   \n",
       "\n",
       "                                            site_urls  \n",
       "8   https://www.nytimes.com/live/2022/10/31/world/...  \n",
       "34  https://www.nytimes.com/live/2022/10/31/world/...  "
      ]
     },
     "execution_count": 559,
     "metadata": {},
     "output_type": "execute_result"
    }
   ],
   "source": [
    "link_dfs[2].loc[lambda df: df['site_urls'] == t]"
   ]
  },
  {
   "cell_type": "code",
   "execution_count": null,
   "id": "ceae232e",
   "metadata": {},
   "outputs": [],
   "source": []
  },
  {
   "cell_type": "code",
   "execution_count": null,
   "id": "f69e7c99",
   "metadata": {},
   "outputs": [],
   "source": []
  },
  {
   "cell_type": "code",
   "execution_count": null,
   "id": "700db11a",
   "metadata": {},
   "outputs": [],
   "source": []
  },
  {
   "cell_type": "code",
   "execution_count": 498,
   "id": "92d258b5",
   "metadata": {},
   "outputs": [],
   "source": [
    "# quantify change between webpages"
   ]
  },
  {
   "cell_type": "code",
   "execution_count": 508,
   "id": "0f6a6f19",
   "metadata": {},
   "outputs": [],
   "source": [
    "import pickle\n",
    "with open('../bin/storysniffer/model_file.pkl', 'rb') as f:\n",
    "    lr_pipe = pickle.load(f)"
   ]
  },
  {
   "cell_type": "code",
   "execution_count": 517,
   "id": "b0ddbcbf",
   "metadata": {},
   "outputs": [],
   "source": [
    "import tldextract\n",
    "from urllib.parse import urlparse\n",
    "import re"
   ]
  },
  {
   "cell_type": "code",
   "execution_count": 526,
   "id": "0638d8cb",
   "metadata": {
    "scrolled": true
   },
   "outputs": [],
   "source": [
    "def predict_articles(bb_df):\n",
    "    return (\n",
    "        bb_df\n",
    "         .assign(domain = lambda df: df['site_urls'].apply(lambda x: tldextract.extract(x).domain))\n",
    "         .assign(subdomain = lambda df: df['site_urls'].apply(lambda x: tldextract.extract(x).subdomain))\n",
    "         .assign(path = lambda df: df['site_urls'].apply(lambda x: urlparse(x).path))\n",
    "         .assign(num_url_parts = lambda df: \n",
    "                         df['path']\n",
    "                             .apply(lambda x: re.split( '/|-', x))\n",
    "                             .apply(lambda x: len(list(filter(lambda y: y != '', x))))\n",
    "                )\n",
    "        .assign(is_article=lambda df: lr_pipe.predict(df['path']))\n",
    "    )"
   ]
  },
  {
   "cell_type": "code",
   "execution_count": 528,
   "id": "7ffd2110",
   "metadata": {},
   "outputs": [],
   "source": [
    "layout_df = predict_articles(full_page_layout_dfs[0])"
   ]
  },
  {
   "cell_type": "code",
   "execution_count": 530,
   "id": "e65504b2",
   "metadata": {},
   "outputs": [],
   "source": [
    "bb_df_pairs = list(zip(full_page_layout_dfs[:-1], full_page_layout_dfs[1:]))"
   ]
  },
  {
   "cell_type": "code",
   "execution_count": 592,
   "id": "4734bc18",
   "metadata": {},
   "outputs": [
    {
     "data": {
      "application/vnd.jupyter.widget-view+json": {
       "model_id": "b73ecf9b6fcc4e1ba1670963556df7ba",
       "version_major": 2,
       "version_minor": 0
      },
      "text/plain": [
       "  0%|          | 0/166 [00:00<?, ?it/s]"
      ]
     },
     "metadata": {},
     "output_type": "display_data"
    }
   ],
   "source": [
    "all_changes = []\n",
    "for bb_a, bb_b in tqdm(bb_df_pairs):\n",
    "    t = (\n",
    "        bb.normalize_x_y_height_width(bb_a)\n",
    "         [['site_urls', 'norm_x', 'norm_y', 'norm_width', 'norm_height']]\n",
    "         .merge(\n",
    "             bb.normalize_x_y_height_width(bb_b)[['site_urls', 'norm_x', 'norm_y', 'norm_width', 'norm_height']],\n",
    "             how='outer',\n",
    "             left_on='site_urls',\n",
    "             right_on='site_urls'\n",
    "         )\n",
    "         .assign(x_diff=lambda df: df['norm_x_y'] - df['norm_x_x'])\n",
    "         .assign(y_diff=lambda df: df['norm_y_y'] - df['norm_y_x']) \n",
    "         .assign(height_diff=lambda df: df['norm_height_y'] - df['norm_height_x'])\n",
    "         .assign(width_diff=lambda df: df['norm_width_y'] - df['norm_width_x'])     \n",
    "         .assign(is_added=lambda df: df['norm_x_x'].isnull())\n",
    "         .assign(is_deleted=lambda df: df['norm_x_y'].isnull())     \n",
    "         # \n",
    "         .pipe(lambda df: pd.concat([\n",
    "                    df[['x_diff', 'y_diff', 'height_diff', 'width_diff']].mean(),\n",
    "                    df[['is_added', 'is_deleted']].sum()\n",
    "                ]))\n",
    "    )\n",
    "    \n",
    "    t['time_diff'] = (\n",
    "        datetime.strptime(bb_b['datestr'].iloc[0], '%Y%m%d%H%M%S') - \n",
    "        datetime.strptime(bb_a['datestr'].iloc[0], '%Y%m%d%H%M%S')\n",
    "    )\n",
    "    all_changes.append(t)"
   ]
  },
  {
   "cell_type": "code",
   "execution_count": 609,
   "id": "e08c2bdc",
   "metadata": {},
   "outputs": [],
   "source": [
    "all_changes_df = pd.concat(all_changes, axis=1).T"
   ]
  },
  {
   "cell_type": "code",
   "execution_count": 612,
   "id": "fd4326cc",
   "metadata": {},
   "outputs": [
    {
     "data": {
      "text/plain": [
       "0.046949152542372884"
      ]
     },
     "execution_count": 612,
     "metadata": {},
     "output_type": "execute_result"
    }
   ],
   "source": [
    "all_changes_df['x_diff'].abs().max()"
   ]
  },
  {
   "cell_type": "code",
   "execution_count": 622,
   "id": "42c93d72",
   "metadata": {},
   "outputs": [],
   "source": [
    "from pytimeparse.timeparse import timeparse"
   ]
  },
  {
   "cell_type": "code",
   "execution_count": 627,
   "id": "3d32d2e5",
   "metadata": {},
   "outputs": [
    {
     "data": {
      "text/plain": [
       "datetime.datetime(2023, 2, 7, 0, 48, 45, 160403)"
      ]
     },
     "execution_count": 627,
     "metadata": {},
     "output_type": "execute_result"
    }
   ],
   "source": [
    "datetime.now()."
   ]
  },
  {
   "cell_type": "code",
   "execution_count": 623,
   "id": "2f9c27cc",
   "metadata": {},
   "outputs": [
    {
     "data": {
      "text/plain": [
       "2400"
      ]
     },
     "execution_count": 623,
     "metadata": {},
     "output_type": "execute_result"
    }
   ],
   "source": [
    "timeparse('40min')"
   ]
  },
  {
   "cell_type": "code",
   "execution_count": 619,
   "id": "3850f28d",
   "metadata": {},
   "outputs": [
    {
     "data": {
      "text/plain": [
       "'20221102235936'"
      ]
     },
     "execution_count": 619,
     "metadata": {},
     "output_type": "execute_result"
    }
   ],
   "source": [
    "'https://web.archive.org/web/20221102235936/nytimes.com'.split('/')[4]"
   ]
  },
  {
   "cell_type": "code",
   "execution_count": 616,
   "id": "14df94e0",
   "metadata": {},
   "outputs": [
    {
     "data": {
      "text/plain": [
       "x_diff                0.005507\n",
       "y_diff                0.033043\n",
       "height_diff           0.000435\n",
       "width_diff           -0.010725\n",
       "is_added                  13.0\n",
       "is_deleted                11.0\n",
       "time_diff      0 days 00:30:40\n",
       "Name: 88, dtype: object"
      ]
     },
     "execution_count": 616,
     "metadata": {},
     "output_type": "execute_result"
    }
   ],
   "source": [
    "all_changes_df.loc[lambda df: df['y_diff'].abs().fillna(0).idxmax()]"
   ]
  },
  {
   "cell_type": "code",
   "execution_count": 617,
   "id": "8d833941",
   "metadata": {},
   "outputs": [
    {
     "data": {
      "text/plain": [
       "x_diff                0.046949\n",
       "y_diff               -0.002881\n",
       "height_diff          -0.001017\n",
       "width_diff           -0.032542\n",
       "is_added                  17.0\n",
       "is_deleted                22.0\n",
       "time_diff      0 days 00:11:36\n",
       "Name: 137, dtype: object"
      ]
     },
     "execution_count": 617,
     "metadata": {},
     "output_type": "execute_result"
    }
   ],
   "source": [
    "all_changes_df.loc[lambda df: df['x_diff'].abs().fillna(0).idxmax()]"
   ]
  },
  {
   "cell_type": "code",
   "execution_count": null,
   "id": "67ba3239",
   "metadata": {},
   "outputs": [],
   "source": []
  },
  {
   "cell_type": "code",
   "execution_count": null,
   "id": "f9e999e4",
   "metadata": {},
   "outputs": [],
   "source": []
  },
  {
   "cell_type": "code",
   "execution_count": null,
   "id": "4483c777",
   "metadata": {},
   "outputs": [],
   "source": []
  },
  {
   "cell_type": "code",
   "execution_count": null,
   "id": "a6ea5356",
   "metadata": {},
   "outputs": [],
   "source": []
  },
  {
   "cell_type": "code",
   "execution_count": null,
   "id": "6fa71145",
   "metadata": {},
   "outputs": [],
   "source": []
  },
  {
   "cell_type": "code",
   "execution_count": null,
   "id": "7de2d1c5",
   "metadata": {},
   "outputs": [],
   "source": []
  },
  {
   "cell_type": "code",
   "execution_count": null,
   "id": "cd693320",
   "metadata": {},
   "outputs": [],
   "source": []
  },
  {
   "cell_type": "code",
   "execution_count": null,
   "id": "5ca80b31",
   "metadata": {},
   "outputs": [],
   "source": []
  },
  {
   "cell_type": "code",
   "execution_count": null,
   "id": "a3aa29b5",
   "metadata": {},
   "outputs": [],
   "source": []
  },
  {
   "cell_type": "code",
   "execution_count": null,
   "id": "02a38604",
   "metadata": {},
   "outputs": [],
   "source": []
  },
  {
   "cell_type": "markdown",
   "id": "e9d450e6",
   "metadata": {},
   "source": [
    "# Checks"
   ]
  },
  {
   "cell_type": "code",
   "execution_count": 357,
   "id": "8c667561",
   "metadata": {},
   "outputs": [],
   "source": [
    "await bb.add_visual_bounding_boxes(page)"
   ]
  },
  {
   "cell_type": "code",
   "execution_count": 533,
   "id": "f8627a8a",
   "metadata": {
    "scrolled": false
   },
   "outputs": [
    {
     "data": {
      "image/png": "[encoded data removed]",
      "text/plain": [
       "<Figure size 640x480 with 1 Axes>"
      ]
     },
     "metadata": {},
     "output_type": "display_data"
    }
   ],
   "source": [
    "bb_df = all_bounding_box_dfs[12]\n",
    "\n",
    "xmax = bb_df['x'].max()\n",
    "ymax = bb_df['y'].max()\n",
    "\n",
    "fig, ax = plt.subplots()\n",
    "ax.set_ylim((0, ymax))\n",
    "ax.set_xlim((0, xmax))\n",
    "\n",
    "for i, b in bb_df.iterrows():\n",
    "    ax.add_patch(Rectangle((b['x'], ymax - b['y'] - b['height']), b['width'], b['height'], alpha=.2))\n",
    "plt.show()"
   ]
  },
  {
   "cell_type": "code",
   "execution_count": null,
   "id": "bba09605",
   "metadata": {},
   "outputs": [],
   "source": []
  },
  {
   "cell_type": "code",
   "execution_count": null,
   "id": "e00994aa",
   "metadata": {},
   "outputs": [],
   "source": []
  },
  {
   "cell_type": "code",
   "execution_count": null,
   "id": "9881129a",
   "metadata": {},
   "outputs": [],
   "source": []
  },
  {
   "cell_type": "code",
   "execution_count": null,
   "id": "712938be",
   "metadata": {},
   "outputs": [],
   "source": []
  },
  {
   "cell_type": "code",
   "execution_count": null,
   "id": "24549770",
   "metadata": {},
   "outputs": [],
   "source": []
  },
  {
   "cell_type": "markdown",
   "id": "76466ae0",
   "metadata": {},
   "source": [
    "# Slush"
   ]
  },
  {
   "cell_type": "code",
   "execution_count": null,
   "id": "22c92187",
   "metadata": {},
   "outputs": [],
   "source": [
    "import sys\n",
    "sys.path.insert(0, '../scripts/')\n",
    "\n",
    "reload(m)\n",
    "from importlib import reload\n",
    "import merge_two_dirs as m\n",
    "\n",
    "! rm -r tmp/a\n",
    "! rm -r tmp/b\n",
    "\n",
    "! mkdir -p tmp/a/t\n",
    "! touch tmp/a/t/1.txt\n",
    "! touch tmp/a/t/2.txt\n",
    "! touch tmp/a/t/3.txt\n",
    "\n",
    "! mkdir -p tmp/b/t\n",
    "! touch tmp/b/t/3.txt\n",
    "! touch tmp/b/t/4.txt\n",
    "\n",
    "m.main_merge('tmp/a', 'tmp/b')\n",
    "ls tmp/b/t"
   ]
  },
  {
   "cell_type": "markdown",
   "id": "889f3d69",
   "metadata": {},
   "source": [
    "### Try to see if there are hard-coded differences in the HTML files"
   ]
  },
  {
   "cell_type": "code",
   "execution_count": null,
   "id": "88b61124",
   "metadata": {},
   "outputs": [],
   "source": [
    "file_a, file_b = files[0], files[1]\n",
    "\n",
    "html_a = open(file_a).read()\n",
    "\n",
    "html_b = open(file_b).read()\n",
    "\n",
    "SequenceMatcher(None, html_a, html_b).ratio()\n",
    "d = Differ()\n",
    "\n",
    "len(html_a)\n",
    "\n",
    "len(html_b)\n",
    "\n",
    "from lxml.html.diff import htmldiff\n",
    "doc1 = '''<p>Here is some less text.</p>'''\n",
    "doc2 = '''<p>Here is <b>a lot</b> of <i>text</i>.</p>'''\n",
    "# print(htmldiff(doc1, doc2))\n",
    "\n",
    "del_tag_front='<span style=\"background-color:rgba(255,0,0,0.3)\">'\n",
    "del_tag_back='</span>'\n",
    "ins_tag_front='<span style=\"background-color:rgba(0,255,0,0.3)\">'\n",
    "ins_tag_back='</span>'\n",
    "\n",
    "html_comp = htmldiff(html_a, html_b)\n",
    "# html_comp = html.escape(html_comp)\n",
    "\n",
    "escaped=False\n",
    "if not escaped:\n",
    "    html_comp = (html_comp\n",
    "     .replace('<ins>', ins_tag_front)\n",
    "     .replace('</ins>', ins_tag_back)\n",
    "     .replace('<del>', del_tag_front)\n",
    "     .replace('</del>', del_tag_back)\n",
    "    )\n",
    "else:\n",
    "    html_comp = (html_comp\n",
    "     .replace('&lt;ins&gt;', ins_tag_front)\n",
    "     .replace('&lt;/ins&gt;', ins_tag_back)\n",
    "     .replace('&lt;del&gt;', del_tag_front)\n",
    "     .replace('&lt;/del&gt;', del_tag_back)\n",
    "    )"
   ]
  }
 ],
 "metadata": {
  "hide_input": false,
  "kernelspec": {
   "display_name": "Python 3 (ipykernel)",
   "language": "python",
   "name": "python3"
  },
  "language_info": {
   "codemirror_mode": {
    "name": "ipython",
    "version": 3
   },
   "file_extension": ".py",
   "mimetype": "text/x-python",
   "name": "python",
   "nbconvert_exporter": "python",
   "pygments_lexer": "ipython3",
   "version": "3.9.12"
  }
 },
 "nbformat": 4,
 "nbformat_minor": 5
}
